{
 "cells": [
  {
   "cell_type": "code",
   "execution_count": 51,
   "id": "d5ffc136",
   "metadata": {},
   "outputs": [],
   "source": [
    "import pandas as pd\n",
    "import numpy as np\n",
    "from scipy.signal import correlate\n",
    "from scipy.stats import shapiro\n",
    "import plotly.express as px\n",
    "import plotly.graph_objects as go\n",
    "import sklearn\n",
    "from sklearn.pipeline import Pipeline\n",
    "from sklearn.preprocessing import OneHotEncoder, RobustScaler\n",
    "from sklearn.linear_model import LinearRegression\n",
    "from sklearn.svm import SVR\n",
    "from sklearn.model_selection import train_test_split, cross_validate, GridSearchCV\n",
    "from sklearn.metrics import make_scorer, mean_squared_error, r2_score, mean_absolute_error\n",
    "from sklearn.decomposition import PCA\n",
    "from sklearn.ensemble import RandomForestRegressor, GradientBoostingRegressor\n",
    "import tensorflow as tf\n",
    "import keras\n",
    "from keras import Sequential\n",
    "from keras.layers import Dense\n",
    "import statsmodels.api as sm\n",
    "from statsmodels.api import OLS\n",
    "\n",
    "pd.set_option('display.max_columns', None)"
   ]
  },
  {
   "cell_type": "code",
   "execution_count": 22,
   "id": "4c724950",
   "metadata": {},
   "outputs": [],
   "source": [
    "# Cases data\n",
    "cases = pd.read_csv(\"./cases_sold.csv\")\n",
    "\n",
    "# Inventory data\n",
    "inv = pd.read_csv(\"./inventory.csv\")\n",
    "inv['BRNCH_CD'] = inv['BRNCH_CD'].astype('string')\n",
    "inv['TEMP_ZONE'] = inv['TEMP_ZONE'].astype('string')\n",
    "inv['TEMP_ZONE'] = inv['TEMP_ZONE'].replace(['CLR', 'DRY', 'FRZ'], ['Refrigerated', 'Dry', 'Freezer'])\n",
    "inv = inv.groupby(['FISC_YR_WK', 'BRNCH_CD']).agg(sum).reset_index()\n",
    "\n",
    "# Spoilage data\n",
    "spoilage = pd.read_csv(\"./spoilage.csv\")\n",
    "spoilage['TEMP_ZONE'] = spoilage['TEMP_ZONE'].replace(['CLR', 'DRY', 'FRZ'], ['Refrigerated', 'Dry', 'Freezer'])\n",
    "spoilage = spoilage.groupby(['FISC_YR_WK', 'BRNCH_CD']).agg(sum).reset_index()\n",
    "\n",
    "# Slot utilization data\n",
    "slot_util = pd.read_csv(\"./Slot Utilization.csv\")\n",
    "slot_util['DATE_EXTRACT'] = pd.to_datetime(slot_util['DATE_EXTRACT'])\n",
    "\n",
    "# Remove rows with no capacity and where branches are equal to X1, X6, or X7 and not stock yards\n",
    "slot_util = slot_util[slot_util['CAPACITY'].notna()]\n",
    "slot_util = slot_util[~slot_util['BRNCH_CD'].isin(['X1', 'X6', 'X7'])]\n",
    "slot_util = slot_util[~slot_util['FULL_MARKET_NAME'].str.contains('STOCK YARDS')]\n",
    "slot_util_main = slot_util[slot_util['CAPACITY'] != 0]"
   ]
  },
  {
   "cell_type": "code",
   "execution_count": 23,
   "id": "391fd09b",
   "metadata": {},
   "outputs": [
    {
     "data": {
      "text/html": [
       "<div>\n",
       "<style scoped>\n",
       "    .dataframe tbody tr th:only-of-type {\n",
       "        vertical-align: middle;\n",
       "    }\n",
       "\n",
       "    .dataframe tbody tr th {\n",
       "        vertical-align: top;\n",
       "    }\n",
       "\n",
       "    .dataframe thead th {\n",
       "        text-align: right;\n",
       "    }\n",
       "</style>\n",
       "<table border=\"1\" class=\"dataframe\">\n",
       "  <thead>\n",
       "    <tr style=\"text-align: right;\">\n",
       "      <th></th>\n",
       "      <th>WAREHOUSE_LOCN</th>\n",
       "      <th>AREA</th>\n",
       "      <th>BRNCH_CD</th>\n",
       "      <th>FULL_MARKET_NAME</th>\n",
       "      <th>STORAGE_TYPE</th>\n",
       "      <th>PICK_TYPE</th>\n",
       "      <th>DATE_EXTRACT</th>\n",
       "      <th>SUM(PALLET_USED)</th>\n",
       "      <th>SUM(PALLET_POSITIONS)</th>\n",
       "      <th>CAPACITY</th>\n",
       "    </tr>\n",
       "  </thead>\n",
       "  <tbody>\n",
       "    <tr>\n",
       "      <th>0</th>\n",
       "      <td>2125</td>\n",
       "      <td>Freezer</td>\n",
       "      <td>5O</td>\n",
       "      <td>MANASSAS (5O, 2125)</td>\n",
       "      <td>Main Warehouse</td>\n",
       "      <td>Reserve</td>\n",
       "      <td>2022-05-16</td>\n",
       "      <td>9358.0</td>\n",
       "      <td>13044</td>\n",
       "      <td>0.717417</td>\n",
       "    </tr>\n",
       "    <tr>\n",
       "      <th>1</th>\n",
       "      <td>3148</td>\n",
       "      <td>Freezer</td>\n",
       "      <td>4H</td>\n",
       "      <td>SALT LAKE CITY (4H, 4118)</td>\n",
       "      <td>Off-Site Storage</td>\n",
       "      <td>Reserve</td>\n",
       "      <td>2022-05-03</td>\n",
       "      <td>NaN</td>\n",
       "      <td>0</td>\n",
       "      <td>NaN</td>\n",
       "    </tr>\n",
       "    <tr>\n",
       "      <th>2</th>\n",
       "      <td>2345</td>\n",
       "      <td>Refrigerated</td>\n",
       "      <td>3J</td>\n",
       "      <td>BISMARCK (3J, 2345)</td>\n",
       "      <td>Main Warehouse</td>\n",
       "      <td>Reserve</td>\n",
       "      <td>2021-10-19</td>\n",
       "      <td>477.0</td>\n",
       "      <td>905</td>\n",
       "      <td>0.527071</td>\n",
       "    </tr>\n",
       "    <tr>\n",
       "      <th>3</th>\n",
       "      <td>4135</td>\n",
       "      <td>Freezer</td>\n",
       "      <td>8T</td>\n",
       "      <td>PHOENIX SYSTEMS (8T, 4135)</td>\n",
       "      <td>Main Warehouse</td>\n",
       "      <td>Reserve</td>\n",
       "      <td>2021-10-08</td>\n",
       "      <td>1330.0</td>\n",
       "      <td>1694</td>\n",
       "      <td>0.785123</td>\n",
       "    </tr>\n",
       "    <tr>\n",
       "      <th>4</th>\n",
       "      <td>1106</td>\n",
       "      <td>Dry</td>\n",
       "      <td>8L</td>\n",
       "      <td>DETROIT (8L, 1106)</td>\n",
       "      <td>Main Warehouse</td>\n",
       "      <td>Pick</td>\n",
       "      <td>2021-05-12</td>\n",
       "      <td>5585.0</td>\n",
       "      <td>6243</td>\n",
       "      <td>0.894601</td>\n",
       "    </tr>\n",
       "    <tr>\n",
       "      <th>...</th>\n",
       "      <td>...</td>\n",
       "      <td>...</td>\n",
       "      <td>...</td>\n",
       "      <td>...</td>\n",
       "      <td>...</td>\n",
       "      <td>...</td>\n",
       "      <td>...</td>\n",
       "      <td>...</td>\n",
       "      <td>...</td>\n",
       "      <td>...</td>\n",
       "    </tr>\n",
       "    <tr>\n",
       "      <th>1138487</th>\n",
       "      <td>4118</td>\n",
       "      <td>Freezer</td>\n",
       "      <td>4H</td>\n",
       "      <td>SALT LAKE CITY (4H, 4118)</td>\n",
       "      <td>Virtual Slot</td>\n",
       "      <td>Pick</td>\n",
       "      <td>2022-01-28</td>\n",
       "      <td>NaN</td>\n",
       "      <td>0</td>\n",
       "      <td>NaN</td>\n",
       "    </tr>\n",
       "    <tr>\n",
       "      <th>1138488</th>\n",
       "      <td>2190</td>\n",
       "      <td>Freezer</td>\n",
       "      <td>2R</td>\n",
       "      <td>BUFFALO (2R, 2190)</td>\n",
       "      <td>Inactive</td>\n",
       "      <td>Reserve</td>\n",
       "      <td>2022-03-24</td>\n",
       "      <td>NaN</td>\n",
       "      <td>0</td>\n",
       "      <td>NaN</td>\n",
       "    </tr>\n",
       "    <tr>\n",
       "      <th>1138489</th>\n",
       "      <td>2190</td>\n",
       "      <td>Refrigerated</td>\n",
       "      <td>2R</td>\n",
       "      <td>BUFFALO (2R, 2190)</td>\n",
       "      <td>Inactive</td>\n",
       "      <td>Reserve</td>\n",
       "      <td>2022-10-24</td>\n",
       "      <td>NaN</td>\n",
       "      <td>0</td>\n",
       "      <td>NaN</td>\n",
       "    </tr>\n",
       "    <tr>\n",
       "      <th>1138490</th>\n",
       "      <td>3310</td>\n",
       "      <td>Freezer</td>\n",
       "      <td>9J</td>\n",
       "      <td>BILLINGS (9J, 3310)</td>\n",
       "      <td>Inactive</td>\n",
       "      <td>Reserve</td>\n",
       "      <td>2022-09-15</td>\n",
       "      <td>NaN</td>\n",
       "      <td>0</td>\n",
       "      <td>NaN</td>\n",
       "    </tr>\n",
       "    <tr>\n",
       "      <th>1138491</th>\n",
       "      <td>4150</td>\n",
       "      <td>Dry</td>\n",
       "      <td>4U</td>\n",
       "      <td>CORONA (4U, 4150)</td>\n",
       "      <td>Virtual Slot</td>\n",
       "      <td>Reserve</td>\n",
       "      <td>2022-05-17</td>\n",
       "      <td>1.0</td>\n",
       "      <td>0</td>\n",
       "      <td>0.000000</td>\n",
       "    </tr>\n",
       "  </tbody>\n",
       "</table>\n",
       "<p>1138492 rows × 10 columns</p>\n",
       "</div>"
      ],
      "text/plain": [
       "         WAREHOUSE_LOCN          AREA BRNCH_CD            FULL_MARKET_NAME  \\\n",
       "0                  2125       Freezer       5O         MANASSAS (5O, 2125)   \n",
       "1                  3148       Freezer       4H   SALT LAKE CITY (4H, 4118)   \n",
       "2                  2345  Refrigerated       3J         BISMARCK (3J, 2345)   \n",
       "3                  4135       Freezer       8T  PHOENIX SYSTEMS (8T, 4135)   \n",
       "4                  1106           Dry       8L          DETROIT (8L, 1106)   \n",
       "...                 ...           ...      ...                         ...   \n",
       "1138487            4118       Freezer       4H   SALT LAKE CITY (4H, 4118)   \n",
       "1138488            2190       Freezer       2R          BUFFALO (2R, 2190)   \n",
       "1138489            2190  Refrigerated       2R          BUFFALO (2R, 2190)   \n",
       "1138490            3310       Freezer       9J         BILLINGS (9J, 3310)   \n",
       "1138491            4150           Dry       4U           CORONA (4U, 4150)   \n",
       "\n",
       "             STORAGE_TYPE PICK_TYPE DATE_EXTRACT  SUM(PALLET_USED)  \\\n",
       "0          Main Warehouse   Reserve   2022-05-16            9358.0   \n",
       "1        Off-Site Storage   Reserve   2022-05-03               NaN   \n",
       "2          Main Warehouse   Reserve   2021-10-19             477.0   \n",
       "3          Main Warehouse   Reserve   2021-10-08            1330.0   \n",
       "4          Main Warehouse      Pick   2021-05-12            5585.0   \n",
       "...                   ...       ...          ...               ...   \n",
       "1138487      Virtual Slot      Pick   2022-01-28               NaN   \n",
       "1138488          Inactive   Reserve   2022-03-24               NaN   \n",
       "1138489          Inactive   Reserve   2022-10-24               NaN   \n",
       "1138490          Inactive   Reserve   2022-09-15               NaN   \n",
       "1138491      Virtual Slot   Reserve   2022-05-17               1.0   \n",
       "\n",
       "         SUM(PALLET_POSITIONS)  CAPACITY  \n",
       "0                        13044  0.717417  \n",
       "1                            0       NaN  \n",
       "2                          905  0.527071  \n",
       "3                         1694  0.785123  \n",
       "4                         6243  0.894601  \n",
       "...                        ...       ...  \n",
       "1138487                      0       NaN  \n",
       "1138488                      0       NaN  \n",
       "1138489                      0       NaN  \n",
       "1138490                      0       NaN  \n",
       "1138491                      0  0.000000  \n",
       "\n",
       "[1138492 rows x 10 columns]"
      ]
     },
     "execution_count": 23,
     "metadata": {},
     "output_type": "execute_result"
    }
   ],
   "source": [
    "pd.read_csv(\"./Slot Utilization.csv\")\n"
   ]
  },
  {
   "cell_type": "code",
   "execution_count": 24,
   "id": "12cef6df",
   "metadata": {},
   "outputs": [
    {
     "data": {
      "text/html": [
       "<div>\n",
       "<style scoped>\n",
       "    .dataframe tbody tr th:only-of-type {\n",
       "        vertical-align: middle;\n",
       "    }\n",
       "\n",
       "    .dataframe tbody tr th {\n",
       "        vertical-align: top;\n",
       "    }\n",
       "\n",
       "    .dataframe thead th {\n",
       "        text-align: right;\n",
       "    }\n",
       "</style>\n",
       "<table border=\"1\" class=\"dataframe\">\n",
       "  <thead>\n",
       "    <tr style=\"text-align: right;\">\n",
       "      <th></th>\n",
       "      <th>FISC_YR_WK</th>\n",
       "      <th>BRNCH_CD</th>\n",
       "      <th>MAX_PICK_POSITIONS</th>\n",
       "      <th>MAX_PERC_PICK</th>\n",
       "    </tr>\n",
       "  </thead>\n",
       "  <tbody>\n",
       "    <tr>\n",
       "      <th>0</th>\n",
       "      <td>20216</td>\n",
       "      <td>2G</td>\n",
       "      <td>8782.0</td>\n",
       "      <td>0.488894</td>\n",
       "    </tr>\n",
       "    <tr>\n",
       "      <th>1</th>\n",
       "      <td>20216</td>\n",
       "      <td>2I</td>\n",
       "      <td>15441.0</td>\n",
       "      <td>0.364235</td>\n",
       "    </tr>\n",
       "    <tr>\n",
       "      <th>2</th>\n",
       "      <td>20216</td>\n",
       "      <td>2J</td>\n",
       "      <td>10002.0</td>\n",
       "      <td>0.429031</td>\n",
       "    </tr>\n",
       "    <tr>\n",
       "      <th>3</th>\n",
       "      <td>20216</td>\n",
       "      <td>2L</td>\n",
       "      <td>4697.0</td>\n",
       "      <td>0.465510</td>\n",
       "    </tr>\n",
       "    <tr>\n",
       "      <th>4</th>\n",
       "      <td>20216</td>\n",
       "      <td>2N</td>\n",
       "      <td>2367.0</td>\n",
       "      <td>0.328841</td>\n",
       "    </tr>\n",
       "    <tr>\n",
       "      <th>...</th>\n",
       "      <td>...</td>\n",
       "      <td>...</td>\n",
       "      <td>...</td>\n",
       "      <td>...</td>\n",
       "    </tr>\n",
       "    <tr>\n",
       "      <th>6979</th>\n",
       "      <td>202352</td>\n",
       "      <td>9L</td>\n",
       "      <td>7133.0</td>\n",
       "      <td>0.458655</td>\n",
       "    </tr>\n",
       "    <tr>\n",
       "      <th>6980</th>\n",
       "      <td>202352</td>\n",
       "      <td>9O</td>\n",
       "      <td>4521.0</td>\n",
       "      <td>0.350519</td>\n",
       "    </tr>\n",
       "    <tr>\n",
       "      <th>6981</th>\n",
       "      <td>202352</td>\n",
       "      <td>9P</td>\n",
       "      <td>10355.0</td>\n",
       "      <td>0.388031</td>\n",
       "    </tr>\n",
       "    <tr>\n",
       "      <th>6982</th>\n",
       "      <td>202352</td>\n",
       "      <td>9Q</td>\n",
       "      <td>8011.0</td>\n",
       "      <td>0.409477</td>\n",
       "    </tr>\n",
       "    <tr>\n",
       "      <th>6983</th>\n",
       "      <td>202352</td>\n",
       "      <td>9U</td>\n",
       "      <td>8033.0</td>\n",
       "      <td>0.421348</td>\n",
       "    </tr>\n",
       "  </tbody>\n",
       "</table>\n",
       "<p>6984 rows × 4 columns</p>\n",
       "</div>"
      ],
      "text/plain": [
       "      FISC_YR_WK BRNCH_CD  MAX_PICK_POSITIONS  MAX_PERC_PICK\n",
       "0          20216       2G              8782.0       0.488894\n",
       "1          20216       2I             15441.0       0.364235\n",
       "2          20216       2J             10002.0       0.429031\n",
       "3          20216       2L              4697.0       0.465510\n",
       "4          20216       2N              2367.0       0.328841\n",
       "...          ...      ...                 ...            ...\n",
       "6979      202352       9L              7133.0       0.458655\n",
       "6980      202352       9O              4521.0       0.350519\n",
       "6981      202352       9P             10355.0       0.388031\n",
       "6982      202352       9Q              8011.0       0.409477\n",
       "6983      202352       9U              8033.0       0.421348\n",
       "\n",
       "[6984 rows x 4 columns]"
      ]
     },
     "execution_count": 24,
     "metadata": {},
     "output_type": "execute_result"
    }
   ],
   "source": [
    "# Total number of pallet positions used by day and branch \n",
    "brnchs = slot_util.groupby(['DATE_EXTRACT', 'BRNCH_CD']).agg(np.sum).reset_index()\n",
    "brnchs['CAPACITY'] = brnchs['SUM(PALLET_USED)'] / brnchs['SUM(PALLET_POSITIONS)']\n",
    "brnchs = brnchs[['DATE_EXTRACT', 'BRNCH_CD', 'SUM(PALLET_USED)']]\n",
    "brnchs = brnchs.rename(columns={'SUM(PALLET_USED)':'TOTAL_PALLETS_USED'})\n",
    "\n",
    "# Max number and percentage of pallet positions that are virtual slots by week and branch\n",
    "virt = slot_util.groupby(['DATE_EXTRACT', 'STORAGE_TYPE', 'BRNCH_CD']).agg(np.sum).reset_index()\n",
    "virt = virt.merge(brnchs, how='left', on=['DATE_EXTRACT', 'BRNCH_CD'])\n",
    "virt = virt[['DATE_EXTRACT', 'STORAGE_TYPE', 'BRNCH_CD', 'SUM(PALLET_USED)', 'TOTAL_PALLETS_USED']]\n",
    "virt = virt.rename(columns={'SUM(PALLET_USED)':'VIRTUAL_SLOT_POSITIONS'})\n",
    "virt = virt[virt['STORAGE_TYPE'] == 'Virtual Slot']\n",
    "virt['PERC_VIRTUAL_SLOTS'] = virt['VIRTUAL_SLOT_POSITIONS'] / virt['TOTAL_PALLETS_USED']\n",
    "fw_virt = virt['DATE_EXTRACT'].apply(lambda a : int(str(a.year) + str(a.week)))\n",
    "virt['FISC_YR_WK'] = fw_virt\n",
    "virt = virt.groupby(['FISC_YR_WK', 'BRNCH_CD']).agg(max).reset_index()\n",
    "virt = virt[['FISC_YR_WK', 'BRNCH_CD', 'VIRTUAL_SLOT_POSITIONS', 'PERC_VIRTUAL_SLOTS']]\n",
    "virt = virt.rename(columns={'VIRTUAL_SLOT_POSITIONS':'MAX_VIRTUAL_SLOT_POSITIONS', \n",
    "                            'PERC_VIRTUAL_SLOTS':'MAX_PERC_VIRTUAL_SLOTS'})\n",
    "\n",
    "# Max number and percentage of slots that are actively being picked by week and branch\n",
    "pick = slot_util.groupby(['DATE_EXTRACT', 'PICK_TYPE', 'BRNCH_CD']).agg(np.sum).reset_index()\n",
    "pick = pick.merge(brnchs, how='left', on=['DATE_EXTRACT', 'BRNCH_CD'])\n",
    "pick = pick[['DATE_EXTRACT', 'PICK_TYPE', 'BRNCH_CD', 'SUM(PALLET_USED)', 'TOTAL_PALLETS_USED']]\n",
    "pick = pick.rename(columns={'SUM(PALLET_USED)':'PICK_POSITIONS'})\n",
    "pick = pick[pick['PICK_TYPE'] == 'Pick']\n",
    "pick['PERC_PICK'] = pick['PICK_POSITIONS'] / pick['TOTAL_PALLETS_USED']\n",
    "fw_pick = pick['DATE_EXTRACT'].apply(lambda a : int(str(a.year) + str(a.week)))\n",
    "pick['FISC_YR_WK'] = fw_pick\n",
    "pick = pick.groupby(['FISC_YR_WK', 'BRNCH_CD']).agg(max).reset_index()\n",
    "pick = pick[['FISC_YR_WK', 'BRNCH_CD', 'PICK_POSITIONS', 'PERC_PICK']]\n",
    "pick = pick.rename(columns={'PICK_POSITIONS':'MAX_PICK_POSITIONS', \n",
    "                            'PERC_PICK':'MAX_PERC_PICK'})\n",
    "pick"
   ]
  },
  {
   "cell_type": "markdown",
   "id": "b8704044",
   "metadata": {},
   "source": [
    "# Updated Merging\n",
    "### Slot utilization aggregated to weekly first and then merged with other tables afterwards.\n",
    "### Spoilage data not included because the model performs best without it and we're able to use more data\n",
    "### One row corresponds to average capacity over the week for a single branch along with cases sold, inventory, and other derived features"
   ]
  },
  {
   "cell_type": "code",
   "execution_count": 25,
   "id": "88087636",
   "metadata": {},
   "outputs": [],
   "source": [
    "# Adding fiscal year and week to slot_util data to allow merging with other tables\n",
    "fw = slot_util['DATE_EXTRACT'].apply(lambda a : int(str(a.year) + str(a.week)))\n",
    "slot_util['FISC_YR_WK'] = fw\n",
    "slot_util = slot_util.groupby(['BRNCH_CD', 'FISC_YR_WK', 'DATE_EXTRACT']).agg(sum).reset_index()\n",
    "slot_util = slot_util.drop('DATE_EXTRACT', axis=1)\n",
    "slot_util = slot_util.groupby(['BRNCH_CD', 'FISC_YR_WK']).agg(np.mean).reset_index()\n",
    "slot_util['CAPACITY'] = slot_util['SUM(PALLET_USED)'] / slot_util['SUM(PALLET_POSITIONS)']\n",
    "\n",
    "# Merging slot utilization by week and branch\n",
    "merged = slot_util.merge(cases, how='inner', on=['BRNCH_CD', 'FISC_YR_WK'], validate=\"m:1\")\n",
    "merged['DIV_NBR'] = merged['DIV_NBR'].fillna(0)\n",
    "\n",
    "# Merge with inventory data on branch, week, and area\n",
    "merged = merged.merge(inv, how='inner', left_on=['BRNCH_CD', 'FISC_YR_WK'], \n",
    "                      right_on=['BRNCH_CD', 'FISC_YR_WK'], validate=\"m:1\")\n",
    "merged.head()\n",
    "\n",
    "# Merge with derived virtual slot features\n",
    "merged = merged.merge(virt, how='inner', on=['BRNCH_CD', 'FISC_YR_WK'])\n",
    "\n",
    "# Merge with derived pick slot features\n",
    "merged = merged.merge(pick, how='inner', on=['BRNCH_CD', 'FISC_YR_WK'])\n",
    "\n",
    "# Dropping redundant or useless columns\n",
    "final = merged.drop(['WAREHOUSE_LOCN', 'DIV_NBR', 'DIV_NM', 'SUM(PALLET_USED)', 'SUM(PALLET_POSITIONS)'], axis=1)"
   ]
  },
  {
   "cell_type": "code",
   "execution_count": 35,
   "id": "2a3c5886",
   "metadata": {},
   "outputs": [
    {
     "name": "stdout",
     "output_type": "stream",
     "text": [
      "  BRNCH_CD  FISC_YR_WK  CAPACITY   CASES_SOLD  MAX_WKLY_INVENTORY  \\\n",
      "0       2G      202110  0.832141  125766.5582       504549.312504   \n",
      "1       2G      202111  0.825156  130699.0329       505326.354171   \n",
      "2       2G      202112  0.823667  131386.2356       494993.050005   \n",
      "3       2G      202113  0.825510  136079.6219       497737.160838   \n",
      "4       2G      202114  0.836580  129391.5811       514711.669166   \n",
      "\n",
      "   MAX_VIRTUAL_SLOT_POSITIONS  MAX_PERC_VIRTUAL_SLOTS  MAX_PICK_POSITIONS  \\\n",
      "0                        38.0                0.002127              8892.0   \n",
      "1                        37.0                0.002073              8809.0   \n",
      "2                        35.0                0.001957              8746.0   \n",
      "3                        39.0                0.002139              8792.0   \n",
      "4                        36.0                0.001988              8797.0   \n",
      "\n",
      "   MAX_PERC_PICK  \n",
      "0       0.487828  \n",
      "1       0.490418  \n",
      "2       0.489869  \n",
      "3       0.482123  \n",
      "4       0.479388  \n"
     ]
    }
   ],
   "source": [
    "print(final.head())\n",
    "final.to_csv(\"aggregated_new.csv\", index=False)"
   ]
  },
  {
   "cell_type": "markdown",
   "id": "206ac4cf",
   "metadata": {},
   "source": [
    "# Updated Cross Correlation Using Weekly Data"
   ]
  },
  {
   "cell_type": "code",
   "execution_count": 38,
   "id": "1979c43b",
   "metadata": {},
   "outputs": [
    {
     "data": {
      "application/vnd.plotly.v1+json": {
       "config": {
        "plotlyServerURL": "https://plot.ly"
       },
       "data": [
        {
         "hovertemplate": "Lag=%{x}<br>Correlation Coef=%{y}<extra></extra>",
         "legendgroup": "",
         "line": {
          "color": "#636efa",
          "dash": "solid"
         },
         "marker": {
          "symbol": "circle"
         },
         "mode": "lines",
         "name": "",
         "orientation": "v",
         "showlegend": false,
         "type": "scatter",
         "x": [
          -85,
          -84,
          -83,
          -82,
          -81,
          -80,
          -79,
          -78,
          -77,
          -76,
          -75,
          -74,
          -73,
          -72,
          -71,
          -70,
          -69,
          -68,
          -67,
          -66,
          -65,
          -64,
          -63,
          -62,
          -61,
          -60,
          -59,
          -58,
          -57,
          -56,
          -55,
          -54,
          -53,
          -52,
          -51,
          -50,
          -49,
          -48,
          -47,
          -46,
          -45,
          -44,
          -43,
          -42,
          -41,
          -40,
          -39,
          -38,
          -37,
          -36,
          -35,
          -34,
          -33,
          -32,
          -31,
          -30,
          -29,
          -28,
          -27,
          -26,
          -25,
          -24,
          -23,
          -22,
          -21,
          -20,
          -19,
          -18,
          -17,
          -16,
          -15,
          -14,
          -13,
          -12,
          -11,
          -10,
          -9,
          -8,
          -7,
          -6,
          -5,
          -4,
          -3,
          -2,
          -1,
          0,
          1,
          2,
          3,
          4,
          5,
          6,
          7,
          8,
          9,
          10,
          11,
          12,
          13,
          14,
          15,
          16,
          17,
          18,
          19,
          20,
          21,
          22,
          23,
          24,
          25,
          26,
          27,
          28,
          29,
          30,
          31,
          32,
          33,
          34,
          35,
          36,
          37,
          38,
          39,
          40,
          41,
          42,
          43,
          44,
          45,
          46,
          47,
          48,
          49,
          50,
          51,
          52,
          53,
          54,
          55,
          56,
          57,
          58,
          59,
          60,
          61,
          62,
          63,
          64,
          65,
          66,
          67,
          68,
          69,
          70,
          71,
          72,
          73,
          74,
          75,
          76,
          77,
          78,
          79,
          80,
          81,
          82,
          83,
          84,
          85
         ],
         "xaxis": "x",
         "y": [
          0.022053976711560275,
          0.031072455020777507,
          0.03475438804279282,
          0.024256318411511355,
          0.016766952809008626,
          0.018531068949027226,
          -0.012695667979429805,
          -0.011248322845234061,
          -0.016007225207442004,
          -0.019037277669580542,
          -0.04078677801435665,
          -0.05556588081444002,
          -0.037740735805966666,
          -0.04542929579973277,
          -0.05598157046967643,
          -0.06585010114871616,
          -0.05548809242373436,
          -0.05460674447927195,
          -0.06340725299937904,
          -0.07777421525861403,
          -0.0949704947306512,
          -0.10043306944063622,
          -0.11614197623275258,
          -0.10378409463857177,
          -0.11653254905243537,
          -0.11227839555204,
          -0.10579435693892195,
          -0.10401811451955946,
          -0.11349062162158503,
          -0.14058320239272404,
          -0.17011053326429293,
          -0.18817664146475374,
          -0.20072653591076256,
          -0.21214676524278056,
          -0.22525471471449562,
          -0.24184447737708142,
          -0.2486645115333453,
          -0.24512903630009672,
          -0.2535064103721279,
          -0.26613437691448344,
          -0.26836495514328945,
          -0.2744100272916089,
          -0.27136341074359993,
          -0.2568698076970371,
          -0.23968194810506582,
          -0.22404595315104983,
          -0.21320812636457637,
          -0.2124457588467771,
          -0.2039323860408424,
          -0.23729876938948483,
          -0.2519260734308331,
          -0.24841150081239546,
          -0.25093445358854705,
          -0.23761204362687538,
          -0.2516074628523145,
          -0.22273819436174436,
          -0.18280458407801567,
          -0.13782724446593891,
          -0.09001003524898948,
          -0.05375314979303797,
          0.004497323656612705,
          0.05923557233990405,
          0.10007766701512145,
          0.10047371360900259,
          0.13074267270533382,
          0.16115271893692468,
          0.19337749149411404,
          0.1879532069627103,
          0.16979254541576708,
          0.20843509002346933,
          0.23468443995593607,
          0.24076357256917325,
          0.24924788385907237,
          0.2628676789185931,
          0.3014178948416466,
          0.3218382122921262,
          0.36134881977299127,
          0.40029005004040163,
          0.42286727588534756,
          0.4417650245660617,
          0.495912604338249,
          0.5599428128951198,
          0.5608105425248878,
          0.6021688689530279,
          0.6396586054844211,
          0.6766986419603631,
          0.6490988860779553,
          0.5913961358072559,
          0.5789181859244034,
          0.5268018610190559,
          0.4468251175272982,
          0.41567473024683144,
          0.3954421205937612,
          0.34555862719898867,
          0.3188569741331474,
          0.2964936407668674,
          0.3149629108839562,
          0.29026515565464805,
          0.2407926876648474,
          0.24771433462261666,
          0.24383173522675808,
          0.24231883074470692,
          0.20694638951825362,
          0.1792532409149123,
          0.165883150138741,
          0.14313665120268387,
          0.09864869285135155,
          0.05991195610876564,
          0.05122478160215612,
          0.037480915173088686,
          0.014733442178415495,
          -0.008043132572351699,
          -0.017892722864452416,
          -0.010204698150209109,
          -0.024463509268775708,
          -0.04830415344415939,
          -0.059707700304258295,
          -0.06494079422957941,
          -0.06365277244096583,
          -0.06867859784980851,
          -0.09544397135021912,
          -0.12360862209910867,
          -0.14049783161250415,
          -0.16875787159993344,
          -0.2093296307902314,
          -0.2548367854297204,
          -0.26916309124833926,
          -0.28551325505316144,
          -0.3188255850275351,
          -0.2880079269836966,
          -0.2644399936876041,
          -0.24623865096076164,
          -0.23853912498752244,
          -0.2175248310205489,
          -0.17147541459271354,
          -0.17260914149637221,
          -0.1662745146139131,
          -0.14586992105988025,
          -0.13690712055302515,
          -0.14369005420734376,
          -0.13975216661864584,
          -0.13828029997675576,
          -0.1246539153767951,
          -0.12356572231700115,
          -0.1236172229818618,
          -0.11442337891401817,
          -0.11828321192013437,
          -0.11628792495475247,
          -0.11529700127472142,
          -0.11410553178371763,
          -0.11206696783441446,
          -0.10292980513278802,
          -0.10482587901705998,
          -0.10243726579511149,
          -0.08399118807973573,
          -0.08269371275699752,
          -0.07817248976127353,
          -0.07283597666736034,
          -0.06906605394645418,
          -0.05517230437183532,
          -0.05729501705004812,
          -0.05639676802334039,
          -0.059848148805353586,
          -0.0684109656985008,
          -0.058823933112541804,
          -0.06056293119390796,
          -0.054650768387081335,
          -0.039958958947111455,
          -0.028797894680701142,
          -0.022767221416482828,
          -0.013629274285628653
         ],
         "yaxis": "y"
        }
       ],
       "layout": {
        "legend": {
         "tracegroupgap": 0
        },
        "template": {
         "data": {
          "bar": [
           {
            "error_x": {
             "color": "#2a3f5f"
            },
            "error_y": {
             "color": "#2a3f5f"
            },
            "marker": {
             "line": {
              "color": "#E5ECF6",
              "width": 0.5
             },
             "pattern": {
              "fillmode": "overlay",
              "size": 10,
              "solidity": 0.2
             }
            },
            "type": "bar"
           }
          ],
          "barpolar": [
           {
            "marker": {
             "line": {
              "color": "#E5ECF6",
              "width": 0.5
             },
             "pattern": {
              "fillmode": "overlay",
              "size": 10,
              "solidity": 0.2
             }
            },
            "type": "barpolar"
           }
          ],
          "carpet": [
           {
            "aaxis": {
             "endlinecolor": "#2a3f5f",
             "gridcolor": "white",
             "linecolor": "white",
             "minorgridcolor": "white",
             "startlinecolor": "#2a3f5f"
            },
            "baxis": {
             "endlinecolor": "#2a3f5f",
             "gridcolor": "white",
             "linecolor": "white",
             "minorgridcolor": "white",
             "startlinecolor": "#2a3f5f"
            },
            "type": "carpet"
           }
          ],
          "choropleth": [
           {
            "colorbar": {
             "outlinewidth": 0,
             "ticks": ""
            },
            "type": "choropleth"
           }
          ],
          "contour": [
           {
            "colorbar": {
             "outlinewidth": 0,
             "ticks": ""
            },
            "colorscale": [
             [
              0,
              "#0d0887"
             ],
             [
              0.1111111111111111,
              "#46039f"
             ],
             [
              0.2222222222222222,
              "#7201a8"
             ],
             [
              0.3333333333333333,
              "#9c179e"
             ],
             [
              0.4444444444444444,
              "#bd3786"
             ],
             [
              0.5555555555555556,
              "#d8576b"
             ],
             [
              0.6666666666666666,
              "#ed7953"
             ],
             [
              0.7777777777777778,
              "#fb9f3a"
             ],
             [
              0.8888888888888888,
              "#fdca26"
             ],
             [
              1,
              "#f0f921"
             ]
            ],
            "type": "contour"
           }
          ],
          "contourcarpet": [
           {
            "colorbar": {
             "outlinewidth": 0,
             "ticks": ""
            },
            "type": "contourcarpet"
           }
          ],
          "heatmap": [
           {
            "colorbar": {
             "outlinewidth": 0,
             "ticks": ""
            },
            "colorscale": [
             [
              0,
              "#0d0887"
             ],
             [
              0.1111111111111111,
              "#46039f"
             ],
             [
              0.2222222222222222,
              "#7201a8"
             ],
             [
              0.3333333333333333,
              "#9c179e"
             ],
             [
              0.4444444444444444,
              "#bd3786"
             ],
             [
              0.5555555555555556,
              "#d8576b"
             ],
             [
              0.6666666666666666,
              "#ed7953"
             ],
             [
              0.7777777777777778,
              "#fb9f3a"
             ],
             [
              0.8888888888888888,
              "#fdca26"
             ],
             [
              1,
              "#f0f921"
             ]
            ],
            "type": "heatmap"
           }
          ],
          "heatmapgl": [
           {
            "colorbar": {
             "outlinewidth": 0,
             "ticks": ""
            },
            "colorscale": [
             [
              0,
              "#0d0887"
             ],
             [
              0.1111111111111111,
              "#46039f"
             ],
             [
              0.2222222222222222,
              "#7201a8"
             ],
             [
              0.3333333333333333,
              "#9c179e"
             ],
             [
              0.4444444444444444,
              "#bd3786"
             ],
             [
              0.5555555555555556,
              "#d8576b"
             ],
             [
              0.6666666666666666,
              "#ed7953"
             ],
             [
              0.7777777777777778,
              "#fb9f3a"
             ],
             [
              0.8888888888888888,
              "#fdca26"
             ],
             [
              1,
              "#f0f921"
             ]
            ],
            "type": "heatmapgl"
           }
          ],
          "histogram": [
           {
            "marker": {
             "pattern": {
              "fillmode": "overlay",
              "size": 10,
              "solidity": 0.2
             }
            },
            "type": "histogram"
           }
          ],
          "histogram2d": [
           {
            "colorbar": {
             "outlinewidth": 0,
             "ticks": ""
            },
            "colorscale": [
             [
              0,
              "#0d0887"
             ],
             [
              0.1111111111111111,
              "#46039f"
             ],
             [
              0.2222222222222222,
              "#7201a8"
             ],
             [
              0.3333333333333333,
              "#9c179e"
             ],
             [
              0.4444444444444444,
              "#bd3786"
             ],
             [
              0.5555555555555556,
              "#d8576b"
             ],
             [
              0.6666666666666666,
              "#ed7953"
             ],
             [
              0.7777777777777778,
              "#fb9f3a"
             ],
             [
              0.8888888888888888,
              "#fdca26"
             ],
             [
              1,
              "#f0f921"
             ]
            ],
            "type": "histogram2d"
           }
          ],
          "histogram2dcontour": [
           {
            "colorbar": {
             "outlinewidth": 0,
             "ticks": ""
            },
            "colorscale": [
             [
              0,
              "#0d0887"
             ],
             [
              0.1111111111111111,
              "#46039f"
             ],
             [
              0.2222222222222222,
              "#7201a8"
             ],
             [
              0.3333333333333333,
              "#9c179e"
             ],
             [
              0.4444444444444444,
              "#bd3786"
             ],
             [
              0.5555555555555556,
              "#d8576b"
             ],
             [
              0.6666666666666666,
              "#ed7953"
             ],
             [
              0.7777777777777778,
              "#fb9f3a"
             ],
             [
              0.8888888888888888,
              "#fdca26"
             ],
             [
              1,
              "#f0f921"
             ]
            ],
            "type": "histogram2dcontour"
           }
          ],
          "mesh3d": [
           {
            "colorbar": {
             "outlinewidth": 0,
             "ticks": ""
            },
            "type": "mesh3d"
           }
          ],
          "parcoords": [
           {
            "line": {
             "colorbar": {
              "outlinewidth": 0,
              "ticks": ""
             }
            },
            "type": "parcoords"
           }
          ],
          "pie": [
           {
            "automargin": true,
            "type": "pie"
           }
          ],
          "scatter": [
           {
            "marker": {
             "colorbar": {
              "outlinewidth": 0,
              "ticks": ""
             }
            },
            "type": "scatter"
           }
          ],
          "scatter3d": [
           {
            "line": {
             "colorbar": {
              "outlinewidth": 0,
              "ticks": ""
             }
            },
            "marker": {
             "colorbar": {
              "outlinewidth": 0,
              "ticks": ""
             }
            },
            "type": "scatter3d"
           }
          ],
          "scattercarpet": [
           {
            "marker": {
             "colorbar": {
              "outlinewidth": 0,
              "ticks": ""
             }
            },
            "type": "scattercarpet"
           }
          ],
          "scattergeo": [
           {
            "marker": {
             "colorbar": {
              "outlinewidth": 0,
              "ticks": ""
             }
            },
            "type": "scattergeo"
           }
          ],
          "scattergl": [
           {
            "marker": {
             "colorbar": {
              "outlinewidth": 0,
              "ticks": ""
             }
            },
            "type": "scattergl"
           }
          ],
          "scattermapbox": [
           {
            "marker": {
             "colorbar": {
              "outlinewidth": 0,
              "ticks": ""
             }
            },
            "type": "scattermapbox"
           }
          ],
          "scatterpolar": [
           {
            "marker": {
             "colorbar": {
              "outlinewidth": 0,
              "ticks": ""
             }
            },
            "type": "scatterpolar"
           }
          ],
          "scatterpolargl": [
           {
            "marker": {
             "colorbar": {
              "outlinewidth": 0,
              "ticks": ""
             }
            },
            "type": "scatterpolargl"
           }
          ],
          "scatterternary": [
           {
            "marker": {
             "colorbar": {
              "outlinewidth": 0,
              "ticks": ""
             }
            },
            "type": "scatterternary"
           }
          ],
          "surface": [
           {
            "colorbar": {
             "outlinewidth": 0,
             "ticks": ""
            },
            "colorscale": [
             [
              0,
              "#0d0887"
             ],
             [
              0.1111111111111111,
              "#46039f"
             ],
             [
              0.2222222222222222,
              "#7201a8"
             ],
             [
              0.3333333333333333,
              "#9c179e"
             ],
             [
              0.4444444444444444,
              "#bd3786"
             ],
             [
              0.5555555555555556,
              "#d8576b"
             ],
             [
              0.6666666666666666,
              "#ed7953"
             ],
             [
              0.7777777777777778,
              "#fb9f3a"
             ],
             [
              0.8888888888888888,
              "#fdca26"
             ],
             [
              1,
              "#f0f921"
             ]
            ],
            "type": "surface"
           }
          ],
          "table": [
           {
            "cells": {
             "fill": {
              "color": "#EBF0F8"
             },
             "line": {
              "color": "white"
             }
            },
            "header": {
             "fill": {
              "color": "#C8D4E3"
             },
             "line": {
              "color": "white"
             }
            },
            "type": "table"
           }
          ]
         },
         "layout": {
          "annotationdefaults": {
           "arrowcolor": "#2a3f5f",
           "arrowhead": 0,
           "arrowwidth": 1
          },
          "autotypenumbers": "strict",
          "coloraxis": {
           "colorbar": {
            "outlinewidth": 0,
            "ticks": ""
           }
          },
          "colorscale": {
           "diverging": [
            [
             0,
             "#8e0152"
            ],
            [
             0.1,
             "#c51b7d"
            ],
            [
             0.2,
             "#de77ae"
            ],
            [
             0.3,
             "#f1b6da"
            ],
            [
             0.4,
             "#fde0ef"
            ],
            [
             0.5,
             "#f7f7f7"
            ],
            [
             0.6,
             "#e6f5d0"
            ],
            [
             0.7,
             "#b8e186"
            ],
            [
             0.8,
             "#7fbc41"
            ],
            [
             0.9,
             "#4d9221"
            ],
            [
             1,
             "#276419"
            ]
           ],
           "sequential": [
            [
             0,
             "#0d0887"
            ],
            [
             0.1111111111111111,
             "#46039f"
            ],
            [
             0.2222222222222222,
             "#7201a8"
            ],
            [
             0.3333333333333333,
             "#9c179e"
            ],
            [
             0.4444444444444444,
             "#bd3786"
            ],
            [
             0.5555555555555556,
             "#d8576b"
            ],
            [
             0.6666666666666666,
             "#ed7953"
            ],
            [
             0.7777777777777778,
             "#fb9f3a"
            ],
            [
             0.8888888888888888,
             "#fdca26"
            ],
            [
             1,
             "#f0f921"
            ]
           ],
           "sequentialminus": [
            [
             0,
             "#0d0887"
            ],
            [
             0.1111111111111111,
             "#46039f"
            ],
            [
             0.2222222222222222,
             "#7201a8"
            ],
            [
             0.3333333333333333,
             "#9c179e"
            ],
            [
             0.4444444444444444,
             "#bd3786"
            ],
            [
             0.5555555555555556,
             "#d8576b"
            ],
            [
             0.6666666666666666,
             "#ed7953"
            ],
            [
             0.7777777777777778,
             "#fb9f3a"
            ],
            [
             0.8888888888888888,
             "#fdca26"
            ],
            [
             1,
             "#f0f921"
            ]
           ]
          },
          "colorway": [
           "#636efa",
           "#EF553B",
           "#00cc96",
           "#ab63fa",
           "#FFA15A",
           "#19d3f3",
           "#FF6692",
           "#B6E880",
           "#FF97FF",
           "#FECB52"
          ],
          "font": {
           "color": "#2a3f5f"
          },
          "geo": {
           "bgcolor": "white",
           "lakecolor": "white",
           "landcolor": "#E5ECF6",
           "showlakes": true,
           "showland": true,
           "subunitcolor": "white"
          },
          "hoverlabel": {
           "align": "left"
          },
          "hovermode": "closest",
          "mapbox": {
           "style": "light"
          },
          "paper_bgcolor": "white",
          "plot_bgcolor": "#E5ECF6",
          "polar": {
           "angularaxis": {
            "gridcolor": "white",
            "linecolor": "white",
            "ticks": ""
           },
           "bgcolor": "#E5ECF6",
           "radialaxis": {
            "gridcolor": "white",
            "linecolor": "white",
            "ticks": ""
           }
          },
          "scene": {
           "xaxis": {
            "backgroundcolor": "#E5ECF6",
            "gridcolor": "white",
            "gridwidth": 2,
            "linecolor": "white",
            "showbackground": true,
            "ticks": "",
            "zerolinecolor": "white"
           },
           "yaxis": {
            "backgroundcolor": "#E5ECF6",
            "gridcolor": "white",
            "gridwidth": 2,
            "linecolor": "white",
            "showbackground": true,
            "ticks": "",
            "zerolinecolor": "white"
           },
           "zaxis": {
            "backgroundcolor": "#E5ECF6",
            "gridcolor": "white",
            "gridwidth": 2,
            "linecolor": "white",
            "showbackground": true,
            "ticks": "",
            "zerolinecolor": "white"
           }
          },
          "shapedefaults": {
           "line": {
            "color": "#2a3f5f"
           }
          },
          "ternary": {
           "aaxis": {
            "gridcolor": "white",
            "linecolor": "white",
            "ticks": ""
           },
           "baxis": {
            "gridcolor": "white",
            "linecolor": "white",
            "ticks": ""
           },
           "bgcolor": "#E5ECF6",
           "caxis": {
            "gridcolor": "white",
            "linecolor": "white",
            "ticks": ""
           }
          },
          "title": {
           "x": 0.05
          },
          "xaxis": {
           "automargin": true,
           "gridcolor": "white",
           "linecolor": "white",
           "ticks": "",
           "title": {
            "standoff": 15
           },
           "zerolinecolor": "white",
           "zerolinewidth": 2
          },
          "yaxis": {
           "automargin": true,
           "gridcolor": "white",
           "linecolor": "white",
           "ticks": "",
           "title": {
            "standoff": 15
           },
           "zerolinecolor": "white",
           "zerolinewidth": 2
          }
         }
        },
        "title": {
         "text": "Correlation between CAPACITY and CASES_SOLD"
        },
        "xaxis": {
         "anchor": "y",
         "domain": [
          0,
          1
         ],
         "range": [
          -52,
          52
         ],
         "title": {
          "text": "Lag"
         }
        },
        "yaxis": {
         "anchor": "x",
         "domain": [
          0,
          1
         ],
         "range": [
          -1,
          1
         ],
         "title": {
          "text": "Correlation Coef"
         }
        }
       }
      },
      "text/html": [
       "<div>                            <div id=\"ea0d6d9a-555a-49b0-9f30-90621eb9efa5\" class=\"plotly-graph-div\" style=\"height:525px; width:100%;\"></div>            <script type=\"text/javascript\">                require([\"plotly\"], function(Plotly) {                    window.PLOTLYENV=window.PLOTLYENV || {};                                    if (document.getElementById(\"ea0d6d9a-555a-49b0-9f30-90621eb9efa5\")) {                    Plotly.newPlot(                        \"ea0d6d9a-555a-49b0-9f30-90621eb9efa5\",                        [{\"hovertemplate\":\"Lag=%{x}<br>Correlation Coef=%{y}<extra></extra>\",\"legendgroup\":\"\",\"line\":{\"color\":\"#636efa\",\"dash\":\"solid\"},\"marker\":{\"symbol\":\"circle\"},\"mode\":\"lines\",\"name\":\"\",\"orientation\":\"v\",\"showlegend\":false,\"x\":[-85,-84,-83,-82,-81,-80,-79,-78,-77,-76,-75,-74,-73,-72,-71,-70,-69,-68,-67,-66,-65,-64,-63,-62,-61,-60,-59,-58,-57,-56,-55,-54,-53,-52,-51,-50,-49,-48,-47,-46,-45,-44,-43,-42,-41,-40,-39,-38,-37,-36,-35,-34,-33,-32,-31,-30,-29,-28,-27,-26,-25,-24,-23,-22,-21,-20,-19,-18,-17,-16,-15,-14,-13,-12,-11,-10,-9,-8,-7,-6,-5,-4,-3,-2,-1,0,1,2,3,4,5,6,7,8,9,10,11,12,13,14,15,16,17,18,19,20,21,22,23,24,25,26,27,28,29,30,31,32,33,34,35,36,37,38,39,40,41,42,43,44,45,46,47,48,49,50,51,52,53,54,55,56,57,58,59,60,61,62,63,64,65,66,67,68,69,70,71,72,73,74,75,76,77,78,79,80,81,82,83,84,85],\"xaxis\":\"x\",\"y\":[0.022053976711560275,0.031072455020777507,0.03475438804279282,0.024256318411511355,0.016766952809008626,0.018531068949027226,-0.012695667979429805,-0.011248322845234061,-0.016007225207442004,-0.019037277669580542,-0.04078677801435665,-0.05556588081444002,-0.037740735805966666,-0.04542929579973277,-0.05598157046967643,-0.06585010114871616,-0.05548809242373436,-0.05460674447927195,-0.06340725299937904,-0.07777421525861403,-0.0949704947306512,-0.10043306944063622,-0.11614197623275258,-0.10378409463857177,-0.11653254905243537,-0.11227839555204,-0.10579435693892195,-0.10401811451955946,-0.11349062162158503,-0.14058320239272404,-0.17011053326429293,-0.18817664146475374,-0.20072653591076256,-0.21214676524278056,-0.22525471471449562,-0.24184447737708142,-0.2486645115333453,-0.24512903630009672,-0.2535064103721279,-0.26613437691448344,-0.26836495514328945,-0.2744100272916089,-0.27136341074359993,-0.2568698076970371,-0.23968194810506582,-0.22404595315104983,-0.21320812636457637,-0.2124457588467771,-0.2039323860408424,-0.23729876938948483,-0.2519260734308331,-0.24841150081239546,-0.25093445358854705,-0.23761204362687538,-0.2516074628523145,-0.22273819436174436,-0.18280458407801567,-0.13782724446593891,-0.09001003524898948,-0.05375314979303797,0.004497323656612705,0.05923557233990405,0.10007766701512145,0.10047371360900259,0.13074267270533382,0.16115271893692468,0.19337749149411404,0.1879532069627103,0.16979254541576708,0.20843509002346933,0.23468443995593607,0.24076357256917325,0.24924788385907237,0.2628676789185931,0.3014178948416466,0.3218382122921262,0.36134881977299127,0.40029005004040163,0.42286727588534756,0.4417650245660617,0.495912604338249,0.5599428128951198,0.5608105425248878,0.6021688689530279,0.6396586054844211,0.6766986419603631,0.6490988860779553,0.5913961358072559,0.5789181859244034,0.5268018610190559,0.4468251175272982,0.41567473024683144,0.3954421205937612,0.34555862719898867,0.3188569741331474,0.2964936407668674,0.3149629108839562,0.29026515565464805,0.2407926876648474,0.24771433462261666,0.24383173522675808,0.24231883074470692,0.20694638951825362,0.1792532409149123,0.165883150138741,0.14313665120268387,0.09864869285135155,0.05991195610876564,0.05122478160215612,0.037480915173088686,0.014733442178415495,-0.008043132572351699,-0.017892722864452416,-0.010204698150209109,-0.024463509268775708,-0.04830415344415939,-0.059707700304258295,-0.06494079422957941,-0.06365277244096583,-0.06867859784980851,-0.09544397135021912,-0.12360862209910867,-0.14049783161250415,-0.16875787159993344,-0.2093296307902314,-0.2548367854297204,-0.26916309124833926,-0.28551325505316144,-0.3188255850275351,-0.2880079269836966,-0.2644399936876041,-0.24623865096076164,-0.23853912498752244,-0.2175248310205489,-0.17147541459271354,-0.17260914149637221,-0.1662745146139131,-0.14586992105988025,-0.13690712055302515,-0.14369005420734376,-0.13975216661864584,-0.13828029997675576,-0.1246539153767951,-0.12356572231700115,-0.1236172229818618,-0.11442337891401817,-0.11828321192013437,-0.11628792495475247,-0.11529700127472142,-0.11410553178371763,-0.11206696783441446,-0.10292980513278802,-0.10482587901705998,-0.10243726579511149,-0.08399118807973573,-0.08269371275699752,-0.07817248976127353,-0.07283597666736034,-0.06906605394645418,-0.05517230437183532,-0.05729501705004812,-0.05639676802334039,-0.059848148805353586,-0.0684109656985008,-0.058823933112541804,-0.06056293119390796,-0.054650768387081335,-0.039958958947111455,-0.028797894680701142,-0.022767221416482828,-0.013629274285628653],\"yaxis\":\"y\",\"type\":\"scatter\"}],                        {\"template\":{\"data\":{\"bar\":[{\"error_x\":{\"color\":\"#2a3f5f\"},\"error_y\":{\"color\":\"#2a3f5f\"},\"marker\":{\"line\":{\"color\":\"#E5ECF6\",\"width\":0.5},\"pattern\":{\"fillmode\":\"overlay\",\"size\":10,\"solidity\":0.2}},\"type\":\"bar\"}],\"barpolar\":[{\"marker\":{\"line\":{\"color\":\"#E5ECF6\",\"width\":0.5},\"pattern\":{\"fillmode\":\"overlay\",\"size\":10,\"solidity\":0.2}},\"type\":\"barpolar\"}],\"carpet\":[{\"aaxis\":{\"endlinecolor\":\"#2a3f5f\",\"gridcolor\":\"white\",\"linecolor\":\"white\",\"minorgridcolor\":\"white\",\"startlinecolor\":\"#2a3f5f\"},\"baxis\":{\"endlinecolor\":\"#2a3f5f\",\"gridcolor\":\"white\",\"linecolor\":\"white\",\"minorgridcolor\":\"white\",\"startlinecolor\":\"#2a3f5f\"},\"type\":\"carpet\"}],\"choropleth\":[{\"colorbar\":{\"outlinewidth\":0,\"ticks\":\"\"},\"type\":\"choropleth\"}],\"contour\":[{\"colorbar\":{\"outlinewidth\":0,\"ticks\":\"\"},\"colorscale\":[[0.0,\"#0d0887\"],[0.1111111111111111,\"#46039f\"],[0.2222222222222222,\"#7201a8\"],[0.3333333333333333,\"#9c179e\"],[0.4444444444444444,\"#bd3786\"],[0.5555555555555556,\"#d8576b\"],[0.6666666666666666,\"#ed7953\"],[0.7777777777777778,\"#fb9f3a\"],[0.8888888888888888,\"#fdca26\"],[1.0,\"#f0f921\"]],\"type\":\"contour\"}],\"contourcarpet\":[{\"colorbar\":{\"outlinewidth\":0,\"ticks\":\"\"},\"type\":\"contourcarpet\"}],\"heatmap\":[{\"colorbar\":{\"outlinewidth\":0,\"ticks\":\"\"},\"colorscale\":[[0.0,\"#0d0887\"],[0.1111111111111111,\"#46039f\"],[0.2222222222222222,\"#7201a8\"],[0.3333333333333333,\"#9c179e\"],[0.4444444444444444,\"#bd3786\"],[0.5555555555555556,\"#d8576b\"],[0.6666666666666666,\"#ed7953\"],[0.7777777777777778,\"#fb9f3a\"],[0.8888888888888888,\"#fdca26\"],[1.0,\"#f0f921\"]],\"type\":\"heatmap\"}],\"heatmapgl\":[{\"colorbar\":{\"outlinewidth\":0,\"ticks\":\"\"},\"colorscale\":[[0.0,\"#0d0887\"],[0.1111111111111111,\"#46039f\"],[0.2222222222222222,\"#7201a8\"],[0.3333333333333333,\"#9c179e\"],[0.4444444444444444,\"#bd3786\"],[0.5555555555555556,\"#d8576b\"],[0.6666666666666666,\"#ed7953\"],[0.7777777777777778,\"#fb9f3a\"],[0.8888888888888888,\"#fdca26\"],[1.0,\"#f0f921\"]],\"type\":\"heatmapgl\"}],\"histogram\":[{\"marker\":{\"pattern\":{\"fillmode\":\"overlay\",\"size\":10,\"solidity\":0.2}},\"type\":\"histogram\"}],\"histogram2d\":[{\"colorbar\":{\"outlinewidth\":0,\"ticks\":\"\"},\"colorscale\":[[0.0,\"#0d0887\"],[0.1111111111111111,\"#46039f\"],[0.2222222222222222,\"#7201a8\"],[0.3333333333333333,\"#9c179e\"],[0.4444444444444444,\"#bd3786\"],[0.5555555555555556,\"#d8576b\"],[0.6666666666666666,\"#ed7953\"],[0.7777777777777778,\"#fb9f3a\"],[0.8888888888888888,\"#fdca26\"],[1.0,\"#f0f921\"]],\"type\":\"histogram2d\"}],\"histogram2dcontour\":[{\"colorbar\":{\"outlinewidth\":0,\"ticks\":\"\"},\"colorscale\":[[0.0,\"#0d0887\"],[0.1111111111111111,\"#46039f\"],[0.2222222222222222,\"#7201a8\"],[0.3333333333333333,\"#9c179e\"],[0.4444444444444444,\"#bd3786\"],[0.5555555555555556,\"#d8576b\"],[0.6666666666666666,\"#ed7953\"],[0.7777777777777778,\"#fb9f3a\"],[0.8888888888888888,\"#fdca26\"],[1.0,\"#f0f921\"]],\"type\":\"histogram2dcontour\"}],\"mesh3d\":[{\"colorbar\":{\"outlinewidth\":0,\"ticks\":\"\"},\"type\":\"mesh3d\"}],\"parcoords\":[{\"line\":{\"colorbar\":{\"outlinewidth\":0,\"ticks\":\"\"}},\"type\":\"parcoords\"}],\"pie\":[{\"automargin\":true,\"type\":\"pie\"}],\"scatter\":[{\"marker\":{\"colorbar\":{\"outlinewidth\":0,\"ticks\":\"\"}},\"type\":\"scatter\"}],\"scatter3d\":[{\"line\":{\"colorbar\":{\"outlinewidth\":0,\"ticks\":\"\"}},\"marker\":{\"colorbar\":{\"outlinewidth\":0,\"ticks\":\"\"}},\"type\":\"scatter3d\"}],\"scattercarpet\":[{\"marker\":{\"colorbar\":{\"outlinewidth\":0,\"ticks\":\"\"}},\"type\":\"scattercarpet\"}],\"scattergeo\":[{\"marker\":{\"colorbar\":{\"outlinewidth\":0,\"ticks\":\"\"}},\"type\":\"scattergeo\"}],\"scattergl\":[{\"marker\":{\"colorbar\":{\"outlinewidth\":0,\"ticks\":\"\"}},\"type\":\"scattergl\"}],\"scattermapbox\":[{\"marker\":{\"colorbar\":{\"outlinewidth\":0,\"ticks\":\"\"}},\"type\":\"scattermapbox\"}],\"scatterpolar\":[{\"marker\":{\"colorbar\":{\"outlinewidth\":0,\"ticks\":\"\"}},\"type\":\"scatterpolar\"}],\"scatterpolargl\":[{\"marker\":{\"colorbar\":{\"outlinewidth\":0,\"ticks\":\"\"}},\"type\":\"scatterpolargl\"}],\"scatterternary\":[{\"marker\":{\"colorbar\":{\"outlinewidth\":0,\"ticks\":\"\"}},\"type\":\"scatterternary\"}],\"surface\":[{\"colorbar\":{\"outlinewidth\":0,\"ticks\":\"\"},\"colorscale\":[[0.0,\"#0d0887\"],[0.1111111111111111,\"#46039f\"],[0.2222222222222222,\"#7201a8\"],[0.3333333333333333,\"#9c179e\"],[0.4444444444444444,\"#bd3786\"],[0.5555555555555556,\"#d8576b\"],[0.6666666666666666,\"#ed7953\"],[0.7777777777777778,\"#fb9f3a\"],[0.8888888888888888,\"#fdca26\"],[1.0,\"#f0f921\"]],\"type\":\"surface\"}],\"table\":[{\"cells\":{\"fill\":{\"color\":\"#EBF0F8\"},\"line\":{\"color\":\"white\"}},\"header\":{\"fill\":{\"color\":\"#C8D4E3\"},\"line\":{\"color\":\"white\"}},\"type\":\"table\"}]},\"layout\":{\"annotationdefaults\":{\"arrowcolor\":\"#2a3f5f\",\"arrowhead\":0,\"arrowwidth\":1},\"autotypenumbers\":\"strict\",\"coloraxis\":{\"colorbar\":{\"outlinewidth\":0,\"ticks\":\"\"}},\"colorscale\":{\"diverging\":[[0,\"#8e0152\"],[0.1,\"#c51b7d\"],[0.2,\"#de77ae\"],[0.3,\"#f1b6da\"],[0.4,\"#fde0ef\"],[0.5,\"#f7f7f7\"],[0.6,\"#e6f5d0\"],[0.7,\"#b8e186\"],[0.8,\"#7fbc41\"],[0.9,\"#4d9221\"],[1,\"#276419\"]],\"sequential\":[[0.0,\"#0d0887\"],[0.1111111111111111,\"#46039f\"],[0.2222222222222222,\"#7201a8\"],[0.3333333333333333,\"#9c179e\"],[0.4444444444444444,\"#bd3786\"],[0.5555555555555556,\"#d8576b\"],[0.6666666666666666,\"#ed7953\"],[0.7777777777777778,\"#fb9f3a\"],[0.8888888888888888,\"#fdca26\"],[1.0,\"#f0f921\"]],\"sequentialminus\":[[0.0,\"#0d0887\"],[0.1111111111111111,\"#46039f\"],[0.2222222222222222,\"#7201a8\"],[0.3333333333333333,\"#9c179e\"],[0.4444444444444444,\"#bd3786\"],[0.5555555555555556,\"#d8576b\"],[0.6666666666666666,\"#ed7953\"],[0.7777777777777778,\"#fb9f3a\"],[0.8888888888888888,\"#fdca26\"],[1.0,\"#f0f921\"]]},\"colorway\":[\"#636efa\",\"#EF553B\",\"#00cc96\",\"#ab63fa\",\"#FFA15A\",\"#19d3f3\",\"#FF6692\",\"#B6E880\",\"#FF97FF\",\"#FECB52\"],\"font\":{\"color\":\"#2a3f5f\"},\"geo\":{\"bgcolor\":\"white\",\"lakecolor\":\"white\",\"landcolor\":\"#E5ECF6\",\"showlakes\":true,\"showland\":true,\"subunitcolor\":\"white\"},\"hoverlabel\":{\"align\":\"left\"},\"hovermode\":\"closest\",\"mapbox\":{\"style\":\"light\"},\"paper_bgcolor\":\"white\",\"plot_bgcolor\":\"#E5ECF6\",\"polar\":{\"angularaxis\":{\"gridcolor\":\"white\",\"linecolor\":\"white\",\"ticks\":\"\"},\"bgcolor\":\"#E5ECF6\",\"radialaxis\":{\"gridcolor\":\"white\",\"linecolor\":\"white\",\"ticks\":\"\"}},\"scene\":{\"xaxis\":{\"backgroundcolor\":\"#E5ECF6\",\"gridcolor\":\"white\",\"gridwidth\":2,\"linecolor\":\"white\",\"showbackground\":true,\"ticks\":\"\",\"zerolinecolor\":\"white\"},\"yaxis\":{\"backgroundcolor\":\"#E5ECF6\",\"gridcolor\":\"white\",\"gridwidth\":2,\"linecolor\":\"white\",\"showbackground\":true,\"ticks\":\"\",\"zerolinecolor\":\"white\"},\"zaxis\":{\"backgroundcolor\":\"#E5ECF6\",\"gridcolor\":\"white\",\"gridwidth\":2,\"linecolor\":\"white\",\"showbackground\":true,\"ticks\":\"\",\"zerolinecolor\":\"white\"}},\"shapedefaults\":{\"line\":{\"color\":\"#2a3f5f\"}},\"ternary\":{\"aaxis\":{\"gridcolor\":\"white\",\"linecolor\":\"white\",\"ticks\":\"\"},\"baxis\":{\"gridcolor\":\"white\",\"linecolor\":\"white\",\"ticks\":\"\"},\"bgcolor\":\"#E5ECF6\",\"caxis\":{\"gridcolor\":\"white\",\"linecolor\":\"white\",\"ticks\":\"\"}},\"title\":{\"x\":0.05},\"xaxis\":{\"automargin\":true,\"gridcolor\":\"white\",\"linecolor\":\"white\",\"ticks\":\"\",\"title\":{\"standoff\":15},\"zerolinecolor\":\"white\",\"zerolinewidth\":2},\"yaxis\":{\"automargin\":true,\"gridcolor\":\"white\",\"linecolor\":\"white\",\"ticks\":\"\",\"title\":{\"standoff\":15},\"zerolinecolor\":\"white\",\"zerolinewidth\":2}}},\"xaxis\":{\"anchor\":\"y\",\"domain\":[0.0,1.0],\"title\":{\"text\":\"Lag\"},\"range\":[-52,52]},\"yaxis\":{\"anchor\":\"x\",\"domain\":[0.0,1.0],\"title\":{\"text\":\"Correlation Coef\"},\"range\":[-1,1]},\"legend\":{\"tracegroupgap\":0},\"title\":{\"text\":\"Correlation between CAPACITY and CASES_SOLD\"}},                        {\"responsive\": true}                    ).then(function(){\n",
       "                            \n",
       "var gd = document.getElementById('ea0d6d9a-555a-49b0-9f30-90621eb9efa5');\n",
       "var x = new MutationObserver(function (mutations, observer) {{\n",
       "        var display = window.getComputedStyle(gd).display;\n",
       "        if (!display || display === 'none') {{\n",
       "            console.log([gd, 'removed!']);\n",
       "            Plotly.purge(gd);\n",
       "            observer.disconnect();\n",
       "        }}\n",
       "}});\n",
       "\n",
       "// Listen for the removal of the full notebook cells\n",
       "var notebookContainer = gd.closest('#notebook-container');\n",
       "if (notebookContainer) {{\n",
       "    x.observe(notebookContainer, {childList: true});\n",
       "}}\n",
       "\n",
       "// Listen for the clearing of the current output cell\n",
       "var outputEl = gd.closest('.output');\n",
       "if (outputEl) {{\n",
       "    x.observe(outputEl, {childList: true});\n",
       "}}\n",
       "\n",
       "                        })                };                });            </script>        </div>"
      ]
     },
     "metadata": {},
     "output_type": "display_data"
    }
   ],
   "source": [
    "temp = final.groupby('FISC_YR_WK').agg(np.sum).reset_index()\n",
    "x = temp['CAPACITY']\n",
    "y = temp['CASES_SOLD']\n",
    "lag = np.arange(-len(x) + 1, len(x))\n",
    "coefs = correlate(x-x.mean(), y-y.mean(), mode='full') / (np.std(x) * np.std(y) * len(x))\n",
    "px.line(x=lag, y=coefs, labels={'x':'Lag', 'y':'Correlation Coef'}, \n",
    "        title=('Correlation between ' + x.name + ' and ' + y.name),\n",
    "        range_y=[-1, 1], range_x=[-52, 52])"
   ]
  },
  {
   "cell_type": "code",
   "execution_count": 39,
   "id": "79661800",
   "metadata": {},
   "outputs": [
    {
     "data": {
      "application/vnd.plotly.v1+json": {
       "config": {
        "plotlyServerURL": "https://plot.ly"
       },
       "data": [
        {
         "hovertemplate": "Lag=%{x}<br>Correlation Coef=%{y}<extra></extra>",
         "legendgroup": "",
         "line": {
          "color": "#636efa",
          "dash": "solid"
         },
         "marker": {
          "symbol": "circle"
         },
         "mode": "lines",
         "name": "",
         "orientation": "v",
         "showlegend": false,
         "type": "scatter",
         "x": [
          -85,
          -84,
          -83,
          -82,
          -81,
          -80,
          -79,
          -78,
          -77,
          -76,
          -75,
          -74,
          -73,
          -72,
          -71,
          -70,
          -69,
          -68,
          -67,
          -66,
          -65,
          -64,
          -63,
          -62,
          -61,
          -60,
          -59,
          -58,
          -57,
          -56,
          -55,
          -54,
          -53,
          -52,
          -51,
          -50,
          -49,
          -48,
          -47,
          -46,
          -45,
          -44,
          -43,
          -42,
          -41,
          -40,
          -39,
          -38,
          -37,
          -36,
          -35,
          -34,
          -33,
          -32,
          -31,
          -30,
          -29,
          -28,
          -27,
          -26,
          -25,
          -24,
          -23,
          -22,
          -21,
          -20,
          -19,
          -18,
          -17,
          -16,
          -15,
          -14,
          -13,
          -12,
          -11,
          -10,
          -9,
          -8,
          -7,
          -6,
          -5,
          -4,
          -3,
          -2,
          -1,
          0,
          1,
          2,
          3,
          4,
          5,
          6,
          7,
          8,
          9,
          10,
          11,
          12,
          13,
          14,
          15,
          16,
          17,
          18,
          19,
          20,
          21,
          22,
          23,
          24,
          25,
          26,
          27,
          28,
          29,
          30,
          31,
          32,
          33,
          34,
          35,
          36,
          37,
          38,
          39,
          40,
          41,
          42,
          43,
          44,
          45,
          46,
          47,
          48,
          49,
          50,
          51,
          52,
          53,
          54,
          55,
          56,
          57,
          58,
          59,
          60,
          61,
          62,
          63,
          64,
          65,
          66,
          67,
          68,
          69,
          70,
          71,
          72,
          73,
          74,
          75,
          76,
          77,
          78,
          79,
          80,
          81,
          82,
          83,
          84,
          85
         ],
         "xaxis": "x",
         "y": [
          -0.006460132115008201,
          -0.011712395754425694,
          -0.01970190858326608,
          -0.030376415946346425,
          -0.041359106437622806,
          -0.048884445531791075,
          -0.048799863272395064,
          -0.05187189867576013,
          -0.049867710678123116,
          -0.04277895664169402,
          -0.039481030696733824,
          -0.04056854821835768,
          -0.047561755334147984,
          -0.05263393362384845,
          -0.06269425240318044,
          -0.07278909180824741,
          -0.08370191314021289,
          -0.09474940896299112,
          -0.1061263861754532,
          -0.11662914936611954,
          -0.12558992358127155,
          -0.13498399948275874,
          -0.13866989785040182,
          -0.13974368391964728,
          -0.13995839893365752,
          -0.13925657585599616,
          -0.14305327733551945,
          -0.144554769092728,
          -0.1496626992124929,
          -0.16380779201752105,
          -0.17600441996124366,
          -0.18692755950977205,
          -0.1927602290971687,
          -0.20646533654434532,
          -0.22094374736168804,
          -0.23063603050904966,
          -0.23916144689263508,
          -0.2528006767010645,
          -0.26824893983612513,
          -0.26784294586856744,
          -0.26522443628293385,
          -0.25850472855262274,
          -0.24660274518075745,
          -0.22942182025579563,
          -0.20863801603265883,
          -0.19723944982916428,
          -0.18255354368756052,
          -0.1667439044801206,
          -0.23216692551480766,
          -0.2286189406500148,
          -0.23705820848808598,
          -0.21741208475722046,
          -0.20468568447963517,
          -0.151175279053981,
          -0.07228753694444531,
          -0.08087087254877132,
          -0.053255540451858256,
          -0.024421327811389688,
          -0.0035602945082028365,
          -0.0017896337582847986,
          -0.022182518854646224,
          0.011594724226641536,
          0.02081683432800601,
          0.06879755785491834,
          0.07396747912127213,
          0.11278547576553968,
          0.1214309084959991,
          0.16177583409209534,
          0.18925297304902314,
          0.1962999033282466,
          0.2270557498905726,
          0.2191486635431747,
          0.25933423129808086,
          0.29717611368680785,
          0.28809425368944785,
          0.30527097442470325,
          0.33291052880265015,
          0.3336785568018922,
          0.3729932949203717,
          0.40003352711441703,
          0.4395861766405965,
          0.44379433381877875,
          0.48851446718754316,
          0.506368067078108,
          0.5499182816306473,
          0.5576750471991753,
          0.5303534720307895,
          0.5347187710912841,
          0.5057274215048815,
          0.4686000129745372,
          0.4421264279714385,
          0.4660016952554156,
          0.46357226745959407,
          0.4667245247204411,
          0.47868214087073824,
          0.48414295320879536,
          0.4541180437565688,
          0.4475203997854129,
          0.4521256178763935,
          0.4188477130418322,
          0.3626660899042979,
          0.31508726592493574,
          0.33628329555817466,
          0.3067671832143487,
          0.25646909465763734,
          0.21550365160226104,
          0.18739141199002995,
          0.1641394317837973,
          0.11618976538527807,
          0.08064244434385752,
          0.06439315169467123,
          0.08887354014914141,
          0.05241783937283207,
          0.02820809112477968,
          0.012754546651132861,
          -0.0023222740867646983,
          0.008645786769583833,
          -0.049087645344890046,
          -0.06584450707837972,
          -0.06931753372703751,
          -0.07924534109968778,
          -0.10023340489964994,
          -0.11956523583432774,
          -0.14555443866426163,
          -0.1909456229142566,
          -0.18688873815901175,
          -0.20592794136561982,
          -0.22680292649629474,
          -0.2246310423228978,
          -0.23035018865350884,
          -0.21183635560598804,
          -0.2484136881702567,
          -0.24689971018770468,
          -0.22452930075101848,
          -0.318186036508927,
          -0.310045483094742,
          -0.29549249414438966,
          -0.2824638326870632,
          -0.2666787126188254,
          -0.25702090971118113,
          -0.24256259298247987,
          -0.22494837238624524,
          -0.20727458518632735,
          -0.196263291767019,
          -0.1885383343389267,
          -0.18256797053449825,
          -0.18202902826261647,
          -0.17635061540773359,
          -0.1710554677209019,
          -0.16343274085987589,
          -0.1521034288797349,
          -0.1427810490897495,
          -0.13320952704149067,
          -0.12120683530619586,
          -0.10963018639165047,
          -0.09984277273351805,
          -0.09036441302978057,
          -0.07829276627997704,
          -0.06786271548993679,
          -0.06036416236508324,
          -0.05883984019347122,
          -0.06084051333356375,
          -0.06998357409560468,
          -0.07473321005453609,
          -0.07527049012226736,
          -0.07839533276236609,
          -0.0705325124963228,
          -0.0584331545316005,
          -0.040351430608777904,
          -0.024958284065077416,
          -0.01243130216723991
         ],
         "yaxis": "y"
        }
       ],
       "layout": {
        "legend": {
         "tracegroupgap": 0
        },
        "template": {
         "data": {
          "bar": [
           {
            "error_x": {
             "color": "#2a3f5f"
            },
            "error_y": {
             "color": "#2a3f5f"
            },
            "marker": {
             "line": {
              "color": "#E5ECF6",
              "width": 0.5
             },
             "pattern": {
              "fillmode": "overlay",
              "size": 10,
              "solidity": 0.2
             }
            },
            "type": "bar"
           }
          ],
          "barpolar": [
           {
            "marker": {
             "line": {
              "color": "#E5ECF6",
              "width": 0.5
             },
             "pattern": {
              "fillmode": "overlay",
              "size": 10,
              "solidity": 0.2
             }
            },
            "type": "barpolar"
           }
          ],
          "carpet": [
           {
            "aaxis": {
             "endlinecolor": "#2a3f5f",
             "gridcolor": "white",
             "linecolor": "white",
             "minorgridcolor": "white",
             "startlinecolor": "#2a3f5f"
            },
            "baxis": {
             "endlinecolor": "#2a3f5f",
             "gridcolor": "white",
             "linecolor": "white",
             "minorgridcolor": "white",
             "startlinecolor": "#2a3f5f"
            },
            "type": "carpet"
           }
          ],
          "choropleth": [
           {
            "colorbar": {
             "outlinewidth": 0,
             "ticks": ""
            },
            "type": "choropleth"
           }
          ],
          "contour": [
           {
            "colorbar": {
             "outlinewidth": 0,
             "ticks": ""
            },
            "colorscale": [
             [
              0,
              "#0d0887"
             ],
             [
              0.1111111111111111,
              "#46039f"
             ],
             [
              0.2222222222222222,
              "#7201a8"
             ],
             [
              0.3333333333333333,
              "#9c179e"
             ],
             [
              0.4444444444444444,
              "#bd3786"
             ],
             [
              0.5555555555555556,
              "#d8576b"
             ],
             [
              0.6666666666666666,
              "#ed7953"
             ],
             [
              0.7777777777777778,
              "#fb9f3a"
             ],
             [
              0.8888888888888888,
              "#fdca26"
             ],
             [
              1,
              "#f0f921"
             ]
            ],
            "type": "contour"
           }
          ],
          "contourcarpet": [
           {
            "colorbar": {
             "outlinewidth": 0,
             "ticks": ""
            },
            "type": "contourcarpet"
           }
          ],
          "heatmap": [
           {
            "colorbar": {
             "outlinewidth": 0,
             "ticks": ""
            },
            "colorscale": [
             [
              0,
              "#0d0887"
             ],
             [
              0.1111111111111111,
              "#46039f"
             ],
             [
              0.2222222222222222,
              "#7201a8"
             ],
             [
              0.3333333333333333,
              "#9c179e"
             ],
             [
              0.4444444444444444,
              "#bd3786"
             ],
             [
              0.5555555555555556,
              "#d8576b"
             ],
             [
              0.6666666666666666,
              "#ed7953"
             ],
             [
              0.7777777777777778,
              "#fb9f3a"
             ],
             [
              0.8888888888888888,
              "#fdca26"
             ],
             [
              1,
              "#f0f921"
             ]
            ],
            "type": "heatmap"
           }
          ],
          "heatmapgl": [
           {
            "colorbar": {
             "outlinewidth": 0,
             "ticks": ""
            },
            "colorscale": [
             [
              0,
              "#0d0887"
             ],
             [
              0.1111111111111111,
              "#46039f"
             ],
             [
              0.2222222222222222,
              "#7201a8"
             ],
             [
              0.3333333333333333,
              "#9c179e"
             ],
             [
              0.4444444444444444,
              "#bd3786"
             ],
             [
              0.5555555555555556,
              "#d8576b"
             ],
             [
              0.6666666666666666,
              "#ed7953"
             ],
             [
              0.7777777777777778,
              "#fb9f3a"
             ],
             [
              0.8888888888888888,
              "#fdca26"
             ],
             [
              1,
              "#f0f921"
             ]
            ],
            "type": "heatmapgl"
           }
          ],
          "histogram": [
           {
            "marker": {
             "pattern": {
              "fillmode": "overlay",
              "size": 10,
              "solidity": 0.2
             }
            },
            "type": "histogram"
           }
          ],
          "histogram2d": [
           {
            "colorbar": {
             "outlinewidth": 0,
             "ticks": ""
            },
            "colorscale": [
             [
              0,
              "#0d0887"
             ],
             [
              0.1111111111111111,
              "#46039f"
             ],
             [
              0.2222222222222222,
              "#7201a8"
             ],
             [
              0.3333333333333333,
              "#9c179e"
             ],
             [
              0.4444444444444444,
              "#bd3786"
             ],
             [
              0.5555555555555556,
              "#d8576b"
             ],
             [
              0.6666666666666666,
              "#ed7953"
             ],
             [
              0.7777777777777778,
              "#fb9f3a"
             ],
             [
              0.8888888888888888,
              "#fdca26"
             ],
             [
              1,
              "#f0f921"
             ]
            ],
            "type": "histogram2d"
           }
          ],
          "histogram2dcontour": [
           {
            "colorbar": {
             "outlinewidth": 0,
             "ticks": ""
            },
            "colorscale": [
             [
              0,
              "#0d0887"
             ],
             [
              0.1111111111111111,
              "#46039f"
             ],
             [
              0.2222222222222222,
              "#7201a8"
             ],
             [
              0.3333333333333333,
              "#9c179e"
             ],
             [
              0.4444444444444444,
              "#bd3786"
             ],
             [
              0.5555555555555556,
              "#d8576b"
             ],
             [
              0.6666666666666666,
              "#ed7953"
             ],
             [
              0.7777777777777778,
              "#fb9f3a"
             ],
             [
              0.8888888888888888,
              "#fdca26"
             ],
             [
              1,
              "#f0f921"
             ]
            ],
            "type": "histogram2dcontour"
           }
          ],
          "mesh3d": [
           {
            "colorbar": {
             "outlinewidth": 0,
             "ticks": ""
            },
            "type": "mesh3d"
           }
          ],
          "parcoords": [
           {
            "line": {
             "colorbar": {
              "outlinewidth": 0,
              "ticks": ""
             }
            },
            "type": "parcoords"
           }
          ],
          "pie": [
           {
            "automargin": true,
            "type": "pie"
           }
          ],
          "scatter": [
           {
            "marker": {
             "colorbar": {
              "outlinewidth": 0,
              "ticks": ""
             }
            },
            "type": "scatter"
           }
          ],
          "scatter3d": [
           {
            "line": {
             "colorbar": {
              "outlinewidth": 0,
              "ticks": ""
             }
            },
            "marker": {
             "colorbar": {
              "outlinewidth": 0,
              "ticks": ""
             }
            },
            "type": "scatter3d"
           }
          ],
          "scattercarpet": [
           {
            "marker": {
             "colorbar": {
              "outlinewidth": 0,
              "ticks": ""
             }
            },
            "type": "scattercarpet"
           }
          ],
          "scattergeo": [
           {
            "marker": {
             "colorbar": {
              "outlinewidth": 0,
              "ticks": ""
             }
            },
            "type": "scattergeo"
           }
          ],
          "scattergl": [
           {
            "marker": {
             "colorbar": {
              "outlinewidth": 0,
              "ticks": ""
             }
            },
            "type": "scattergl"
           }
          ],
          "scattermapbox": [
           {
            "marker": {
             "colorbar": {
              "outlinewidth": 0,
              "ticks": ""
             }
            },
            "type": "scattermapbox"
           }
          ],
          "scatterpolar": [
           {
            "marker": {
             "colorbar": {
              "outlinewidth": 0,
              "ticks": ""
             }
            },
            "type": "scatterpolar"
           }
          ],
          "scatterpolargl": [
           {
            "marker": {
             "colorbar": {
              "outlinewidth": 0,
              "ticks": ""
             }
            },
            "type": "scatterpolargl"
           }
          ],
          "scatterternary": [
           {
            "marker": {
             "colorbar": {
              "outlinewidth": 0,
              "ticks": ""
             }
            },
            "type": "scatterternary"
           }
          ],
          "surface": [
           {
            "colorbar": {
             "outlinewidth": 0,
             "ticks": ""
            },
            "colorscale": [
             [
              0,
              "#0d0887"
             ],
             [
              0.1111111111111111,
              "#46039f"
             ],
             [
              0.2222222222222222,
              "#7201a8"
             ],
             [
              0.3333333333333333,
              "#9c179e"
             ],
             [
              0.4444444444444444,
              "#bd3786"
             ],
             [
              0.5555555555555556,
              "#d8576b"
             ],
             [
              0.6666666666666666,
              "#ed7953"
             ],
             [
              0.7777777777777778,
              "#fb9f3a"
             ],
             [
              0.8888888888888888,
              "#fdca26"
             ],
             [
              1,
              "#f0f921"
             ]
            ],
            "type": "surface"
           }
          ],
          "table": [
           {
            "cells": {
             "fill": {
              "color": "#EBF0F8"
             },
             "line": {
              "color": "white"
             }
            },
            "header": {
             "fill": {
              "color": "#C8D4E3"
             },
             "line": {
              "color": "white"
             }
            },
            "type": "table"
           }
          ]
         },
         "layout": {
          "annotationdefaults": {
           "arrowcolor": "#2a3f5f",
           "arrowhead": 0,
           "arrowwidth": 1
          },
          "autotypenumbers": "strict",
          "coloraxis": {
           "colorbar": {
            "outlinewidth": 0,
            "ticks": ""
           }
          },
          "colorscale": {
           "diverging": [
            [
             0,
             "#8e0152"
            ],
            [
             0.1,
             "#c51b7d"
            ],
            [
             0.2,
             "#de77ae"
            ],
            [
             0.3,
             "#f1b6da"
            ],
            [
             0.4,
             "#fde0ef"
            ],
            [
             0.5,
             "#f7f7f7"
            ],
            [
             0.6,
             "#e6f5d0"
            ],
            [
             0.7,
             "#b8e186"
            ],
            [
             0.8,
             "#7fbc41"
            ],
            [
             0.9,
             "#4d9221"
            ],
            [
             1,
             "#276419"
            ]
           ],
           "sequential": [
            [
             0,
             "#0d0887"
            ],
            [
             0.1111111111111111,
             "#46039f"
            ],
            [
             0.2222222222222222,
             "#7201a8"
            ],
            [
             0.3333333333333333,
             "#9c179e"
            ],
            [
             0.4444444444444444,
             "#bd3786"
            ],
            [
             0.5555555555555556,
             "#d8576b"
            ],
            [
             0.6666666666666666,
             "#ed7953"
            ],
            [
             0.7777777777777778,
             "#fb9f3a"
            ],
            [
             0.8888888888888888,
             "#fdca26"
            ],
            [
             1,
             "#f0f921"
            ]
           ],
           "sequentialminus": [
            [
             0,
             "#0d0887"
            ],
            [
             0.1111111111111111,
             "#46039f"
            ],
            [
             0.2222222222222222,
             "#7201a8"
            ],
            [
             0.3333333333333333,
             "#9c179e"
            ],
            [
             0.4444444444444444,
             "#bd3786"
            ],
            [
             0.5555555555555556,
             "#d8576b"
            ],
            [
             0.6666666666666666,
             "#ed7953"
            ],
            [
             0.7777777777777778,
             "#fb9f3a"
            ],
            [
             0.8888888888888888,
             "#fdca26"
            ],
            [
             1,
             "#f0f921"
            ]
           ]
          },
          "colorway": [
           "#636efa",
           "#EF553B",
           "#00cc96",
           "#ab63fa",
           "#FFA15A",
           "#19d3f3",
           "#FF6692",
           "#B6E880",
           "#FF97FF",
           "#FECB52"
          ],
          "font": {
           "color": "#2a3f5f"
          },
          "geo": {
           "bgcolor": "white",
           "lakecolor": "white",
           "landcolor": "#E5ECF6",
           "showlakes": true,
           "showland": true,
           "subunitcolor": "white"
          },
          "hoverlabel": {
           "align": "left"
          },
          "hovermode": "closest",
          "mapbox": {
           "style": "light"
          },
          "paper_bgcolor": "white",
          "plot_bgcolor": "#E5ECF6",
          "polar": {
           "angularaxis": {
            "gridcolor": "white",
            "linecolor": "white",
            "ticks": ""
           },
           "bgcolor": "#E5ECF6",
           "radialaxis": {
            "gridcolor": "white",
            "linecolor": "white",
            "ticks": ""
           }
          },
          "scene": {
           "xaxis": {
            "backgroundcolor": "#E5ECF6",
            "gridcolor": "white",
            "gridwidth": 2,
            "linecolor": "white",
            "showbackground": true,
            "ticks": "",
            "zerolinecolor": "white"
           },
           "yaxis": {
            "backgroundcolor": "#E5ECF6",
            "gridcolor": "white",
            "gridwidth": 2,
            "linecolor": "white",
            "showbackground": true,
            "ticks": "",
            "zerolinecolor": "white"
           },
           "zaxis": {
            "backgroundcolor": "#E5ECF6",
            "gridcolor": "white",
            "gridwidth": 2,
            "linecolor": "white",
            "showbackground": true,
            "ticks": "",
            "zerolinecolor": "white"
           }
          },
          "shapedefaults": {
           "line": {
            "color": "#2a3f5f"
           }
          },
          "ternary": {
           "aaxis": {
            "gridcolor": "white",
            "linecolor": "white",
            "ticks": ""
           },
           "baxis": {
            "gridcolor": "white",
            "linecolor": "white",
            "ticks": ""
           },
           "bgcolor": "#E5ECF6",
           "caxis": {
            "gridcolor": "white",
            "linecolor": "white",
            "ticks": ""
           }
          },
          "title": {
           "x": 0.05
          },
          "xaxis": {
           "automargin": true,
           "gridcolor": "white",
           "linecolor": "white",
           "ticks": "",
           "title": {
            "standoff": 15
           },
           "zerolinecolor": "white",
           "zerolinewidth": 2
          },
          "yaxis": {
           "automargin": true,
           "gridcolor": "white",
           "linecolor": "white",
           "ticks": "",
           "title": {
            "standoff": 15
           },
           "zerolinecolor": "white",
           "zerolinewidth": 2
          }
         }
        },
        "title": {
         "text": "Correlation between CAPACITY and MAX_WKLY_INVENTORY"
        },
        "xaxis": {
         "anchor": "y",
         "domain": [
          0,
          1
         ],
         "range": [
          -52,
          52
         ],
         "title": {
          "text": "Lag"
         }
        },
        "yaxis": {
         "anchor": "x",
         "domain": [
          0,
          1
         ],
         "range": [
          -1,
          1
         ],
         "title": {
          "text": "Correlation Coef"
         }
        }
       }
      },
      "text/html": [
       "<div>                            <div id=\"c7e9f071-e73c-4ae7-bff3-2304c3300fcc\" class=\"plotly-graph-div\" style=\"height:525px; width:100%;\"></div>            <script type=\"text/javascript\">                require([\"plotly\"], function(Plotly) {                    window.PLOTLYENV=window.PLOTLYENV || {};                                    if (document.getElementById(\"c7e9f071-e73c-4ae7-bff3-2304c3300fcc\")) {                    Plotly.newPlot(                        \"c7e9f071-e73c-4ae7-bff3-2304c3300fcc\",                        [{\"hovertemplate\":\"Lag=%{x}<br>Correlation Coef=%{y}<extra></extra>\",\"legendgroup\":\"\",\"line\":{\"color\":\"#636efa\",\"dash\":\"solid\"},\"marker\":{\"symbol\":\"circle\"},\"mode\":\"lines\",\"name\":\"\",\"orientation\":\"v\",\"showlegend\":false,\"x\":[-85,-84,-83,-82,-81,-80,-79,-78,-77,-76,-75,-74,-73,-72,-71,-70,-69,-68,-67,-66,-65,-64,-63,-62,-61,-60,-59,-58,-57,-56,-55,-54,-53,-52,-51,-50,-49,-48,-47,-46,-45,-44,-43,-42,-41,-40,-39,-38,-37,-36,-35,-34,-33,-32,-31,-30,-29,-28,-27,-26,-25,-24,-23,-22,-21,-20,-19,-18,-17,-16,-15,-14,-13,-12,-11,-10,-9,-8,-7,-6,-5,-4,-3,-2,-1,0,1,2,3,4,5,6,7,8,9,10,11,12,13,14,15,16,17,18,19,20,21,22,23,24,25,26,27,28,29,30,31,32,33,34,35,36,37,38,39,40,41,42,43,44,45,46,47,48,49,50,51,52,53,54,55,56,57,58,59,60,61,62,63,64,65,66,67,68,69,70,71,72,73,74,75,76,77,78,79,80,81,82,83,84,85],\"xaxis\":\"x\",\"y\":[-0.006460132115008201,-0.011712395754425694,-0.01970190858326608,-0.030376415946346425,-0.041359106437622806,-0.048884445531791075,-0.048799863272395064,-0.05187189867576013,-0.049867710678123116,-0.04277895664169402,-0.039481030696733824,-0.04056854821835768,-0.047561755334147984,-0.05263393362384845,-0.06269425240318044,-0.07278909180824741,-0.08370191314021289,-0.09474940896299112,-0.1061263861754532,-0.11662914936611954,-0.12558992358127155,-0.13498399948275874,-0.13866989785040182,-0.13974368391964728,-0.13995839893365752,-0.13925657585599616,-0.14305327733551945,-0.144554769092728,-0.1496626992124929,-0.16380779201752105,-0.17600441996124366,-0.18692755950977205,-0.1927602290971687,-0.20646533654434532,-0.22094374736168804,-0.23063603050904966,-0.23916144689263508,-0.2528006767010645,-0.26824893983612513,-0.26784294586856744,-0.26522443628293385,-0.25850472855262274,-0.24660274518075745,-0.22942182025579563,-0.20863801603265883,-0.19723944982916428,-0.18255354368756052,-0.1667439044801206,-0.23216692551480766,-0.2286189406500148,-0.23705820848808598,-0.21741208475722046,-0.20468568447963517,-0.151175279053981,-0.07228753694444531,-0.08087087254877132,-0.053255540451858256,-0.024421327811389688,-0.0035602945082028365,-0.0017896337582847986,-0.022182518854646224,0.011594724226641536,0.02081683432800601,0.06879755785491834,0.07396747912127213,0.11278547576553968,0.1214309084959991,0.16177583409209534,0.18925297304902314,0.1962999033282466,0.2270557498905726,0.2191486635431747,0.25933423129808086,0.29717611368680785,0.28809425368944785,0.30527097442470325,0.33291052880265015,0.3336785568018922,0.3729932949203717,0.40003352711441703,0.4395861766405965,0.44379433381877875,0.48851446718754316,0.506368067078108,0.5499182816306473,0.5576750471991753,0.5303534720307895,0.5347187710912841,0.5057274215048815,0.4686000129745372,0.4421264279714385,0.4660016952554156,0.46357226745959407,0.4667245247204411,0.47868214087073824,0.48414295320879536,0.4541180437565688,0.4475203997854129,0.4521256178763935,0.4188477130418322,0.3626660899042979,0.31508726592493574,0.33628329555817466,0.3067671832143487,0.25646909465763734,0.21550365160226104,0.18739141199002995,0.1641394317837973,0.11618976538527807,0.08064244434385752,0.06439315169467123,0.08887354014914141,0.05241783937283207,0.02820809112477968,0.012754546651132861,-0.0023222740867646983,0.008645786769583833,-0.049087645344890046,-0.06584450707837972,-0.06931753372703751,-0.07924534109968778,-0.10023340489964994,-0.11956523583432774,-0.14555443866426163,-0.1909456229142566,-0.18688873815901175,-0.20592794136561982,-0.22680292649629474,-0.2246310423228978,-0.23035018865350884,-0.21183635560598804,-0.2484136881702567,-0.24689971018770468,-0.22452930075101848,-0.318186036508927,-0.310045483094742,-0.29549249414438966,-0.2824638326870632,-0.2666787126188254,-0.25702090971118113,-0.24256259298247987,-0.22494837238624524,-0.20727458518632735,-0.196263291767019,-0.1885383343389267,-0.18256797053449825,-0.18202902826261647,-0.17635061540773359,-0.1710554677209019,-0.16343274085987589,-0.1521034288797349,-0.1427810490897495,-0.13320952704149067,-0.12120683530619586,-0.10963018639165047,-0.09984277273351805,-0.09036441302978057,-0.07829276627997704,-0.06786271548993679,-0.06036416236508324,-0.05883984019347122,-0.06084051333356375,-0.06998357409560468,-0.07473321005453609,-0.07527049012226736,-0.07839533276236609,-0.0705325124963228,-0.0584331545316005,-0.040351430608777904,-0.024958284065077416,-0.01243130216723991],\"yaxis\":\"y\",\"type\":\"scatter\"}],                        {\"template\":{\"data\":{\"bar\":[{\"error_x\":{\"color\":\"#2a3f5f\"},\"error_y\":{\"color\":\"#2a3f5f\"},\"marker\":{\"line\":{\"color\":\"#E5ECF6\",\"width\":0.5},\"pattern\":{\"fillmode\":\"overlay\",\"size\":10,\"solidity\":0.2}},\"type\":\"bar\"}],\"barpolar\":[{\"marker\":{\"line\":{\"color\":\"#E5ECF6\",\"width\":0.5},\"pattern\":{\"fillmode\":\"overlay\",\"size\":10,\"solidity\":0.2}},\"type\":\"barpolar\"}],\"carpet\":[{\"aaxis\":{\"endlinecolor\":\"#2a3f5f\",\"gridcolor\":\"white\",\"linecolor\":\"white\",\"minorgridcolor\":\"white\",\"startlinecolor\":\"#2a3f5f\"},\"baxis\":{\"endlinecolor\":\"#2a3f5f\",\"gridcolor\":\"white\",\"linecolor\":\"white\",\"minorgridcolor\":\"white\",\"startlinecolor\":\"#2a3f5f\"},\"type\":\"carpet\"}],\"choropleth\":[{\"colorbar\":{\"outlinewidth\":0,\"ticks\":\"\"},\"type\":\"choropleth\"}],\"contour\":[{\"colorbar\":{\"outlinewidth\":0,\"ticks\":\"\"},\"colorscale\":[[0.0,\"#0d0887\"],[0.1111111111111111,\"#46039f\"],[0.2222222222222222,\"#7201a8\"],[0.3333333333333333,\"#9c179e\"],[0.4444444444444444,\"#bd3786\"],[0.5555555555555556,\"#d8576b\"],[0.6666666666666666,\"#ed7953\"],[0.7777777777777778,\"#fb9f3a\"],[0.8888888888888888,\"#fdca26\"],[1.0,\"#f0f921\"]],\"type\":\"contour\"}],\"contourcarpet\":[{\"colorbar\":{\"outlinewidth\":0,\"ticks\":\"\"},\"type\":\"contourcarpet\"}],\"heatmap\":[{\"colorbar\":{\"outlinewidth\":0,\"ticks\":\"\"},\"colorscale\":[[0.0,\"#0d0887\"],[0.1111111111111111,\"#46039f\"],[0.2222222222222222,\"#7201a8\"],[0.3333333333333333,\"#9c179e\"],[0.4444444444444444,\"#bd3786\"],[0.5555555555555556,\"#d8576b\"],[0.6666666666666666,\"#ed7953\"],[0.7777777777777778,\"#fb9f3a\"],[0.8888888888888888,\"#fdca26\"],[1.0,\"#f0f921\"]],\"type\":\"heatmap\"}],\"heatmapgl\":[{\"colorbar\":{\"outlinewidth\":0,\"ticks\":\"\"},\"colorscale\":[[0.0,\"#0d0887\"],[0.1111111111111111,\"#46039f\"],[0.2222222222222222,\"#7201a8\"],[0.3333333333333333,\"#9c179e\"],[0.4444444444444444,\"#bd3786\"],[0.5555555555555556,\"#d8576b\"],[0.6666666666666666,\"#ed7953\"],[0.7777777777777778,\"#fb9f3a\"],[0.8888888888888888,\"#fdca26\"],[1.0,\"#f0f921\"]],\"type\":\"heatmapgl\"}],\"histogram\":[{\"marker\":{\"pattern\":{\"fillmode\":\"overlay\",\"size\":10,\"solidity\":0.2}},\"type\":\"histogram\"}],\"histogram2d\":[{\"colorbar\":{\"outlinewidth\":0,\"ticks\":\"\"},\"colorscale\":[[0.0,\"#0d0887\"],[0.1111111111111111,\"#46039f\"],[0.2222222222222222,\"#7201a8\"],[0.3333333333333333,\"#9c179e\"],[0.4444444444444444,\"#bd3786\"],[0.5555555555555556,\"#d8576b\"],[0.6666666666666666,\"#ed7953\"],[0.7777777777777778,\"#fb9f3a\"],[0.8888888888888888,\"#fdca26\"],[1.0,\"#f0f921\"]],\"type\":\"histogram2d\"}],\"histogram2dcontour\":[{\"colorbar\":{\"outlinewidth\":0,\"ticks\":\"\"},\"colorscale\":[[0.0,\"#0d0887\"],[0.1111111111111111,\"#46039f\"],[0.2222222222222222,\"#7201a8\"],[0.3333333333333333,\"#9c179e\"],[0.4444444444444444,\"#bd3786\"],[0.5555555555555556,\"#d8576b\"],[0.6666666666666666,\"#ed7953\"],[0.7777777777777778,\"#fb9f3a\"],[0.8888888888888888,\"#fdca26\"],[1.0,\"#f0f921\"]],\"type\":\"histogram2dcontour\"}],\"mesh3d\":[{\"colorbar\":{\"outlinewidth\":0,\"ticks\":\"\"},\"type\":\"mesh3d\"}],\"parcoords\":[{\"line\":{\"colorbar\":{\"outlinewidth\":0,\"ticks\":\"\"}},\"type\":\"parcoords\"}],\"pie\":[{\"automargin\":true,\"type\":\"pie\"}],\"scatter\":[{\"marker\":{\"colorbar\":{\"outlinewidth\":0,\"ticks\":\"\"}},\"type\":\"scatter\"}],\"scatter3d\":[{\"line\":{\"colorbar\":{\"outlinewidth\":0,\"ticks\":\"\"}},\"marker\":{\"colorbar\":{\"outlinewidth\":0,\"ticks\":\"\"}},\"type\":\"scatter3d\"}],\"scattercarpet\":[{\"marker\":{\"colorbar\":{\"outlinewidth\":0,\"ticks\":\"\"}},\"type\":\"scattercarpet\"}],\"scattergeo\":[{\"marker\":{\"colorbar\":{\"outlinewidth\":0,\"ticks\":\"\"}},\"type\":\"scattergeo\"}],\"scattergl\":[{\"marker\":{\"colorbar\":{\"outlinewidth\":0,\"ticks\":\"\"}},\"type\":\"scattergl\"}],\"scattermapbox\":[{\"marker\":{\"colorbar\":{\"outlinewidth\":0,\"ticks\":\"\"}},\"type\":\"scattermapbox\"}],\"scatterpolar\":[{\"marker\":{\"colorbar\":{\"outlinewidth\":0,\"ticks\":\"\"}},\"type\":\"scatterpolar\"}],\"scatterpolargl\":[{\"marker\":{\"colorbar\":{\"outlinewidth\":0,\"ticks\":\"\"}},\"type\":\"scatterpolargl\"}],\"scatterternary\":[{\"marker\":{\"colorbar\":{\"outlinewidth\":0,\"ticks\":\"\"}},\"type\":\"scatterternary\"}],\"surface\":[{\"colorbar\":{\"outlinewidth\":0,\"ticks\":\"\"},\"colorscale\":[[0.0,\"#0d0887\"],[0.1111111111111111,\"#46039f\"],[0.2222222222222222,\"#7201a8\"],[0.3333333333333333,\"#9c179e\"],[0.4444444444444444,\"#bd3786\"],[0.5555555555555556,\"#d8576b\"],[0.6666666666666666,\"#ed7953\"],[0.7777777777777778,\"#fb9f3a\"],[0.8888888888888888,\"#fdca26\"],[1.0,\"#f0f921\"]],\"type\":\"surface\"}],\"table\":[{\"cells\":{\"fill\":{\"color\":\"#EBF0F8\"},\"line\":{\"color\":\"white\"}},\"header\":{\"fill\":{\"color\":\"#C8D4E3\"},\"line\":{\"color\":\"white\"}},\"type\":\"table\"}]},\"layout\":{\"annotationdefaults\":{\"arrowcolor\":\"#2a3f5f\",\"arrowhead\":0,\"arrowwidth\":1},\"autotypenumbers\":\"strict\",\"coloraxis\":{\"colorbar\":{\"outlinewidth\":0,\"ticks\":\"\"}},\"colorscale\":{\"diverging\":[[0,\"#8e0152\"],[0.1,\"#c51b7d\"],[0.2,\"#de77ae\"],[0.3,\"#f1b6da\"],[0.4,\"#fde0ef\"],[0.5,\"#f7f7f7\"],[0.6,\"#e6f5d0\"],[0.7,\"#b8e186\"],[0.8,\"#7fbc41\"],[0.9,\"#4d9221\"],[1,\"#276419\"]],\"sequential\":[[0.0,\"#0d0887\"],[0.1111111111111111,\"#46039f\"],[0.2222222222222222,\"#7201a8\"],[0.3333333333333333,\"#9c179e\"],[0.4444444444444444,\"#bd3786\"],[0.5555555555555556,\"#d8576b\"],[0.6666666666666666,\"#ed7953\"],[0.7777777777777778,\"#fb9f3a\"],[0.8888888888888888,\"#fdca26\"],[1.0,\"#f0f921\"]],\"sequentialminus\":[[0.0,\"#0d0887\"],[0.1111111111111111,\"#46039f\"],[0.2222222222222222,\"#7201a8\"],[0.3333333333333333,\"#9c179e\"],[0.4444444444444444,\"#bd3786\"],[0.5555555555555556,\"#d8576b\"],[0.6666666666666666,\"#ed7953\"],[0.7777777777777778,\"#fb9f3a\"],[0.8888888888888888,\"#fdca26\"],[1.0,\"#f0f921\"]]},\"colorway\":[\"#636efa\",\"#EF553B\",\"#00cc96\",\"#ab63fa\",\"#FFA15A\",\"#19d3f3\",\"#FF6692\",\"#B6E880\",\"#FF97FF\",\"#FECB52\"],\"font\":{\"color\":\"#2a3f5f\"},\"geo\":{\"bgcolor\":\"white\",\"lakecolor\":\"white\",\"landcolor\":\"#E5ECF6\",\"showlakes\":true,\"showland\":true,\"subunitcolor\":\"white\"},\"hoverlabel\":{\"align\":\"left\"},\"hovermode\":\"closest\",\"mapbox\":{\"style\":\"light\"},\"paper_bgcolor\":\"white\",\"plot_bgcolor\":\"#E5ECF6\",\"polar\":{\"angularaxis\":{\"gridcolor\":\"white\",\"linecolor\":\"white\",\"ticks\":\"\"},\"bgcolor\":\"#E5ECF6\",\"radialaxis\":{\"gridcolor\":\"white\",\"linecolor\":\"white\",\"ticks\":\"\"}},\"scene\":{\"xaxis\":{\"backgroundcolor\":\"#E5ECF6\",\"gridcolor\":\"white\",\"gridwidth\":2,\"linecolor\":\"white\",\"showbackground\":true,\"ticks\":\"\",\"zerolinecolor\":\"white\"},\"yaxis\":{\"backgroundcolor\":\"#E5ECF6\",\"gridcolor\":\"white\",\"gridwidth\":2,\"linecolor\":\"white\",\"showbackground\":true,\"ticks\":\"\",\"zerolinecolor\":\"white\"},\"zaxis\":{\"backgroundcolor\":\"#E5ECF6\",\"gridcolor\":\"white\",\"gridwidth\":2,\"linecolor\":\"white\",\"showbackground\":true,\"ticks\":\"\",\"zerolinecolor\":\"white\"}},\"shapedefaults\":{\"line\":{\"color\":\"#2a3f5f\"}},\"ternary\":{\"aaxis\":{\"gridcolor\":\"white\",\"linecolor\":\"white\",\"ticks\":\"\"},\"baxis\":{\"gridcolor\":\"white\",\"linecolor\":\"white\",\"ticks\":\"\"},\"bgcolor\":\"#E5ECF6\",\"caxis\":{\"gridcolor\":\"white\",\"linecolor\":\"white\",\"ticks\":\"\"}},\"title\":{\"x\":0.05},\"xaxis\":{\"automargin\":true,\"gridcolor\":\"white\",\"linecolor\":\"white\",\"ticks\":\"\",\"title\":{\"standoff\":15},\"zerolinecolor\":\"white\",\"zerolinewidth\":2},\"yaxis\":{\"automargin\":true,\"gridcolor\":\"white\",\"linecolor\":\"white\",\"ticks\":\"\",\"title\":{\"standoff\":15},\"zerolinecolor\":\"white\",\"zerolinewidth\":2}}},\"xaxis\":{\"anchor\":\"y\",\"domain\":[0.0,1.0],\"title\":{\"text\":\"Lag\"},\"range\":[-52,52]},\"yaxis\":{\"anchor\":\"x\",\"domain\":[0.0,1.0],\"title\":{\"text\":\"Correlation Coef\"},\"range\":[-1,1]},\"legend\":{\"tracegroupgap\":0},\"title\":{\"text\":\"Correlation between CAPACITY and MAX_WKLY_INVENTORY\"}},                        {\"responsive\": true}                    ).then(function(){\n",
       "                            \n",
       "var gd = document.getElementById('c7e9f071-e73c-4ae7-bff3-2304c3300fcc');\n",
       "var x = new MutationObserver(function (mutations, observer) {{\n",
       "        var display = window.getComputedStyle(gd).display;\n",
       "        if (!display || display === 'none') {{\n",
       "            console.log([gd, 'removed!']);\n",
       "            Plotly.purge(gd);\n",
       "            observer.disconnect();\n",
       "        }}\n",
       "}});\n",
       "\n",
       "// Listen for the removal of the full notebook cells\n",
       "var notebookContainer = gd.closest('#notebook-container');\n",
       "if (notebookContainer) {{\n",
       "    x.observe(notebookContainer, {childList: true});\n",
       "}}\n",
       "\n",
       "// Listen for the clearing of the current output cell\n",
       "var outputEl = gd.closest('.output');\n",
       "if (outputEl) {{\n",
       "    x.observe(outputEl, {childList: true});\n",
       "}}\n",
       "\n",
       "                        })                };                });            </script>        </div>"
      ]
     },
     "metadata": {},
     "output_type": "display_data"
    }
   ],
   "source": [
    "x = temp['CAPACITY']\n",
    "y = temp['MAX_WKLY_INVENTORY']\n",
    "lag = np.arange(-len(x) + 1, len(x))\n",
    "coefs = correlate(x-x.mean(), y-y.mean(), mode='full') / (np.std(x) * np.std(y) * len(x))\n",
    "px.line(x=lag, y=coefs, labels={'x':'Lag', 'y':'Correlation Coef'}, \n",
    "        title=('Correlation between ' + x.name + ' and ' + y.name),\n",
    "        range_y=[-1, 1], range_x=[-52, 52])"
   ]
  },
  {
   "cell_type": "code",
   "execution_count": 40,
   "id": "4208739f",
   "metadata": {},
   "outputs": [
    {
     "data": {
      "application/vnd.plotly.v1+json": {
       "config": {
        "plotlyServerURL": "https://plot.ly"
       },
       "data": [
        {
         "hovertemplate": "Lag=%{x}<br>Correlation Coef=%{y}<extra></extra>",
         "legendgroup": "",
         "line": {
          "color": "#636efa",
          "dash": "solid"
         },
         "marker": {
          "symbol": "circle"
         },
         "mode": "lines",
         "name": "",
         "orientation": "v",
         "showlegend": false,
         "type": "scatter",
         "x": [
          -85,
          -84,
          -83,
          -82,
          -81,
          -80,
          -79,
          -78,
          -77,
          -76,
          -75,
          -74,
          -73,
          -72,
          -71,
          -70,
          -69,
          -68,
          -67,
          -66,
          -65,
          -64,
          -63,
          -62,
          -61,
          -60,
          -59,
          -58,
          -57,
          -56,
          -55,
          -54,
          -53,
          -52,
          -51,
          -50,
          -49,
          -48,
          -47,
          -46,
          -45,
          -44,
          -43,
          -42,
          -41,
          -40,
          -39,
          -38,
          -37,
          -36,
          -35,
          -34,
          -33,
          -32,
          -31,
          -30,
          -29,
          -28,
          -27,
          -26,
          -25,
          -24,
          -23,
          -22,
          -21,
          -20,
          -19,
          -18,
          -17,
          -16,
          -15,
          -14,
          -13,
          -12,
          -11,
          -10,
          -9,
          -8,
          -7,
          -6,
          -5,
          -4,
          -3,
          -2,
          -1,
          0,
          1,
          2,
          3,
          4,
          5,
          6,
          7,
          8,
          9,
          10,
          11,
          12,
          13,
          14,
          15,
          16,
          17,
          18,
          19,
          20,
          21,
          22,
          23,
          24,
          25,
          26,
          27,
          28,
          29,
          30,
          31,
          32,
          33,
          34,
          35,
          36,
          37,
          38,
          39,
          40,
          41,
          42,
          43,
          44,
          45,
          46,
          47,
          48,
          49,
          50,
          51,
          52,
          53,
          54,
          55,
          56,
          57,
          58,
          59,
          60,
          61,
          62,
          63,
          64,
          65,
          66,
          67,
          68,
          69,
          70,
          71,
          72,
          73,
          74,
          75,
          76,
          77,
          78,
          79,
          80,
          81,
          82,
          83,
          84,
          85
         ],
         "xaxis": "x",
         "y": [
          -0.007245205727148027,
          -0.01053291266919884,
          -0.01355474112127003,
          -0.021028937511974738,
          -0.030744165356165545,
          -0.033404829382101514,
          -0.031484297706019834,
          -0.03780905546501487,
          -0.03349199634506397,
          -0.030913112948125626,
          -0.028701507655257114,
          -0.02795716151046732,
          -0.03590757877320232,
          -0.036192155927615835,
          -0.04045933445209949,
          -0.04483859900725367,
          -0.04890154813997021,
          -0.060804296466316896,
          -0.06162918378810958,
          -0.05929856714389644,
          -0.06714304818516138,
          -0.06955152325657153,
          -0.06960884837570618,
          -0.06771335118128337,
          -0.06553315654050146,
          -0.06462205151383098,
          -0.06757270259031394,
          -0.06532788681251554,
          -0.06571444982194408,
          -0.07629577236099216,
          -0.07968414337623306,
          -0.08438310188119454,
          -0.07715685065176443,
          -0.0831733270213417,
          -0.1007861816034747,
          -0.10262042694822875,
          -0.10181186430312308,
          -0.13137869145516104,
          -0.14199852459875464,
          -0.1426597742676643,
          -0.1532629660661911,
          -0.16275152528252965,
          -0.17242358432475843,
          -0.14950008125827724,
          -0.1436049094342244,
          -0.14280025263286655,
          -0.11487362621176654,
          -0.08793218701462337,
          -0.1594054161693595,
          -0.12883687597532598,
          -0.0904649926126139,
          -0.0723001327643602,
          -0.11854704016084529,
          -0.08051318197013212,
          -0.03285089127986512,
          -0.07196634382166178,
          0.029723661279885173,
          -0.016628923954156348,
          -0.015358544095949575,
          -0.01611643148982437,
          -0.06241461026634072,
          -0.011498611082003589,
          0.023529065574736847,
          0.047291734201198685,
          0.07294082249617133,
          0.05457276308115797,
          0.08383008936067465,
          0.12672541957721573,
          0.11144834220142157,
          0.16637211197384158,
          0.1433084631356873,
          0.10618479164654665,
          0.09125317308398347,
          0.15276273726360357,
          0.12847628008143078,
          0.12293646452805382,
          0.15517703534108612,
          0.1648662382560148,
          0.23755375085479047,
          0.24636626293560124,
          0.26715160059277115,
          0.2856114641584481,
          0.3259264706788737,
          0.34732195523567577,
          0.41196632674935585,
          0.17829833964806763,
          0.3149590966261514,
          0.33953838991494356,
          0.2980922753041376,
          0.12569785428261301,
          0.07452747085308843,
          0.36173290590090645,
          0.33618256439365585,
          0.3454245351671545,
          0.3544599232009686,
          0.3728803563294965,
          0.2866003621441781,
          0.23245706676448716,
          0.26769114432863894,
          0.3483092331323475,
          0.22787980677689218,
          0.1655965571040872,
          0.18649608099043835,
          0.1431182970157446,
          0.17252550615289455,
          0.12503125883117203,
          0.08576186109342551,
          0.08357208451544386,
          -0.01228458826799264,
          0.021534521413253387,
          -0.0157222069438947,
          0.015300891950380919,
          0.03191644246087336,
          -0.006260056742482893,
          -0.048995098784153056,
          -0.0768895216989799,
          -0.06639923886805428,
          -0.11986052483143128,
          -0.1251228590814667,
          -0.10716842368229854,
          -0.12602478626468,
          -0.06065400209528956,
          -0.03874580177657951,
          -0.061187633086516265,
          -0.09026226671491404,
          -0.08769812682780574,
          -0.09477004489179595,
          -0.09078228511478521,
          -0.37692540771377164,
          -0.1861535299935763,
          -0.12601514601944436,
          -0.1747394197195146,
          -0.2541151600824312,
          -0.38459498710370504,
          -0.1935531026285471,
          -0.18208755326793435,
          -0.16546084801600394,
          -0.1496183709413017,
          -0.1395670112332584,
          -0.13375732738272902,
          -0.11240601559677334,
          -0.08556479247127365,
          -0.06722538141643776,
          -0.056426279274743356,
          -0.06305851799306747,
          -0.06539265183415778,
          -0.07927281963919985,
          -0.07180304600217013,
          -0.08463951348106671,
          -0.07676579821102188,
          -0.07317689658338353,
          -0.06693098731708767,
          -0.05076033990231859,
          -0.054529892775240604,
          -0.047128737609972916,
          -0.055246074858147726,
          -0.05013415535967951,
          -0.04370264387129969,
          -0.04063244849236914,
          -0.04930166099764048,
          -0.03965325451049271,
          -0.026483699335132765,
          -0.019085618591723655,
          -0.012078597001807414,
          -0.014155852156082423,
          0.01112474551070472,
          0.006794105345102973,
          0.02093898065102024,
          0.03306851688427594,
          0.03128874430951456,
          0.02256005348305111
         ],
         "yaxis": "y"
        }
       ],
       "layout": {
        "legend": {
         "tracegroupgap": 0
        },
        "template": {
         "data": {
          "bar": [
           {
            "error_x": {
             "color": "#2a3f5f"
            },
            "error_y": {
             "color": "#2a3f5f"
            },
            "marker": {
             "line": {
              "color": "#E5ECF6",
              "width": 0.5
             },
             "pattern": {
              "fillmode": "overlay",
              "size": 10,
              "solidity": 0.2
             }
            },
            "type": "bar"
           }
          ],
          "barpolar": [
           {
            "marker": {
             "line": {
              "color": "#E5ECF6",
              "width": 0.5
             },
             "pattern": {
              "fillmode": "overlay",
              "size": 10,
              "solidity": 0.2
             }
            },
            "type": "barpolar"
           }
          ],
          "carpet": [
           {
            "aaxis": {
             "endlinecolor": "#2a3f5f",
             "gridcolor": "white",
             "linecolor": "white",
             "minorgridcolor": "white",
             "startlinecolor": "#2a3f5f"
            },
            "baxis": {
             "endlinecolor": "#2a3f5f",
             "gridcolor": "white",
             "linecolor": "white",
             "minorgridcolor": "white",
             "startlinecolor": "#2a3f5f"
            },
            "type": "carpet"
           }
          ],
          "choropleth": [
           {
            "colorbar": {
             "outlinewidth": 0,
             "ticks": ""
            },
            "type": "choropleth"
           }
          ],
          "contour": [
           {
            "colorbar": {
             "outlinewidth": 0,
             "ticks": ""
            },
            "colorscale": [
             [
              0,
              "#0d0887"
             ],
             [
              0.1111111111111111,
              "#46039f"
             ],
             [
              0.2222222222222222,
              "#7201a8"
             ],
             [
              0.3333333333333333,
              "#9c179e"
             ],
             [
              0.4444444444444444,
              "#bd3786"
             ],
             [
              0.5555555555555556,
              "#d8576b"
             ],
             [
              0.6666666666666666,
              "#ed7953"
             ],
             [
              0.7777777777777778,
              "#fb9f3a"
             ],
             [
              0.8888888888888888,
              "#fdca26"
             ],
             [
              1,
              "#f0f921"
             ]
            ],
            "type": "contour"
           }
          ],
          "contourcarpet": [
           {
            "colorbar": {
             "outlinewidth": 0,
             "ticks": ""
            },
            "type": "contourcarpet"
           }
          ],
          "heatmap": [
           {
            "colorbar": {
             "outlinewidth": 0,
             "ticks": ""
            },
            "colorscale": [
             [
              0,
              "#0d0887"
             ],
             [
              0.1111111111111111,
              "#46039f"
             ],
             [
              0.2222222222222222,
              "#7201a8"
             ],
             [
              0.3333333333333333,
              "#9c179e"
             ],
             [
              0.4444444444444444,
              "#bd3786"
             ],
             [
              0.5555555555555556,
              "#d8576b"
             ],
             [
              0.6666666666666666,
              "#ed7953"
             ],
             [
              0.7777777777777778,
              "#fb9f3a"
             ],
             [
              0.8888888888888888,
              "#fdca26"
             ],
             [
              1,
              "#f0f921"
             ]
            ],
            "type": "heatmap"
           }
          ],
          "heatmapgl": [
           {
            "colorbar": {
             "outlinewidth": 0,
             "ticks": ""
            },
            "colorscale": [
             [
              0,
              "#0d0887"
             ],
             [
              0.1111111111111111,
              "#46039f"
             ],
             [
              0.2222222222222222,
              "#7201a8"
             ],
             [
              0.3333333333333333,
              "#9c179e"
             ],
             [
              0.4444444444444444,
              "#bd3786"
             ],
             [
              0.5555555555555556,
              "#d8576b"
             ],
             [
              0.6666666666666666,
              "#ed7953"
             ],
             [
              0.7777777777777778,
              "#fb9f3a"
             ],
             [
              0.8888888888888888,
              "#fdca26"
             ],
             [
              1,
              "#f0f921"
             ]
            ],
            "type": "heatmapgl"
           }
          ],
          "histogram": [
           {
            "marker": {
             "pattern": {
              "fillmode": "overlay",
              "size": 10,
              "solidity": 0.2
             }
            },
            "type": "histogram"
           }
          ],
          "histogram2d": [
           {
            "colorbar": {
             "outlinewidth": 0,
             "ticks": ""
            },
            "colorscale": [
             [
              0,
              "#0d0887"
             ],
             [
              0.1111111111111111,
              "#46039f"
             ],
             [
              0.2222222222222222,
              "#7201a8"
             ],
             [
              0.3333333333333333,
              "#9c179e"
             ],
             [
              0.4444444444444444,
              "#bd3786"
             ],
             [
              0.5555555555555556,
              "#d8576b"
             ],
             [
              0.6666666666666666,
              "#ed7953"
             ],
             [
              0.7777777777777778,
              "#fb9f3a"
             ],
             [
              0.8888888888888888,
              "#fdca26"
             ],
             [
              1,
              "#f0f921"
             ]
            ],
            "type": "histogram2d"
           }
          ],
          "histogram2dcontour": [
           {
            "colorbar": {
             "outlinewidth": 0,
             "ticks": ""
            },
            "colorscale": [
             [
              0,
              "#0d0887"
             ],
             [
              0.1111111111111111,
              "#46039f"
             ],
             [
              0.2222222222222222,
              "#7201a8"
             ],
             [
              0.3333333333333333,
              "#9c179e"
             ],
             [
              0.4444444444444444,
              "#bd3786"
             ],
             [
              0.5555555555555556,
              "#d8576b"
             ],
             [
              0.6666666666666666,
              "#ed7953"
             ],
             [
              0.7777777777777778,
              "#fb9f3a"
             ],
             [
              0.8888888888888888,
              "#fdca26"
             ],
             [
              1,
              "#f0f921"
             ]
            ],
            "type": "histogram2dcontour"
           }
          ],
          "mesh3d": [
           {
            "colorbar": {
             "outlinewidth": 0,
             "ticks": ""
            },
            "type": "mesh3d"
           }
          ],
          "parcoords": [
           {
            "line": {
             "colorbar": {
              "outlinewidth": 0,
              "ticks": ""
             }
            },
            "type": "parcoords"
           }
          ],
          "pie": [
           {
            "automargin": true,
            "type": "pie"
           }
          ],
          "scatter": [
           {
            "marker": {
             "colorbar": {
              "outlinewidth": 0,
              "ticks": ""
             }
            },
            "type": "scatter"
           }
          ],
          "scatter3d": [
           {
            "line": {
             "colorbar": {
              "outlinewidth": 0,
              "ticks": ""
             }
            },
            "marker": {
             "colorbar": {
              "outlinewidth": 0,
              "ticks": ""
             }
            },
            "type": "scatter3d"
           }
          ],
          "scattercarpet": [
           {
            "marker": {
             "colorbar": {
              "outlinewidth": 0,
              "ticks": ""
             }
            },
            "type": "scattercarpet"
           }
          ],
          "scattergeo": [
           {
            "marker": {
             "colorbar": {
              "outlinewidth": 0,
              "ticks": ""
             }
            },
            "type": "scattergeo"
           }
          ],
          "scattergl": [
           {
            "marker": {
             "colorbar": {
              "outlinewidth": 0,
              "ticks": ""
             }
            },
            "type": "scattergl"
           }
          ],
          "scattermapbox": [
           {
            "marker": {
             "colorbar": {
              "outlinewidth": 0,
              "ticks": ""
             }
            },
            "type": "scattermapbox"
           }
          ],
          "scatterpolar": [
           {
            "marker": {
             "colorbar": {
              "outlinewidth": 0,
              "ticks": ""
             }
            },
            "type": "scatterpolar"
           }
          ],
          "scatterpolargl": [
           {
            "marker": {
             "colorbar": {
              "outlinewidth": 0,
              "ticks": ""
             }
            },
            "type": "scatterpolargl"
           }
          ],
          "scatterternary": [
           {
            "marker": {
             "colorbar": {
              "outlinewidth": 0,
              "ticks": ""
             }
            },
            "type": "scatterternary"
           }
          ],
          "surface": [
           {
            "colorbar": {
             "outlinewidth": 0,
             "ticks": ""
            },
            "colorscale": [
             [
              0,
              "#0d0887"
             ],
             [
              0.1111111111111111,
              "#46039f"
             ],
             [
              0.2222222222222222,
              "#7201a8"
             ],
             [
              0.3333333333333333,
              "#9c179e"
             ],
             [
              0.4444444444444444,
              "#bd3786"
             ],
             [
              0.5555555555555556,
              "#d8576b"
             ],
             [
              0.6666666666666666,
              "#ed7953"
             ],
             [
              0.7777777777777778,
              "#fb9f3a"
             ],
             [
              0.8888888888888888,
              "#fdca26"
             ],
             [
              1,
              "#f0f921"
             ]
            ],
            "type": "surface"
           }
          ],
          "table": [
           {
            "cells": {
             "fill": {
              "color": "#EBF0F8"
             },
             "line": {
              "color": "white"
             }
            },
            "header": {
             "fill": {
              "color": "#C8D4E3"
             },
             "line": {
              "color": "white"
             }
            },
            "type": "table"
           }
          ]
         },
         "layout": {
          "annotationdefaults": {
           "arrowcolor": "#2a3f5f",
           "arrowhead": 0,
           "arrowwidth": 1
          },
          "autotypenumbers": "strict",
          "coloraxis": {
           "colorbar": {
            "outlinewidth": 0,
            "ticks": ""
           }
          },
          "colorscale": {
           "diverging": [
            [
             0,
             "#8e0152"
            ],
            [
             0.1,
             "#c51b7d"
            ],
            [
             0.2,
             "#de77ae"
            ],
            [
             0.3,
             "#f1b6da"
            ],
            [
             0.4,
             "#fde0ef"
            ],
            [
             0.5,
             "#f7f7f7"
            ],
            [
             0.6,
             "#e6f5d0"
            ],
            [
             0.7,
             "#b8e186"
            ],
            [
             0.8,
             "#7fbc41"
            ],
            [
             0.9,
             "#4d9221"
            ],
            [
             1,
             "#276419"
            ]
           ],
           "sequential": [
            [
             0,
             "#0d0887"
            ],
            [
             0.1111111111111111,
             "#46039f"
            ],
            [
             0.2222222222222222,
             "#7201a8"
            ],
            [
             0.3333333333333333,
             "#9c179e"
            ],
            [
             0.4444444444444444,
             "#bd3786"
            ],
            [
             0.5555555555555556,
             "#d8576b"
            ],
            [
             0.6666666666666666,
             "#ed7953"
            ],
            [
             0.7777777777777778,
             "#fb9f3a"
            ],
            [
             0.8888888888888888,
             "#fdca26"
            ],
            [
             1,
             "#f0f921"
            ]
           ],
           "sequentialminus": [
            [
             0,
             "#0d0887"
            ],
            [
             0.1111111111111111,
             "#46039f"
            ],
            [
             0.2222222222222222,
             "#7201a8"
            ],
            [
             0.3333333333333333,
             "#9c179e"
            ],
            [
             0.4444444444444444,
             "#bd3786"
            ],
            [
             0.5555555555555556,
             "#d8576b"
            ],
            [
             0.6666666666666666,
             "#ed7953"
            ],
            [
             0.7777777777777778,
             "#fb9f3a"
            ],
            [
             0.8888888888888888,
             "#fdca26"
            ],
            [
             1,
             "#f0f921"
            ]
           ]
          },
          "colorway": [
           "#636efa",
           "#EF553B",
           "#00cc96",
           "#ab63fa",
           "#FFA15A",
           "#19d3f3",
           "#FF6692",
           "#B6E880",
           "#FF97FF",
           "#FECB52"
          ],
          "font": {
           "color": "#2a3f5f"
          },
          "geo": {
           "bgcolor": "white",
           "lakecolor": "white",
           "landcolor": "#E5ECF6",
           "showlakes": true,
           "showland": true,
           "subunitcolor": "white"
          },
          "hoverlabel": {
           "align": "left"
          },
          "hovermode": "closest",
          "mapbox": {
           "style": "light"
          },
          "paper_bgcolor": "white",
          "plot_bgcolor": "#E5ECF6",
          "polar": {
           "angularaxis": {
            "gridcolor": "white",
            "linecolor": "white",
            "ticks": ""
           },
           "bgcolor": "#E5ECF6",
           "radialaxis": {
            "gridcolor": "white",
            "linecolor": "white",
            "ticks": ""
           }
          },
          "scene": {
           "xaxis": {
            "backgroundcolor": "#E5ECF6",
            "gridcolor": "white",
            "gridwidth": 2,
            "linecolor": "white",
            "showbackground": true,
            "ticks": "",
            "zerolinecolor": "white"
           },
           "yaxis": {
            "backgroundcolor": "#E5ECF6",
            "gridcolor": "white",
            "gridwidth": 2,
            "linecolor": "white",
            "showbackground": true,
            "ticks": "",
            "zerolinecolor": "white"
           },
           "zaxis": {
            "backgroundcolor": "#E5ECF6",
            "gridcolor": "white",
            "gridwidth": 2,
            "linecolor": "white",
            "showbackground": true,
            "ticks": "",
            "zerolinecolor": "white"
           }
          },
          "shapedefaults": {
           "line": {
            "color": "#2a3f5f"
           }
          },
          "ternary": {
           "aaxis": {
            "gridcolor": "white",
            "linecolor": "white",
            "ticks": ""
           },
           "baxis": {
            "gridcolor": "white",
            "linecolor": "white",
            "ticks": ""
           },
           "bgcolor": "#E5ECF6",
           "caxis": {
            "gridcolor": "white",
            "linecolor": "white",
            "ticks": ""
           }
          },
          "title": {
           "x": 0.05
          },
          "xaxis": {
           "automargin": true,
           "gridcolor": "white",
           "linecolor": "white",
           "ticks": "",
           "title": {
            "standoff": 15
           },
           "zerolinecolor": "white",
           "zerolinewidth": 2
          },
          "yaxis": {
           "automargin": true,
           "gridcolor": "white",
           "linecolor": "white",
           "ticks": "",
           "title": {
            "standoff": 15
           },
           "zerolinecolor": "white",
           "zerolinewidth": 2
          }
         }
        },
        "title": {
         "text": "Correlation between CASES_SOLD and MAX_WKLY_INVENTORY"
        },
        "xaxis": {
         "anchor": "y",
         "domain": [
          0,
          1
         ],
         "range": [
          -24,
          24
         ],
         "title": {
          "text": "Lag"
         }
        },
        "yaxis": {
         "anchor": "x",
         "domain": [
          0,
          1
         ],
         "range": [
          -1,
          1
         ],
         "title": {
          "text": "Correlation Coef"
         }
        }
       }
      },
      "text/html": [
       "<div>                            <div id=\"e5d5f1a3-67dd-48a7-a383-dc0e987f5ee3\" class=\"plotly-graph-div\" style=\"height:525px; width:100%;\"></div>            <script type=\"text/javascript\">                require([\"plotly\"], function(Plotly) {                    window.PLOTLYENV=window.PLOTLYENV || {};                                    if (document.getElementById(\"e5d5f1a3-67dd-48a7-a383-dc0e987f5ee3\")) {                    Plotly.newPlot(                        \"e5d5f1a3-67dd-48a7-a383-dc0e987f5ee3\",                        [{\"hovertemplate\":\"Lag=%{x}<br>Correlation Coef=%{y}<extra></extra>\",\"legendgroup\":\"\",\"line\":{\"color\":\"#636efa\",\"dash\":\"solid\"},\"marker\":{\"symbol\":\"circle\"},\"mode\":\"lines\",\"name\":\"\",\"orientation\":\"v\",\"showlegend\":false,\"x\":[-85,-84,-83,-82,-81,-80,-79,-78,-77,-76,-75,-74,-73,-72,-71,-70,-69,-68,-67,-66,-65,-64,-63,-62,-61,-60,-59,-58,-57,-56,-55,-54,-53,-52,-51,-50,-49,-48,-47,-46,-45,-44,-43,-42,-41,-40,-39,-38,-37,-36,-35,-34,-33,-32,-31,-30,-29,-28,-27,-26,-25,-24,-23,-22,-21,-20,-19,-18,-17,-16,-15,-14,-13,-12,-11,-10,-9,-8,-7,-6,-5,-4,-3,-2,-1,0,1,2,3,4,5,6,7,8,9,10,11,12,13,14,15,16,17,18,19,20,21,22,23,24,25,26,27,28,29,30,31,32,33,34,35,36,37,38,39,40,41,42,43,44,45,46,47,48,49,50,51,52,53,54,55,56,57,58,59,60,61,62,63,64,65,66,67,68,69,70,71,72,73,74,75,76,77,78,79,80,81,82,83,84,85],\"xaxis\":\"x\",\"y\":[-0.007245205727148027,-0.01053291266919884,-0.01355474112127003,-0.021028937511974738,-0.030744165356165545,-0.033404829382101514,-0.031484297706019834,-0.03780905546501487,-0.03349199634506397,-0.030913112948125626,-0.028701507655257114,-0.02795716151046732,-0.03590757877320232,-0.036192155927615835,-0.04045933445209949,-0.04483859900725367,-0.04890154813997021,-0.060804296466316896,-0.06162918378810958,-0.05929856714389644,-0.06714304818516138,-0.06955152325657153,-0.06960884837570618,-0.06771335118128337,-0.06553315654050146,-0.06462205151383098,-0.06757270259031394,-0.06532788681251554,-0.06571444982194408,-0.07629577236099216,-0.07968414337623306,-0.08438310188119454,-0.07715685065176443,-0.0831733270213417,-0.1007861816034747,-0.10262042694822875,-0.10181186430312308,-0.13137869145516104,-0.14199852459875464,-0.1426597742676643,-0.1532629660661911,-0.16275152528252965,-0.17242358432475843,-0.14950008125827724,-0.1436049094342244,-0.14280025263286655,-0.11487362621176654,-0.08793218701462337,-0.1594054161693595,-0.12883687597532598,-0.0904649926126139,-0.0723001327643602,-0.11854704016084529,-0.08051318197013212,-0.03285089127986512,-0.07196634382166178,0.029723661279885173,-0.016628923954156348,-0.015358544095949575,-0.01611643148982437,-0.06241461026634072,-0.011498611082003589,0.023529065574736847,0.047291734201198685,0.07294082249617133,0.05457276308115797,0.08383008936067465,0.12672541957721573,0.11144834220142157,0.16637211197384158,0.1433084631356873,0.10618479164654665,0.09125317308398347,0.15276273726360357,0.12847628008143078,0.12293646452805382,0.15517703534108612,0.1648662382560148,0.23755375085479047,0.24636626293560124,0.26715160059277115,0.2856114641584481,0.3259264706788737,0.34732195523567577,0.41196632674935585,0.17829833964806763,0.3149590966261514,0.33953838991494356,0.2980922753041376,0.12569785428261301,0.07452747085308843,0.36173290590090645,0.33618256439365585,0.3454245351671545,0.3544599232009686,0.3728803563294965,0.2866003621441781,0.23245706676448716,0.26769114432863894,0.3483092331323475,0.22787980677689218,0.1655965571040872,0.18649608099043835,0.1431182970157446,0.17252550615289455,0.12503125883117203,0.08576186109342551,0.08357208451544386,-0.01228458826799264,0.021534521413253387,-0.0157222069438947,0.015300891950380919,0.03191644246087336,-0.006260056742482893,-0.048995098784153056,-0.0768895216989799,-0.06639923886805428,-0.11986052483143128,-0.1251228590814667,-0.10716842368229854,-0.12602478626468,-0.06065400209528956,-0.03874580177657951,-0.061187633086516265,-0.09026226671491404,-0.08769812682780574,-0.09477004489179595,-0.09078228511478521,-0.37692540771377164,-0.1861535299935763,-0.12601514601944436,-0.1747394197195146,-0.2541151600824312,-0.38459498710370504,-0.1935531026285471,-0.18208755326793435,-0.16546084801600394,-0.1496183709413017,-0.1395670112332584,-0.13375732738272902,-0.11240601559677334,-0.08556479247127365,-0.06722538141643776,-0.056426279274743356,-0.06305851799306747,-0.06539265183415778,-0.07927281963919985,-0.07180304600217013,-0.08463951348106671,-0.07676579821102188,-0.07317689658338353,-0.06693098731708767,-0.05076033990231859,-0.054529892775240604,-0.047128737609972916,-0.055246074858147726,-0.05013415535967951,-0.04370264387129969,-0.04063244849236914,-0.04930166099764048,-0.03965325451049271,-0.026483699335132765,-0.019085618591723655,-0.012078597001807414,-0.014155852156082423,0.01112474551070472,0.006794105345102973,0.02093898065102024,0.03306851688427594,0.03128874430951456,0.02256005348305111],\"yaxis\":\"y\",\"type\":\"scatter\"}],                        {\"template\":{\"data\":{\"bar\":[{\"error_x\":{\"color\":\"#2a3f5f\"},\"error_y\":{\"color\":\"#2a3f5f\"},\"marker\":{\"line\":{\"color\":\"#E5ECF6\",\"width\":0.5},\"pattern\":{\"fillmode\":\"overlay\",\"size\":10,\"solidity\":0.2}},\"type\":\"bar\"}],\"barpolar\":[{\"marker\":{\"line\":{\"color\":\"#E5ECF6\",\"width\":0.5},\"pattern\":{\"fillmode\":\"overlay\",\"size\":10,\"solidity\":0.2}},\"type\":\"barpolar\"}],\"carpet\":[{\"aaxis\":{\"endlinecolor\":\"#2a3f5f\",\"gridcolor\":\"white\",\"linecolor\":\"white\",\"minorgridcolor\":\"white\",\"startlinecolor\":\"#2a3f5f\"},\"baxis\":{\"endlinecolor\":\"#2a3f5f\",\"gridcolor\":\"white\",\"linecolor\":\"white\",\"minorgridcolor\":\"white\",\"startlinecolor\":\"#2a3f5f\"},\"type\":\"carpet\"}],\"choropleth\":[{\"colorbar\":{\"outlinewidth\":0,\"ticks\":\"\"},\"type\":\"choropleth\"}],\"contour\":[{\"colorbar\":{\"outlinewidth\":0,\"ticks\":\"\"},\"colorscale\":[[0.0,\"#0d0887\"],[0.1111111111111111,\"#46039f\"],[0.2222222222222222,\"#7201a8\"],[0.3333333333333333,\"#9c179e\"],[0.4444444444444444,\"#bd3786\"],[0.5555555555555556,\"#d8576b\"],[0.6666666666666666,\"#ed7953\"],[0.7777777777777778,\"#fb9f3a\"],[0.8888888888888888,\"#fdca26\"],[1.0,\"#f0f921\"]],\"type\":\"contour\"}],\"contourcarpet\":[{\"colorbar\":{\"outlinewidth\":0,\"ticks\":\"\"},\"type\":\"contourcarpet\"}],\"heatmap\":[{\"colorbar\":{\"outlinewidth\":0,\"ticks\":\"\"},\"colorscale\":[[0.0,\"#0d0887\"],[0.1111111111111111,\"#46039f\"],[0.2222222222222222,\"#7201a8\"],[0.3333333333333333,\"#9c179e\"],[0.4444444444444444,\"#bd3786\"],[0.5555555555555556,\"#d8576b\"],[0.6666666666666666,\"#ed7953\"],[0.7777777777777778,\"#fb9f3a\"],[0.8888888888888888,\"#fdca26\"],[1.0,\"#f0f921\"]],\"type\":\"heatmap\"}],\"heatmapgl\":[{\"colorbar\":{\"outlinewidth\":0,\"ticks\":\"\"},\"colorscale\":[[0.0,\"#0d0887\"],[0.1111111111111111,\"#46039f\"],[0.2222222222222222,\"#7201a8\"],[0.3333333333333333,\"#9c179e\"],[0.4444444444444444,\"#bd3786\"],[0.5555555555555556,\"#d8576b\"],[0.6666666666666666,\"#ed7953\"],[0.7777777777777778,\"#fb9f3a\"],[0.8888888888888888,\"#fdca26\"],[1.0,\"#f0f921\"]],\"type\":\"heatmapgl\"}],\"histogram\":[{\"marker\":{\"pattern\":{\"fillmode\":\"overlay\",\"size\":10,\"solidity\":0.2}},\"type\":\"histogram\"}],\"histogram2d\":[{\"colorbar\":{\"outlinewidth\":0,\"ticks\":\"\"},\"colorscale\":[[0.0,\"#0d0887\"],[0.1111111111111111,\"#46039f\"],[0.2222222222222222,\"#7201a8\"],[0.3333333333333333,\"#9c179e\"],[0.4444444444444444,\"#bd3786\"],[0.5555555555555556,\"#d8576b\"],[0.6666666666666666,\"#ed7953\"],[0.7777777777777778,\"#fb9f3a\"],[0.8888888888888888,\"#fdca26\"],[1.0,\"#f0f921\"]],\"type\":\"histogram2d\"}],\"histogram2dcontour\":[{\"colorbar\":{\"outlinewidth\":0,\"ticks\":\"\"},\"colorscale\":[[0.0,\"#0d0887\"],[0.1111111111111111,\"#46039f\"],[0.2222222222222222,\"#7201a8\"],[0.3333333333333333,\"#9c179e\"],[0.4444444444444444,\"#bd3786\"],[0.5555555555555556,\"#d8576b\"],[0.6666666666666666,\"#ed7953\"],[0.7777777777777778,\"#fb9f3a\"],[0.8888888888888888,\"#fdca26\"],[1.0,\"#f0f921\"]],\"type\":\"histogram2dcontour\"}],\"mesh3d\":[{\"colorbar\":{\"outlinewidth\":0,\"ticks\":\"\"},\"type\":\"mesh3d\"}],\"parcoords\":[{\"line\":{\"colorbar\":{\"outlinewidth\":0,\"ticks\":\"\"}},\"type\":\"parcoords\"}],\"pie\":[{\"automargin\":true,\"type\":\"pie\"}],\"scatter\":[{\"marker\":{\"colorbar\":{\"outlinewidth\":0,\"ticks\":\"\"}},\"type\":\"scatter\"}],\"scatter3d\":[{\"line\":{\"colorbar\":{\"outlinewidth\":0,\"ticks\":\"\"}},\"marker\":{\"colorbar\":{\"outlinewidth\":0,\"ticks\":\"\"}},\"type\":\"scatter3d\"}],\"scattercarpet\":[{\"marker\":{\"colorbar\":{\"outlinewidth\":0,\"ticks\":\"\"}},\"type\":\"scattercarpet\"}],\"scattergeo\":[{\"marker\":{\"colorbar\":{\"outlinewidth\":0,\"ticks\":\"\"}},\"type\":\"scattergeo\"}],\"scattergl\":[{\"marker\":{\"colorbar\":{\"outlinewidth\":0,\"ticks\":\"\"}},\"type\":\"scattergl\"}],\"scattermapbox\":[{\"marker\":{\"colorbar\":{\"outlinewidth\":0,\"ticks\":\"\"}},\"type\":\"scattermapbox\"}],\"scatterpolar\":[{\"marker\":{\"colorbar\":{\"outlinewidth\":0,\"ticks\":\"\"}},\"type\":\"scatterpolar\"}],\"scatterpolargl\":[{\"marker\":{\"colorbar\":{\"outlinewidth\":0,\"ticks\":\"\"}},\"type\":\"scatterpolargl\"}],\"scatterternary\":[{\"marker\":{\"colorbar\":{\"outlinewidth\":0,\"ticks\":\"\"}},\"type\":\"scatterternary\"}],\"surface\":[{\"colorbar\":{\"outlinewidth\":0,\"ticks\":\"\"},\"colorscale\":[[0.0,\"#0d0887\"],[0.1111111111111111,\"#46039f\"],[0.2222222222222222,\"#7201a8\"],[0.3333333333333333,\"#9c179e\"],[0.4444444444444444,\"#bd3786\"],[0.5555555555555556,\"#d8576b\"],[0.6666666666666666,\"#ed7953\"],[0.7777777777777778,\"#fb9f3a\"],[0.8888888888888888,\"#fdca26\"],[1.0,\"#f0f921\"]],\"type\":\"surface\"}],\"table\":[{\"cells\":{\"fill\":{\"color\":\"#EBF0F8\"},\"line\":{\"color\":\"white\"}},\"header\":{\"fill\":{\"color\":\"#C8D4E3\"},\"line\":{\"color\":\"white\"}},\"type\":\"table\"}]},\"layout\":{\"annotationdefaults\":{\"arrowcolor\":\"#2a3f5f\",\"arrowhead\":0,\"arrowwidth\":1},\"autotypenumbers\":\"strict\",\"coloraxis\":{\"colorbar\":{\"outlinewidth\":0,\"ticks\":\"\"}},\"colorscale\":{\"diverging\":[[0,\"#8e0152\"],[0.1,\"#c51b7d\"],[0.2,\"#de77ae\"],[0.3,\"#f1b6da\"],[0.4,\"#fde0ef\"],[0.5,\"#f7f7f7\"],[0.6,\"#e6f5d0\"],[0.7,\"#b8e186\"],[0.8,\"#7fbc41\"],[0.9,\"#4d9221\"],[1,\"#276419\"]],\"sequential\":[[0.0,\"#0d0887\"],[0.1111111111111111,\"#46039f\"],[0.2222222222222222,\"#7201a8\"],[0.3333333333333333,\"#9c179e\"],[0.4444444444444444,\"#bd3786\"],[0.5555555555555556,\"#d8576b\"],[0.6666666666666666,\"#ed7953\"],[0.7777777777777778,\"#fb9f3a\"],[0.8888888888888888,\"#fdca26\"],[1.0,\"#f0f921\"]],\"sequentialminus\":[[0.0,\"#0d0887\"],[0.1111111111111111,\"#46039f\"],[0.2222222222222222,\"#7201a8\"],[0.3333333333333333,\"#9c179e\"],[0.4444444444444444,\"#bd3786\"],[0.5555555555555556,\"#d8576b\"],[0.6666666666666666,\"#ed7953\"],[0.7777777777777778,\"#fb9f3a\"],[0.8888888888888888,\"#fdca26\"],[1.0,\"#f0f921\"]]},\"colorway\":[\"#636efa\",\"#EF553B\",\"#00cc96\",\"#ab63fa\",\"#FFA15A\",\"#19d3f3\",\"#FF6692\",\"#B6E880\",\"#FF97FF\",\"#FECB52\"],\"font\":{\"color\":\"#2a3f5f\"},\"geo\":{\"bgcolor\":\"white\",\"lakecolor\":\"white\",\"landcolor\":\"#E5ECF6\",\"showlakes\":true,\"showland\":true,\"subunitcolor\":\"white\"},\"hoverlabel\":{\"align\":\"left\"},\"hovermode\":\"closest\",\"mapbox\":{\"style\":\"light\"},\"paper_bgcolor\":\"white\",\"plot_bgcolor\":\"#E5ECF6\",\"polar\":{\"angularaxis\":{\"gridcolor\":\"white\",\"linecolor\":\"white\",\"ticks\":\"\"},\"bgcolor\":\"#E5ECF6\",\"radialaxis\":{\"gridcolor\":\"white\",\"linecolor\":\"white\",\"ticks\":\"\"}},\"scene\":{\"xaxis\":{\"backgroundcolor\":\"#E5ECF6\",\"gridcolor\":\"white\",\"gridwidth\":2,\"linecolor\":\"white\",\"showbackground\":true,\"ticks\":\"\",\"zerolinecolor\":\"white\"},\"yaxis\":{\"backgroundcolor\":\"#E5ECF6\",\"gridcolor\":\"white\",\"gridwidth\":2,\"linecolor\":\"white\",\"showbackground\":true,\"ticks\":\"\",\"zerolinecolor\":\"white\"},\"zaxis\":{\"backgroundcolor\":\"#E5ECF6\",\"gridcolor\":\"white\",\"gridwidth\":2,\"linecolor\":\"white\",\"showbackground\":true,\"ticks\":\"\",\"zerolinecolor\":\"white\"}},\"shapedefaults\":{\"line\":{\"color\":\"#2a3f5f\"}},\"ternary\":{\"aaxis\":{\"gridcolor\":\"white\",\"linecolor\":\"white\",\"ticks\":\"\"},\"baxis\":{\"gridcolor\":\"white\",\"linecolor\":\"white\",\"ticks\":\"\"},\"bgcolor\":\"#E5ECF6\",\"caxis\":{\"gridcolor\":\"white\",\"linecolor\":\"white\",\"ticks\":\"\"}},\"title\":{\"x\":0.05},\"xaxis\":{\"automargin\":true,\"gridcolor\":\"white\",\"linecolor\":\"white\",\"ticks\":\"\",\"title\":{\"standoff\":15},\"zerolinecolor\":\"white\",\"zerolinewidth\":2},\"yaxis\":{\"automargin\":true,\"gridcolor\":\"white\",\"linecolor\":\"white\",\"ticks\":\"\",\"title\":{\"standoff\":15},\"zerolinecolor\":\"white\",\"zerolinewidth\":2}}},\"xaxis\":{\"anchor\":\"y\",\"domain\":[0.0,1.0],\"title\":{\"text\":\"Lag\"},\"range\":[-24,24]},\"yaxis\":{\"anchor\":\"x\",\"domain\":[0.0,1.0],\"title\":{\"text\":\"Correlation Coef\"},\"range\":[-1,1]},\"legend\":{\"tracegroupgap\":0},\"title\":{\"text\":\"Correlation between CASES_SOLD and MAX_WKLY_INVENTORY\"}},                        {\"responsive\": true}                    ).then(function(){\n",
       "                            \n",
       "var gd = document.getElementById('e5d5f1a3-67dd-48a7-a383-dc0e987f5ee3');\n",
       "var x = new MutationObserver(function (mutations, observer) {{\n",
       "        var display = window.getComputedStyle(gd).display;\n",
       "        if (!display || display === 'none') {{\n",
       "            console.log([gd, 'removed!']);\n",
       "            Plotly.purge(gd);\n",
       "            observer.disconnect();\n",
       "        }}\n",
       "}});\n",
       "\n",
       "// Listen for the removal of the full notebook cells\n",
       "var notebookContainer = gd.closest('#notebook-container');\n",
       "if (notebookContainer) {{\n",
       "    x.observe(notebookContainer, {childList: true});\n",
       "}}\n",
       "\n",
       "// Listen for the clearing of the current output cell\n",
       "var outputEl = gd.closest('.output');\n",
       "if (outputEl) {{\n",
       "    x.observe(outputEl, {childList: true});\n",
       "}}\n",
       "\n",
       "                        })                };                });            </script>        </div>"
      ]
     },
     "metadata": {},
     "output_type": "display_data"
    }
   ],
   "source": [
    "x = temp['CASES_SOLD']\n",
    "y = temp['MAX_WKLY_INVENTORY']\n",
    "lag = np.arange(-len(x) + 1, len(x))\n",
    "coefs = correlate(x-x.mean(), y-y.mean(), mode='full') / (np.std(x) * np.std(y) * len(x))\n",
    "px.line(x=lag, y=coefs, labels={'x':'Lag', 'y':'Correlation Coef'}, \n",
    "        title=('Correlation between ' + x.name + ' and ' + y.name),\n",
    "        range_y=[-1, 1], range_x=[-24, 24])"
   ]
  },
  {
   "cell_type": "markdown",
   "id": "c2e66f95",
   "metadata": {},
   "source": [
    "# Model Building"
   ]
  },
  {
   "cell_type": "code",
   "execution_count": 41,
   "id": "827b5397",
   "metadata": {},
   "outputs": [
    {
     "data": {
      "text/html": [
       "<div>\n",
       "<style scoped>\n",
       "    .dataframe tbody tr th:only-of-type {\n",
       "        vertical-align: middle;\n",
       "    }\n",
       "\n",
       "    .dataframe tbody tr th {\n",
       "        vertical-align: top;\n",
       "    }\n",
       "\n",
       "    .dataframe thead th {\n",
       "        text-align: right;\n",
       "    }\n",
       "</style>\n",
       "<table border=\"1\" class=\"dataframe\">\n",
       "  <thead>\n",
       "    <tr style=\"text-align: right;\">\n",
       "      <th></th>\n",
       "      <th>CASES_SOLD</th>\n",
       "      <th>MAX_WKLY_INVENTORY</th>\n",
       "      <th>MAX_VIRTUAL_SLOT_POSITIONS</th>\n",
       "      <th>MAX_PERC_VIRTUAL_SLOTS</th>\n",
       "      <th>MAX_PICK_POSITIONS</th>\n",
       "      <th>MAX_PERC_PICK</th>\n",
       "      <th>BRNCH_CD_2G</th>\n",
       "      <th>BRNCH_CD_2I</th>\n",
       "      <th>BRNCH_CD_2J</th>\n",
       "      <th>BRNCH_CD_2L</th>\n",
       "      <th>BRNCH_CD_2N</th>\n",
       "      <th>BRNCH_CD_2O</th>\n",
       "      <th>BRNCH_CD_2R</th>\n",
       "      <th>BRNCH_CD_2Z</th>\n",
       "      <th>BRNCH_CD_3D</th>\n",
       "      <th>BRNCH_CD_3F</th>\n",
       "      <th>BRNCH_CD_3J</th>\n",
       "      <th>BRNCH_CD_3K</th>\n",
       "      <th>BRNCH_CD_3L</th>\n",
       "      <th>BRNCH_CD_3M</th>\n",
       "      <th>BRNCH_CD_3V</th>\n",
       "      <th>BRNCH_CD_3W</th>\n",
       "      <th>BRNCH_CD_3Y</th>\n",
       "      <th>BRNCH_CD_3Z</th>\n",
       "      <th>BRNCH_CD_4C</th>\n",
       "      <th>BRNCH_CD_4H</th>\n",
       "      <th>BRNCH_CD_4I</th>\n",
       "      <th>BRNCH_CD_4J</th>\n",
       "      <th>BRNCH_CD_4O</th>\n",
       "      <th>BRNCH_CD_4P</th>\n",
       "      <th>BRNCH_CD_4Q</th>\n",
       "      <th>BRNCH_CD_4R</th>\n",
       "      <th>BRNCH_CD_4U</th>\n",
       "      <th>BRNCH_CD_4V</th>\n",
       "      <th>BRNCH_CD_5D</th>\n",
       "      <th>BRNCH_CD_5E</th>\n",
       "      <th>BRNCH_CD_5G</th>\n",
       "      <th>BRNCH_CD_5I</th>\n",
       "      <th>BRNCH_CD_5O</th>\n",
       "      <th>BRNCH_CD_5T</th>\n",
       "      <th>BRNCH_CD_5Y</th>\n",
       "      <th>BRNCH_CD_5Z</th>\n",
       "      <th>BRNCH_CD_6A</th>\n",
       "      <th>BRNCH_CD_6B</th>\n",
       "      <th>BRNCH_CD_6F</th>\n",
       "      <th>BRNCH_CD_6G</th>\n",
       "      <th>BRNCH_CD_6H</th>\n",
       "      <th>BRNCH_CD_6I</th>\n",
       "      <th>BRNCH_CD_6J</th>\n",
       "      <th>BRNCH_CD_6N</th>\n",
       "      <th>BRNCH_CD_6U</th>\n",
       "      <th>BRNCH_CD_6W</th>\n",
       "      <th>BRNCH_CD_6Y</th>\n",
       "      <th>BRNCH_CD_6Z</th>\n",
       "      <th>BRNCH_CD_8A</th>\n",
       "      <th>BRNCH_CD_8B</th>\n",
       "      <th>BRNCH_CD_8E</th>\n",
       "      <th>BRNCH_CD_8L</th>\n",
       "      <th>BRNCH_CD_8N</th>\n",
       "      <th>BRNCH_CD_8O</th>\n",
       "      <th>BRNCH_CD_8S</th>\n",
       "      <th>BRNCH_CD_8T</th>\n",
       "      <th>BRNCH_CD_8U</th>\n",
       "      <th>BRNCH_CD_8V</th>\n",
       "      <th>BRNCH_CD_9A</th>\n",
       "      <th>BRNCH_CD_9B</th>\n",
       "      <th>BRNCH_CD_9D</th>\n",
       "      <th>BRNCH_CD_9I</th>\n",
       "      <th>BRNCH_CD_9J</th>\n",
       "      <th>BRNCH_CD_9L</th>\n",
       "      <th>BRNCH_CD_9O</th>\n",
       "      <th>BRNCH_CD_9P</th>\n",
       "      <th>BRNCH_CD_9Q</th>\n",
       "      <th>BRNCH_CD_9U</th>\n",
       "    </tr>\n",
       "  </thead>\n",
       "  <tbody>\n",
       "    <tr>\n",
       "      <th>0</th>\n",
       "      <td>125766.5582</td>\n",
       "      <td>504549.312504</td>\n",
       "      <td>38.0</td>\n",
       "      <td>0.002127</td>\n",
       "      <td>8892.0</td>\n",
       "      <td>0.487828</td>\n",
       "      <td>1</td>\n",
       "      <td>0</td>\n",
       "      <td>0</td>\n",
       "      <td>0</td>\n",
       "      <td>0</td>\n",
       "      <td>0</td>\n",
       "      <td>0</td>\n",
       "      <td>0</td>\n",
       "      <td>0</td>\n",
       "      <td>0</td>\n",
       "      <td>0</td>\n",
       "      <td>0</td>\n",
       "      <td>0</td>\n",
       "      <td>0</td>\n",
       "      <td>0</td>\n",
       "      <td>0</td>\n",
       "      <td>0</td>\n",
       "      <td>0</td>\n",
       "      <td>0</td>\n",
       "      <td>0</td>\n",
       "      <td>0</td>\n",
       "      <td>0</td>\n",
       "      <td>0</td>\n",
       "      <td>0</td>\n",
       "      <td>0</td>\n",
       "      <td>0</td>\n",
       "      <td>0</td>\n",
       "      <td>0</td>\n",
       "      <td>0</td>\n",
       "      <td>0</td>\n",
       "      <td>0</td>\n",
       "      <td>0</td>\n",
       "      <td>0</td>\n",
       "      <td>0</td>\n",
       "      <td>0</td>\n",
       "      <td>0</td>\n",
       "      <td>0</td>\n",
       "      <td>0</td>\n",
       "      <td>0</td>\n",
       "      <td>0</td>\n",
       "      <td>0</td>\n",
       "      <td>0</td>\n",
       "      <td>0</td>\n",
       "      <td>0</td>\n",
       "      <td>0</td>\n",
       "      <td>0</td>\n",
       "      <td>0</td>\n",
       "      <td>0</td>\n",
       "      <td>0</td>\n",
       "      <td>0</td>\n",
       "      <td>0</td>\n",
       "      <td>0</td>\n",
       "      <td>0</td>\n",
       "      <td>0</td>\n",
       "      <td>0</td>\n",
       "      <td>0</td>\n",
       "      <td>0</td>\n",
       "      <td>0</td>\n",
       "      <td>0</td>\n",
       "      <td>0</td>\n",
       "      <td>0</td>\n",
       "      <td>0</td>\n",
       "      <td>0</td>\n",
       "      <td>0</td>\n",
       "      <td>0</td>\n",
       "      <td>0</td>\n",
       "      <td>0</td>\n",
       "      <td>0</td>\n",
       "    </tr>\n",
       "    <tr>\n",
       "      <th>1</th>\n",
       "      <td>130699.0329</td>\n",
       "      <td>505326.354171</td>\n",
       "      <td>37.0</td>\n",
       "      <td>0.002073</td>\n",
       "      <td>8809.0</td>\n",
       "      <td>0.490418</td>\n",
       "      <td>1</td>\n",
       "      <td>0</td>\n",
       "      <td>0</td>\n",
       "      <td>0</td>\n",
       "      <td>0</td>\n",
       "      <td>0</td>\n",
       "      <td>0</td>\n",
       "      <td>0</td>\n",
       "      <td>0</td>\n",
       "      <td>0</td>\n",
       "      <td>0</td>\n",
       "      <td>0</td>\n",
       "      <td>0</td>\n",
       "      <td>0</td>\n",
       "      <td>0</td>\n",
       "      <td>0</td>\n",
       "      <td>0</td>\n",
       "      <td>0</td>\n",
       "      <td>0</td>\n",
       "      <td>0</td>\n",
       "      <td>0</td>\n",
       "      <td>0</td>\n",
       "      <td>0</td>\n",
       "      <td>0</td>\n",
       "      <td>0</td>\n",
       "      <td>0</td>\n",
       "      <td>0</td>\n",
       "      <td>0</td>\n",
       "      <td>0</td>\n",
       "      <td>0</td>\n",
       "      <td>0</td>\n",
       "      <td>0</td>\n",
       "      <td>0</td>\n",
       "      <td>0</td>\n",
       "      <td>0</td>\n",
       "      <td>0</td>\n",
       "      <td>0</td>\n",
       "      <td>0</td>\n",
       "      <td>0</td>\n",
       "      <td>0</td>\n",
       "      <td>0</td>\n",
       "      <td>0</td>\n",
       "      <td>0</td>\n",
       "      <td>0</td>\n",
       "      <td>0</td>\n",
       "      <td>0</td>\n",
       "      <td>0</td>\n",
       "      <td>0</td>\n",
       "      <td>0</td>\n",
       "      <td>0</td>\n",
       "      <td>0</td>\n",
       "      <td>0</td>\n",
       "      <td>0</td>\n",
       "      <td>0</td>\n",
       "      <td>0</td>\n",
       "      <td>0</td>\n",
       "      <td>0</td>\n",
       "      <td>0</td>\n",
       "      <td>0</td>\n",
       "      <td>0</td>\n",
       "      <td>0</td>\n",
       "      <td>0</td>\n",
       "      <td>0</td>\n",
       "      <td>0</td>\n",
       "      <td>0</td>\n",
       "      <td>0</td>\n",
       "      <td>0</td>\n",
       "      <td>0</td>\n",
       "    </tr>\n",
       "    <tr>\n",
       "      <th>2</th>\n",
       "      <td>131386.2356</td>\n",
       "      <td>494993.050005</td>\n",
       "      <td>35.0</td>\n",
       "      <td>0.001957</td>\n",
       "      <td>8746.0</td>\n",
       "      <td>0.489869</td>\n",
       "      <td>1</td>\n",
       "      <td>0</td>\n",
       "      <td>0</td>\n",
       "      <td>0</td>\n",
       "      <td>0</td>\n",
       "      <td>0</td>\n",
       "      <td>0</td>\n",
       "      <td>0</td>\n",
       "      <td>0</td>\n",
       "      <td>0</td>\n",
       "      <td>0</td>\n",
       "      <td>0</td>\n",
       "      <td>0</td>\n",
       "      <td>0</td>\n",
       "      <td>0</td>\n",
       "      <td>0</td>\n",
       "      <td>0</td>\n",
       "      <td>0</td>\n",
       "      <td>0</td>\n",
       "      <td>0</td>\n",
       "      <td>0</td>\n",
       "      <td>0</td>\n",
       "      <td>0</td>\n",
       "      <td>0</td>\n",
       "      <td>0</td>\n",
       "      <td>0</td>\n",
       "      <td>0</td>\n",
       "      <td>0</td>\n",
       "      <td>0</td>\n",
       "      <td>0</td>\n",
       "      <td>0</td>\n",
       "      <td>0</td>\n",
       "      <td>0</td>\n",
       "      <td>0</td>\n",
       "      <td>0</td>\n",
       "      <td>0</td>\n",
       "      <td>0</td>\n",
       "      <td>0</td>\n",
       "      <td>0</td>\n",
       "      <td>0</td>\n",
       "      <td>0</td>\n",
       "      <td>0</td>\n",
       "      <td>0</td>\n",
       "      <td>0</td>\n",
       "      <td>0</td>\n",
       "      <td>0</td>\n",
       "      <td>0</td>\n",
       "      <td>0</td>\n",
       "      <td>0</td>\n",
       "      <td>0</td>\n",
       "      <td>0</td>\n",
       "      <td>0</td>\n",
       "      <td>0</td>\n",
       "      <td>0</td>\n",
       "      <td>0</td>\n",
       "      <td>0</td>\n",
       "      <td>0</td>\n",
       "      <td>0</td>\n",
       "      <td>0</td>\n",
       "      <td>0</td>\n",
       "      <td>0</td>\n",
       "      <td>0</td>\n",
       "      <td>0</td>\n",
       "      <td>0</td>\n",
       "      <td>0</td>\n",
       "      <td>0</td>\n",
       "      <td>0</td>\n",
       "      <td>0</td>\n",
       "    </tr>\n",
       "    <tr>\n",
       "      <th>3</th>\n",
       "      <td>136079.6219</td>\n",
       "      <td>497737.160838</td>\n",
       "      <td>39.0</td>\n",
       "      <td>0.002139</td>\n",
       "      <td>8792.0</td>\n",
       "      <td>0.482123</td>\n",
       "      <td>1</td>\n",
       "      <td>0</td>\n",
       "      <td>0</td>\n",
       "      <td>0</td>\n",
       "      <td>0</td>\n",
       "      <td>0</td>\n",
       "      <td>0</td>\n",
       "      <td>0</td>\n",
       "      <td>0</td>\n",
       "      <td>0</td>\n",
       "      <td>0</td>\n",
       "      <td>0</td>\n",
       "      <td>0</td>\n",
       "      <td>0</td>\n",
       "      <td>0</td>\n",
       "      <td>0</td>\n",
       "      <td>0</td>\n",
       "      <td>0</td>\n",
       "      <td>0</td>\n",
       "      <td>0</td>\n",
       "      <td>0</td>\n",
       "      <td>0</td>\n",
       "      <td>0</td>\n",
       "      <td>0</td>\n",
       "      <td>0</td>\n",
       "      <td>0</td>\n",
       "      <td>0</td>\n",
       "      <td>0</td>\n",
       "      <td>0</td>\n",
       "      <td>0</td>\n",
       "      <td>0</td>\n",
       "      <td>0</td>\n",
       "      <td>0</td>\n",
       "      <td>0</td>\n",
       "      <td>0</td>\n",
       "      <td>0</td>\n",
       "      <td>0</td>\n",
       "      <td>0</td>\n",
       "      <td>0</td>\n",
       "      <td>0</td>\n",
       "      <td>0</td>\n",
       "      <td>0</td>\n",
       "      <td>0</td>\n",
       "      <td>0</td>\n",
       "      <td>0</td>\n",
       "      <td>0</td>\n",
       "      <td>0</td>\n",
       "      <td>0</td>\n",
       "      <td>0</td>\n",
       "      <td>0</td>\n",
       "      <td>0</td>\n",
       "      <td>0</td>\n",
       "      <td>0</td>\n",
       "      <td>0</td>\n",
       "      <td>0</td>\n",
       "      <td>0</td>\n",
       "      <td>0</td>\n",
       "      <td>0</td>\n",
       "      <td>0</td>\n",
       "      <td>0</td>\n",
       "      <td>0</td>\n",
       "      <td>0</td>\n",
       "      <td>0</td>\n",
       "      <td>0</td>\n",
       "      <td>0</td>\n",
       "      <td>0</td>\n",
       "      <td>0</td>\n",
       "      <td>0</td>\n",
       "    </tr>\n",
       "    <tr>\n",
       "      <th>4</th>\n",
       "      <td>129391.5811</td>\n",
       "      <td>514711.669166</td>\n",
       "      <td>36.0</td>\n",
       "      <td>0.001988</td>\n",
       "      <td>8797.0</td>\n",
       "      <td>0.479388</td>\n",
       "      <td>1</td>\n",
       "      <td>0</td>\n",
       "      <td>0</td>\n",
       "      <td>0</td>\n",
       "      <td>0</td>\n",
       "      <td>0</td>\n",
       "      <td>0</td>\n",
       "      <td>0</td>\n",
       "      <td>0</td>\n",
       "      <td>0</td>\n",
       "      <td>0</td>\n",
       "      <td>0</td>\n",
       "      <td>0</td>\n",
       "      <td>0</td>\n",
       "      <td>0</td>\n",
       "      <td>0</td>\n",
       "      <td>0</td>\n",
       "      <td>0</td>\n",
       "      <td>0</td>\n",
       "      <td>0</td>\n",
       "      <td>0</td>\n",
       "      <td>0</td>\n",
       "      <td>0</td>\n",
       "      <td>0</td>\n",
       "      <td>0</td>\n",
       "      <td>0</td>\n",
       "      <td>0</td>\n",
       "      <td>0</td>\n",
       "      <td>0</td>\n",
       "      <td>0</td>\n",
       "      <td>0</td>\n",
       "      <td>0</td>\n",
       "      <td>0</td>\n",
       "      <td>0</td>\n",
       "      <td>0</td>\n",
       "      <td>0</td>\n",
       "      <td>0</td>\n",
       "      <td>0</td>\n",
       "      <td>0</td>\n",
       "      <td>0</td>\n",
       "      <td>0</td>\n",
       "      <td>0</td>\n",
       "      <td>0</td>\n",
       "      <td>0</td>\n",
       "      <td>0</td>\n",
       "      <td>0</td>\n",
       "      <td>0</td>\n",
       "      <td>0</td>\n",
       "      <td>0</td>\n",
       "      <td>0</td>\n",
       "      <td>0</td>\n",
       "      <td>0</td>\n",
       "      <td>0</td>\n",
       "      <td>0</td>\n",
       "      <td>0</td>\n",
       "      <td>0</td>\n",
       "      <td>0</td>\n",
       "      <td>0</td>\n",
       "      <td>0</td>\n",
       "      <td>0</td>\n",
       "      <td>0</td>\n",
       "      <td>0</td>\n",
       "      <td>0</td>\n",
       "      <td>0</td>\n",
       "      <td>0</td>\n",
       "      <td>0</td>\n",
       "      <td>0</td>\n",
       "      <td>0</td>\n",
       "    </tr>\n",
       "    <tr>\n",
       "      <th>...</th>\n",
       "      <td>...</td>\n",
       "      <td>...</td>\n",
       "      <td>...</td>\n",
       "      <td>...</td>\n",
       "      <td>...</td>\n",
       "      <td>...</td>\n",
       "      <td>...</td>\n",
       "      <td>...</td>\n",
       "      <td>...</td>\n",
       "      <td>...</td>\n",
       "      <td>...</td>\n",
       "      <td>...</td>\n",
       "      <td>...</td>\n",
       "      <td>...</td>\n",
       "      <td>...</td>\n",
       "      <td>...</td>\n",
       "      <td>...</td>\n",
       "      <td>...</td>\n",
       "      <td>...</td>\n",
       "      <td>...</td>\n",
       "      <td>...</td>\n",
       "      <td>...</td>\n",
       "      <td>...</td>\n",
       "      <td>...</td>\n",
       "      <td>...</td>\n",
       "      <td>...</td>\n",
       "      <td>...</td>\n",
       "      <td>...</td>\n",
       "      <td>...</td>\n",
       "      <td>...</td>\n",
       "      <td>...</td>\n",
       "      <td>...</td>\n",
       "      <td>...</td>\n",
       "      <td>...</td>\n",
       "      <td>...</td>\n",
       "      <td>...</td>\n",
       "      <td>...</td>\n",
       "      <td>...</td>\n",
       "      <td>...</td>\n",
       "      <td>...</td>\n",
       "      <td>...</td>\n",
       "      <td>...</td>\n",
       "      <td>...</td>\n",
       "      <td>...</td>\n",
       "      <td>...</td>\n",
       "      <td>...</td>\n",
       "      <td>...</td>\n",
       "      <td>...</td>\n",
       "      <td>...</td>\n",
       "      <td>...</td>\n",
       "      <td>...</td>\n",
       "      <td>...</td>\n",
       "      <td>...</td>\n",
       "      <td>...</td>\n",
       "      <td>...</td>\n",
       "      <td>...</td>\n",
       "      <td>...</td>\n",
       "      <td>...</td>\n",
       "      <td>...</td>\n",
       "      <td>...</td>\n",
       "      <td>...</td>\n",
       "      <td>...</td>\n",
       "      <td>...</td>\n",
       "      <td>...</td>\n",
       "      <td>...</td>\n",
       "      <td>...</td>\n",
       "      <td>...</td>\n",
       "      <td>...</td>\n",
       "      <td>...</td>\n",
       "      <td>...</td>\n",
       "      <td>...</td>\n",
       "      <td>...</td>\n",
       "      <td>...</td>\n",
       "      <td>...</td>\n",
       "    </tr>\n",
       "    <tr>\n",
       "      <th>4950</th>\n",
       "      <td>158822.0846</td>\n",
       "      <td>519287.973613</td>\n",
       "      <td>44.0</td>\n",
       "      <td>0.002536</td>\n",
       "      <td>7986.0</td>\n",
       "      <td>0.445841</td>\n",
       "      <td>0</td>\n",
       "      <td>0</td>\n",
       "      <td>0</td>\n",
       "      <td>0</td>\n",
       "      <td>0</td>\n",
       "      <td>0</td>\n",
       "      <td>0</td>\n",
       "      <td>0</td>\n",
       "      <td>0</td>\n",
       "      <td>0</td>\n",
       "      <td>0</td>\n",
       "      <td>0</td>\n",
       "      <td>0</td>\n",
       "      <td>0</td>\n",
       "      <td>0</td>\n",
       "      <td>0</td>\n",
       "      <td>0</td>\n",
       "      <td>0</td>\n",
       "      <td>0</td>\n",
       "      <td>0</td>\n",
       "      <td>0</td>\n",
       "      <td>0</td>\n",
       "      <td>0</td>\n",
       "      <td>0</td>\n",
       "      <td>0</td>\n",
       "      <td>0</td>\n",
       "      <td>0</td>\n",
       "      <td>0</td>\n",
       "      <td>0</td>\n",
       "      <td>0</td>\n",
       "      <td>0</td>\n",
       "      <td>0</td>\n",
       "      <td>0</td>\n",
       "      <td>0</td>\n",
       "      <td>0</td>\n",
       "      <td>0</td>\n",
       "      <td>0</td>\n",
       "      <td>0</td>\n",
       "      <td>0</td>\n",
       "      <td>0</td>\n",
       "      <td>0</td>\n",
       "      <td>0</td>\n",
       "      <td>0</td>\n",
       "      <td>0</td>\n",
       "      <td>0</td>\n",
       "      <td>0</td>\n",
       "      <td>0</td>\n",
       "      <td>0</td>\n",
       "      <td>0</td>\n",
       "      <td>0</td>\n",
       "      <td>0</td>\n",
       "      <td>0</td>\n",
       "      <td>0</td>\n",
       "      <td>0</td>\n",
       "      <td>0</td>\n",
       "      <td>0</td>\n",
       "      <td>0</td>\n",
       "      <td>0</td>\n",
       "      <td>0</td>\n",
       "      <td>0</td>\n",
       "      <td>0</td>\n",
       "      <td>0</td>\n",
       "      <td>0</td>\n",
       "      <td>0</td>\n",
       "      <td>0</td>\n",
       "      <td>0</td>\n",
       "      <td>0</td>\n",
       "      <td>1</td>\n",
       "    </tr>\n",
       "    <tr>\n",
       "      <th>4951</th>\n",
       "      <td>165377.2505</td>\n",
       "      <td>526855.627776</td>\n",
       "      <td>53.0</td>\n",
       "      <td>0.002809</td>\n",
       "      <td>7905.0</td>\n",
       "      <td>0.435032</td>\n",
       "      <td>0</td>\n",
       "      <td>0</td>\n",
       "      <td>0</td>\n",
       "      <td>0</td>\n",
       "      <td>0</td>\n",
       "      <td>0</td>\n",
       "      <td>0</td>\n",
       "      <td>0</td>\n",
       "      <td>0</td>\n",
       "      <td>0</td>\n",
       "      <td>0</td>\n",
       "      <td>0</td>\n",
       "      <td>0</td>\n",
       "      <td>0</td>\n",
       "      <td>0</td>\n",
       "      <td>0</td>\n",
       "      <td>0</td>\n",
       "      <td>0</td>\n",
       "      <td>0</td>\n",
       "      <td>0</td>\n",
       "      <td>0</td>\n",
       "      <td>0</td>\n",
       "      <td>0</td>\n",
       "      <td>0</td>\n",
       "      <td>0</td>\n",
       "      <td>0</td>\n",
       "      <td>0</td>\n",
       "      <td>0</td>\n",
       "      <td>0</td>\n",
       "      <td>0</td>\n",
       "      <td>0</td>\n",
       "      <td>0</td>\n",
       "      <td>0</td>\n",
       "      <td>0</td>\n",
       "      <td>0</td>\n",
       "      <td>0</td>\n",
       "      <td>0</td>\n",
       "      <td>0</td>\n",
       "      <td>0</td>\n",
       "      <td>0</td>\n",
       "      <td>0</td>\n",
       "      <td>0</td>\n",
       "      <td>0</td>\n",
       "      <td>0</td>\n",
       "      <td>0</td>\n",
       "      <td>0</td>\n",
       "      <td>0</td>\n",
       "      <td>0</td>\n",
       "      <td>0</td>\n",
       "      <td>0</td>\n",
       "      <td>0</td>\n",
       "      <td>0</td>\n",
       "      <td>0</td>\n",
       "      <td>0</td>\n",
       "      <td>0</td>\n",
       "      <td>0</td>\n",
       "      <td>0</td>\n",
       "      <td>0</td>\n",
       "      <td>0</td>\n",
       "      <td>0</td>\n",
       "      <td>0</td>\n",
       "      <td>0</td>\n",
       "      <td>0</td>\n",
       "      <td>0</td>\n",
       "      <td>0</td>\n",
       "      <td>0</td>\n",
       "      <td>0</td>\n",
       "      <td>1</td>\n",
       "    </tr>\n",
       "    <tr>\n",
       "      <th>4952</th>\n",
       "      <td>162917.1169</td>\n",
       "      <td>542519.291667</td>\n",
       "      <td>41.0</td>\n",
       "      <td>0.002260</td>\n",
       "      <td>7927.0</td>\n",
       "      <td>0.428469</td>\n",
       "      <td>0</td>\n",
       "      <td>0</td>\n",
       "      <td>0</td>\n",
       "      <td>0</td>\n",
       "      <td>0</td>\n",
       "      <td>0</td>\n",
       "      <td>0</td>\n",
       "      <td>0</td>\n",
       "      <td>0</td>\n",
       "      <td>0</td>\n",
       "      <td>0</td>\n",
       "      <td>0</td>\n",
       "      <td>0</td>\n",
       "      <td>0</td>\n",
       "      <td>0</td>\n",
       "      <td>0</td>\n",
       "      <td>0</td>\n",
       "      <td>0</td>\n",
       "      <td>0</td>\n",
       "      <td>0</td>\n",
       "      <td>0</td>\n",
       "      <td>0</td>\n",
       "      <td>0</td>\n",
       "      <td>0</td>\n",
       "      <td>0</td>\n",
       "      <td>0</td>\n",
       "      <td>0</td>\n",
       "      <td>0</td>\n",
       "      <td>0</td>\n",
       "      <td>0</td>\n",
       "      <td>0</td>\n",
       "      <td>0</td>\n",
       "      <td>0</td>\n",
       "      <td>0</td>\n",
       "      <td>0</td>\n",
       "      <td>0</td>\n",
       "      <td>0</td>\n",
       "      <td>0</td>\n",
       "      <td>0</td>\n",
       "      <td>0</td>\n",
       "      <td>0</td>\n",
       "      <td>0</td>\n",
       "      <td>0</td>\n",
       "      <td>0</td>\n",
       "      <td>0</td>\n",
       "      <td>0</td>\n",
       "      <td>0</td>\n",
       "      <td>0</td>\n",
       "      <td>0</td>\n",
       "      <td>0</td>\n",
       "      <td>0</td>\n",
       "      <td>0</td>\n",
       "      <td>0</td>\n",
       "      <td>0</td>\n",
       "      <td>0</td>\n",
       "      <td>0</td>\n",
       "      <td>0</td>\n",
       "      <td>0</td>\n",
       "      <td>0</td>\n",
       "      <td>0</td>\n",
       "      <td>0</td>\n",
       "      <td>0</td>\n",
       "      <td>0</td>\n",
       "      <td>0</td>\n",
       "      <td>0</td>\n",
       "      <td>0</td>\n",
       "      <td>0</td>\n",
       "      <td>1</td>\n",
       "    </tr>\n",
       "    <tr>\n",
       "      <th>4953</th>\n",
       "      <td>133906.8864</td>\n",
       "      <td>563538.537500</td>\n",
       "      <td>49.0</td>\n",
       "      <td>0.002624</td>\n",
       "      <td>8035.0</td>\n",
       "      <td>0.425718</td>\n",
       "      <td>0</td>\n",
       "      <td>0</td>\n",
       "      <td>0</td>\n",
       "      <td>0</td>\n",
       "      <td>0</td>\n",
       "      <td>0</td>\n",
       "      <td>0</td>\n",
       "      <td>0</td>\n",
       "      <td>0</td>\n",
       "      <td>0</td>\n",
       "      <td>0</td>\n",
       "      <td>0</td>\n",
       "      <td>0</td>\n",
       "      <td>0</td>\n",
       "      <td>0</td>\n",
       "      <td>0</td>\n",
       "      <td>0</td>\n",
       "      <td>0</td>\n",
       "      <td>0</td>\n",
       "      <td>0</td>\n",
       "      <td>0</td>\n",
       "      <td>0</td>\n",
       "      <td>0</td>\n",
       "      <td>0</td>\n",
       "      <td>0</td>\n",
       "      <td>0</td>\n",
       "      <td>0</td>\n",
       "      <td>0</td>\n",
       "      <td>0</td>\n",
       "      <td>0</td>\n",
       "      <td>0</td>\n",
       "      <td>0</td>\n",
       "      <td>0</td>\n",
       "      <td>0</td>\n",
       "      <td>0</td>\n",
       "      <td>0</td>\n",
       "      <td>0</td>\n",
       "      <td>0</td>\n",
       "      <td>0</td>\n",
       "      <td>0</td>\n",
       "      <td>0</td>\n",
       "      <td>0</td>\n",
       "      <td>0</td>\n",
       "      <td>0</td>\n",
       "      <td>0</td>\n",
       "      <td>0</td>\n",
       "      <td>0</td>\n",
       "      <td>0</td>\n",
       "      <td>0</td>\n",
       "      <td>0</td>\n",
       "      <td>0</td>\n",
       "      <td>0</td>\n",
       "      <td>0</td>\n",
       "      <td>0</td>\n",
       "      <td>0</td>\n",
       "      <td>0</td>\n",
       "      <td>0</td>\n",
       "      <td>0</td>\n",
       "      <td>0</td>\n",
       "      <td>0</td>\n",
       "      <td>0</td>\n",
       "      <td>0</td>\n",
       "      <td>0</td>\n",
       "      <td>0</td>\n",
       "      <td>0</td>\n",
       "      <td>0</td>\n",
       "      <td>0</td>\n",
       "      <td>1</td>\n",
       "    </tr>\n",
       "    <tr>\n",
       "      <th>4954</th>\n",
       "      <td>121625.3184</td>\n",
       "      <td>567802.641666</td>\n",
       "      <td>35.0</td>\n",
       "      <td>0.001833</td>\n",
       "      <td>8017.0</td>\n",
       "      <td>0.420465</td>\n",
       "      <td>0</td>\n",
       "      <td>0</td>\n",
       "      <td>0</td>\n",
       "      <td>0</td>\n",
       "      <td>0</td>\n",
       "      <td>0</td>\n",
       "      <td>0</td>\n",
       "      <td>0</td>\n",
       "      <td>0</td>\n",
       "      <td>0</td>\n",
       "      <td>0</td>\n",
       "      <td>0</td>\n",
       "      <td>0</td>\n",
       "      <td>0</td>\n",
       "      <td>0</td>\n",
       "      <td>0</td>\n",
       "      <td>0</td>\n",
       "      <td>0</td>\n",
       "      <td>0</td>\n",
       "      <td>0</td>\n",
       "      <td>0</td>\n",
       "      <td>0</td>\n",
       "      <td>0</td>\n",
       "      <td>0</td>\n",
       "      <td>0</td>\n",
       "      <td>0</td>\n",
       "      <td>0</td>\n",
       "      <td>0</td>\n",
       "      <td>0</td>\n",
       "      <td>0</td>\n",
       "      <td>0</td>\n",
       "      <td>0</td>\n",
       "      <td>0</td>\n",
       "      <td>0</td>\n",
       "      <td>0</td>\n",
       "      <td>0</td>\n",
       "      <td>0</td>\n",
       "      <td>0</td>\n",
       "      <td>0</td>\n",
       "      <td>0</td>\n",
       "      <td>0</td>\n",
       "      <td>0</td>\n",
       "      <td>0</td>\n",
       "      <td>0</td>\n",
       "      <td>0</td>\n",
       "      <td>0</td>\n",
       "      <td>0</td>\n",
       "      <td>0</td>\n",
       "      <td>0</td>\n",
       "      <td>0</td>\n",
       "      <td>0</td>\n",
       "      <td>0</td>\n",
       "      <td>0</td>\n",
       "      <td>0</td>\n",
       "      <td>0</td>\n",
       "      <td>0</td>\n",
       "      <td>0</td>\n",
       "      <td>0</td>\n",
       "      <td>0</td>\n",
       "      <td>0</td>\n",
       "      <td>0</td>\n",
       "      <td>0</td>\n",
       "      <td>0</td>\n",
       "      <td>0</td>\n",
       "      <td>0</td>\n",
       "      <td>0</td>\n",
       "      <td>0</td>\n",
       "      <td>1</td>\n",
       "    </tr>\n",
       "  </tbody>\n",
       "</table>\n",
       "<p>4955 rows × 74 columns</p>\n",
       "</div>"
      ],
      "text/plain": [
       "       CASES_SOLD  MAX_WKLY_INVENTORY  MAX_VIRTUAL_SLOT_POSITIONS  \\\n",
       "0     125766.5582       504549.312504                        38.0   \n",
       "1     130699.0329       505326.354171                        37.0   \n",
       "2     131386.2356       494993.050005                        35.0   \n",
       "3     136079.6219       497737.160838                        39.0   \n",
       "4     129391.5811       514711.669166                        36.0   \n",
       "...           ...                 ...                         ...   \n",
       "4950  158822.0846       519287.973613                        44.0   \n",
       "4951  165377.2505       526855.627776                        53.0   \n",
       "4952  162917.1169       542519.291667                        41.0   \n",
       "4953  133906.8864       563538.537500                        49.0   \n",
       "4954  121625.3184       567802.641666                        35.0   \n",
       "\n",
       "      MAX_PERC_VIRTUAL_SLOTS  MAX_PICK_POSITIONS  MAX_PERC_PICK  BRNCH_CD_2G  \\\n",
       "0                   0.002127              8892.0       0.487828            1   \n",
       "1                   0.002073              8809.0       0.490418            1   \n",
       "2                   0.001957              8746.0       0.489869            1   \n",
       "3                   0.002139              8792.0       0.482123            1   \n",
       "4                   0.001988              8797.0       0.479388            1   \n",
       "...                      ...                 ...            ...          ...   \n",
       "4950                0.002536              7986.0       0.445841            0   \n",
       "4951                0.002809              7905.0       0.435032            0   \n",
       "4952                0.002260              7927.0       0.428469            0   \n",
       "4953                0.002624              8035.0       0.425718            0   \n",
       "4954                0.001833              8017.0       0.420465            0   \n",
       "\n",
       "      BRNCH_CD_2I  BRNCH_CD_2J  BRNCH_CD_2L  BRNCH_CD_2N  BRNCH_CD_2O  \\\n",
       "0               0            0            0            0            0   \n",
       "1               0            0            0            0            0   \n",
       "2               0            0            0            0            0   \n",
       "3               0            0            0            0            0   \n",
       "4               0            0            0            0            0   \n",
       "...           ...          ...          ...          ...          ...   \n",
       "4950            0            0            0            0            0   \n",
       "4951            0            0            0            0            0   \n",
       "4952            0            0            0            0            0   \n",
       "4953            0            0            0            0            0   \n",
       "4954            0            0            0            0            0   \n",
       "\n",
       "      BRNCH_CD_2R  BRNCH_CD_2Z  BRNCH_CD_3D  BRNCH_CD_3F  BRNCH_CD_3J  \\\n",
       "0               0            0            0            0            0   \n",
       "1               0            0            0            0            0   \n",
       "2               0            0            0            0            0   \n",
       "3               0            0            0            0            0   \n",
       "4               0            0            0            0            0   \n",
       "...           ...          ...          ...          ...          ...   \n",
       "4950            0            0            0            0            0   \n",
       "4951            0            0            0            0            0   \n",
       "4952            0            0            0            0            0   \n",
       "4953            0            0            0            0            0   \n",
       "4954            0            0            0            0            0   \n",
       "\n",
       "      BRNCH_CD_3K  BRNCH_CD_3L  BRNCH_CD_3M  BRNCH_CD_3V  BRNCH_CD_3W  \\\n",
       "0               0            0            0            0            0   \n",
       "1               0            0            0            0            0   \n",
       "2               0            0            0            0            0   \n",
       "3               0            0            0            0            0   \n",
       "4               0            0            0            0            0   \n",
       "...           ...          ...          ...          ...          ...   \n",
       "4950            0            0            0            0            0   \n",
       "4951            0            0            0            0            0   \n",
       "4952            0            0            0            0            0   \n",
       "4953            0            0            0            0            0   \n",
       "4954            0            0            0            0            0   \n",
       "\n",
       "      BRNCH_CD_3Y  BRNCH_CD_3Z  BRNCH_CD_4C  BRNCH_CD_4H  BRNCH_CD_4I  \\\n",
       "0               0            0            0            0            0   \n",
       "1               0            0            0            0            0   \n",
       "2               0            0            0            0            0   \n",
       "3               0            0            0            0            0   \n",
       "4               0            0            0            0            0   \n",
       "...           ...          ...          ...          ...          ...   \n",
       "4950            0            0            0            0            0   \n",
       "4951            0            0            0            0            0   \n",
       "4952            0            0            0            0            0   \n",
       "4953            0            0            0            0            0   \n",
       "4954            0            0            0            0            0   \n",
       "\n",
       "      BRNCH_CD_4J  BRNCH_CD_4O  BRNCH_CD_4P  BRNCH_CD_4Q  BRNCH_CD_4R  \\\n",
       "0               0            0            0            0            0   \n",
       "1               0            0            0            0            0   \n",
       "2               0            0            0            0            0   \n",
       "3               0            0            0            0            0   \n",
       "4               0            0            0            0            0   \n",
       "...           ...          ...          ...          ...          ...   \n",
       "4950            0            0            0            0            0   \n",
       "4951            0            0            0            0            0   \n",
       "4952            0            0            0            0            0   \n",
       "4953            0            0            0            0            0   \n",
       "4954            0            0            0            0            0   \n",
       "\n",
       "      BRNCH_CD_4U  BRNCH_CD_4V  BRNCH_CD_5D  BRNCH_CD_5E  BRNCH_CD_5G  \\\n",
       "0               0            0            0            0            0   \n",
       "1               0            0            0            0            0   \n",
       "2               0            0            0            0            0   \n",
       "3               0            0            0            0            0   \n",
       "4               0            0            0            0            0   \n",
       "...           ...          ...          ...          ...          ...   \n",
       "4950            0            0            0            0            0   \n",
       "4951            0            0            0            0            0   \n",
       "4952            0            0            0            0            0   \n",
       "4953            0            0            0            0            0   \n",
       "4954            0            0            0            0            0   \n",
       "\n",
       "      BRNCH_CD_5I  BRNCH_CD_5O  BRNCH_CD_5T  BRNCH_CD_5Y  BRNCH_CD_5Z  \\\n",
       "0               0            0            0            0            0   \n",
       "1               0            0            0            0            0   \n",
       "2               0            0            0            0            0   \n",
       "3               0            0            0            0            0   \n",
       "4               0            0            0            0            0   \n",
       "...           ...          ...          ...          ...          ...   \n",
       "4950            0            0            0            0            0   \n",
       "4951            0            0            0            0            0   \n",
       "4952            0            0            0            0            0   \n",
       "4953            0            0            0            0            0   \n",
       "4954            0            0            0            0            0   \n",
       "\n",
       "      BRNCH_CD_6A  BRNCH_CD_6B  BRNCH_CD_6F  BRNCH_CD_6G  BRNCH_CD_6H  \\\n",
       "0               0            0            0            0            0   \n",
       "1               0            0            0            0            0   \n",
       "2               0            0            0            0            0   \n",
       "3               0            0            0            0            0   \n",
       "4               0            0            0            0            0   \n",
       "...           ...          ...          ...          ...          ...   \n",
       "4950            0            0            0            0            0   \n",
       "4951            0            0            0            0            0   \n",
       "4952            0            0            0            0            0   \n",
       "4953            0            0            0            0            0   \n",
       "4954            0            0            0            0            0   \n",
       "\n",
       "      BRNCH_CD_6I  BRNCH_CD_6J  BRNCH_CD_6N  BRNCH_CD_6U  BRNCH_CD_6W  \\\n",
       "0               0            0            0            0            0   \n",
       "1               0            0            0            0            0   \n",
       "2               0            0            0            0            0   \n",
       "3               0            0            0            0            0   \n",
       "4               0            0            0            0            0   \n",
       "...           ...          ...          ...          ...          ...   \n",
       "4950            0            0            0            0            0   \n",
       "4951            0            0            0            0            0   \n",
       "4952            0            0            0            0            0   \n",
       "4953            0            0            0            0            0   \n",
       "4954            0            0            0            0            0   \n",
       "\n",
       "      BRNCH_CD_6Y  BRNCH_CD_6Z  BRNCH_CD_8A  BRNCH_CD_8B  BRNCH_CD_8E  \\\n",
       "0               0            0            0            0            0   \n",
       "1               0            0            0            0            0   \n",
       "2               0            0            0            0            0   \n",
       "3               0            0            0            0            0   \n",
       "4               0            0            0            0            0   \n",
       "...           ...          ...          ...          ...          ...   \n",
       "4950            0            0            0            0            0   \n",
       "4951            0            0            0            0            0   \n",
       "4952            0            0            0            0            0   \n",
       "4953            0            0            0            0            0   \n",
       "4954            0            0            0            0            0   \n",
       "\n",
       "      BRNCH_CD_8L  BRNCH_CD_8N  BRNCH_CD_8O  BRNCH_CD_8S  BRNCH_CD_8T  \\\n",
       "0               0            0            0            0            0   \n",
       "1               0            0            0            0            0   \n",
       "2               0            0            0            0            0   \n",
       "3               0            0            0            0            0   \n",
       "4               0            0            0            0            0   \n",
       "...           ...          ...          ...          ...          ...   \n",
       "4950            0            0            0            0            0   \n",
       "4951            0            0            0            0            0   \n",
       "4952            0            0            0            0            0   \n",
       "4953            0            0            0            0            0   \n",
       "4954            0            0            0            0            0   \n",
       "\n",
       "      BRNCH_CD_8U  BRNCH_CD_8V  BRNCH_CD_9A  BRNCH_CD_9B  BRNCH_CD_9D  \\\n",
       "0               0            0            0            0            0   \n",
       "1               0            0            0            0            0   \n",
       "2               0            0            0            0            0   \n",
       "3               0            0            0            0            0   \n",
       "4               0            0            0            0            0   \n",
       "...           ...          ...          ...          ...          ...   \n",
       "4950            0            0            0            0            0   \n",
       "4951            0            0            0            0            0   \n",
       "4952            0            0            0            0            0   \n",
       "4953            0            0            0            0            0   \n",
       "4954            0            0            0            0            0   \n",
       "\n",
       "      BRNCH_CD_9I  BRNCH_CD_9J  BRNCH_CD_9L  BRNCH_CD_9O  BRNCH_CD_9P  \\\n",
       "0               0            0            0            0            0   \n",
       "1               0            0            0            0            0   \n",
       "2               0            0            0            0            0   \n",
       "3               0            0            0            0            0   \n",
       "4               0            0            0            0            0   \n",
       "...           ...          ...          ...          ...          ...   \n",
       "4950            0            0            0            0            0   \n",
       "4951            0            0            0            0            0   \n",
       "4952            0            0            0            0            0   \n",
       "4953            0            0            0            0            0   \n",
       "4954            0            0            0            0            0   \n",
       "\n",
       "      BRNCH_CD_9Q  BRNCH_CD_9U  \n",
       "0               0            0  \n",
       "1               0            0  \n",
       "2               0            0  \n",
       "3               0            0  \n",
       "4               0            0  \n",
       "...           ...          ...  \n",
       "4950            0            1  \n",
       "4951            0            1  \n",
       "4952            0            1  \n",
       "4953            0            1  \n",
       "4954            0            1  \n",
       "\n",
       "[4955 rows x 74 columns]"
      ]
     },
     "execution_count": 41,
     "metadata": {},
     "output_type": "execute_result"
    }
   ],
   "source": [
    "x = pd.get_dummies(final.drop(['CAPACITY', 'FISC_YR_WK'], axis=1))\n",
    "y = final['CAPACITY']\n",
    "x"
   ]
  },
  {
   "cell_type": "code",
   "execution_count": 42,
   "id": "64b6516f",
   "metadata": {},
   "outputs": [
    {
     "name": "stdout",
     "output_type": "stream",
     "text": [
      "5.544248716717709e+19\n"
     ]
    }
   ],
   "source": [
    "# Train/test split\n",
    "x_train, x_test, y_train, y_test = train_test_split(x, y, random_state=12345)\n",
    "\n",
    "# Scoring method\n",
    "scorer = make_scorer(mean_squared_error)\n",
    "\n",
    "# PCA parameters\n",
    "components = None\n",
    "\n",
    "# Baseline linear regression model\n",
    "pipe = Pipeline([('robust scaling', RobustScaler(with_centering=False)),\n",
    "                 #('pca', PCA(n_components=components)),\n",
    "                 ('lm', LinearRegression())])\n",
    "pipe.fit(x_train, y_train)\n",
    "res = cross_validate(pipe, x_test, y_test, cv=5, scoring=scorer)\n",
    "print(np.mean(res['test_score']))"
   ]
  },
  {
   "cell_type": "code",
   "execution_count": 43,
   "id": "9838f48d",
   "metadata": {},
   "outputs": [
    {
     "data": {
      "text/html": [
       "<table class=\"simpletable\">\n",
       "<caption>OLS Regression Results</caption>\n",
       "<tr>\n",
       "  <th>Dep. Variable:</th>        <td>CAPACITY</td>     <th>  R-squared:         </th>  <td>   0.938</td> \n",
       "</tr>\n",
       "<tr>\n",
       "  <th>Model:</th>                   <td>OLS</td>       <th>  Adj. R-squared:    </th>  <td>   0.937</td> \n",
       "</tr>\n",
       "<tr>\n",
       "  <th>Method:</th>             <td>Least Squares</td>  <th>  F-statistic:       </th>  <td>   755.1</td> \n",
       "</tr>\n",
       "<tr>\n",
       "  <th>Date:</th>             <td>Fri, 24 Mar 2023</td> <th>  Prob (F-statistic):</th>   <td>  0.00</td>  \n",
       "</tr>\n",
       "<tr>\n",
       "  <th>Time:</th>                 <td>08:51:48</td>     <th>  Log-Likelihood:    </th>  <td>  8930.6</td> \n",
       "</tr>\n",
       "<tr>\n",
       "  <th>No. Observations:</th>      <td>  3716</td>      <th>  AIC:               </th> <td>-1.771e+04</td>\n",
       "</tr>\n",
       "<tr>\n",
       "  <th>Df Residuals:</th>          <td>  3642</td>      <th>  BIC:               </th> <td>-1.725e+04</td>\n",
       "</tr>\n",
       "<tr>\n",
       "  <th>Df Model:</th>              <td>    73</td>      <th>                     </th>      <td> </td>    \n",
       "</tr>\n",
       "<tr>\n",
       "  <th>Covariance Type:</th>      <td>nonrobust</td>    <th>                     </th>      <td> </td>    \n",
       "</tr>\n",
       "</table>\n",
       "<table class=\"simpletable\">\n",
       "<tr>\n",
       "               <td></td>                 <th>coef</th>     <th>std err</th>      <th>t</th>      <th>P>|t|</th>  <th>[0.025</th>    <th>0.975]</th>  \n",
       "</tr>\n",
       "<tr>\n",
       "  <th>CASES_SOLD</th>                 <td> 3.702e-08</td> <td> 1.69e-08</td> <td>    2.196</td> <td> 0.028</td> <td> 3.96e-09</td> <td> 7.01e-08</td>\n",
       "</tr>\n",
       "<tr>\n",
       "  <th>MAX_WKLY_INVENTORY</th>         <td> 2.655e-08</td> <td> 4.77e-09</td> <td>    5.570</td> <td> 0.000</td> <td> 1.72e-08</td> <td> 3.59e-08</td>\n",
       "</tr>\n",
       "<tr>\n",
       "  <th>MAX_VIRTUAL_SLOT_POSITIONS</th> <td>-8.637e-06</td> <td> 9.49e-06</td> <td>   -0.910</td> <td> 0.363</td> <td>-2.72e-05</td> <td> 9.96e-06</td>\n",
       "</tr>\n",
       "<tr>\n",
       "  <th>MAX_PERC_VIRTUAL_SLOTS</th>     <td>    0.9066</td> <td>    0.256</td> <td>    3.542</td> <td> 0.000</td> <td>    0.405</td> <td>    1.408</td>\n",
       "</tr>\n",
       "<tr>\n",
       "  <th>MAX_PICK_POSITIONS</th>         <td> 4.824e-05</td> <td> 9.04e-07</td> <td>   53.376</td> <td> 0.000</td> <td> 4.65e-05</td> <td>    5e-05</td>\n",
       "</tr>\n",
       "<tr>\n",
       "  <th>MAX_PERC_PICK</th>              <td>   -1.6836</td> <td>    0.026</td> <td>  -64.260</td> <td> 0.000</td> <td>   -1.735</td> <td>   -1.632</td>\n",
       "</tr>\n",
       "<tr>\n",
       "  <th>BRNCH_CD_2G</th>                <td>    1.1776</td> <td>    0.011</td> <td>  104.580</td> <td> 0.000</td> <td>    1.156</td> <td>    1.200</td>\n",
       "</tr>\n",
       "<tr>\n",
       "  <th>BRNCH_CD_2I</th>                <td>    0.5641</td> <td>    0.015</td> <td>   38.753</td> <td> 0.000</td> <td>    0.536</td> <td>    0.593</td>\n",
       "</tr>\n",
       "<tr>\n",
       "  <th>BRNCH_CD_2J</th>                <td>    0.9485</td> <td>    0.011</td> <td>   84.130</td> <td> 0.000</td> <td>    0.926</td> <td>    0.971</td>\n",
       "</tr>\n",
       "<tr>\n",
       "  <th>BRNCH_CD_2L</th>                <td>    1.3018</td> <td>    0.011</td> <td>  122.596</td> <td> 0.000</td> <td>    1.281</td> <td>    1.323</td>\n",
       "</tr>\n",
       "<tr>\n",
       "  <th>BRNCH_CD_2N</th>                <td>    1.1077</td> <td>    0.008</td> <td>  141.499</td> <td> 0.000</td> <td>    1.092</td> <td>    1.123</td>\n",
       "</tr>\n",
       "<tr>\n",
       "  <th>BRNCH_CD_2O</th>                <td>    0.7747</td> <td>    0.012</td> <td>   64.284</td> <td> 0.000</td> <td>    0.751</td> <td>    0.798</td>\n",
       "</tr>\n",
       "<tr>\n",
       "  <th>BRNCH_CD_2R</th>                <td>    1.2976</td> <td>    0.011</td> <td>  116.815</td> <td> 0.000</td> <td>    1.276</td> <td>    1.319</td>\n",
       "</tr>\n",
       "<tr>\n",
       "  <th>BRNCH_CD_2Z</th>                <td>    1.1150</td> <td>    0.011</td> <td>  105.137</td> <td> 0.000</td> <td>    1.094</td> <td>    1.136</td>\n",
       "</tr>\n",
       "<tr>\n",
       "  <th>BRNCH_CD_3D</th>                <td>    1.3305</td> <td>    0.012</td> <td>  111.094</td> <td> 0.000</td> <td>    1.307</td> <td>    1.354</td>\n",
       "</tr>\n",
       "<tr>\n",
       "  <th>BRNCH_CD_3F</th>                <td>    0.9483</td> <td>    0.014</td> <td>   70.142</td> <td> 0.000</td> <td>    0.922</td> <td>    0.975</td>\n",
       "</tr>\n",
       "<tr>\n",
       "  <th>BRNCH_CD_3J</th>                <td>    1.7088</td> <td>    0.017</td> <td>  102.288</td> <td> 0.000</td> <td>    1.676</td> <td>    1.742</td>\n",
       "</tr>\n",
       "<tr>\n",
       "  <th>BRNCH_CD_3K</th>                <td>    1.2959</td> <td>    0.015</td> <td>   84.657</td> <td> 0.000</td> <td>    1.266</td> <td>    1.326</td>\n",
       "</tr>\n",
       "<tr>\n",
       "  <th>BRNCH_CD_3L</th>                <td>    1.5172</td> <td>    0.014</td> <td>  105.084</td> <td> 0.000</td> <td>    1.489</td> <td>    1.546</td>\n",
       "</tr>\n",
       "<tr>\n",
       "  <th>BRNCH_CD_3M</th>                <td>    0.7152</td> <td>    0.011</td> <td>   67.234</td> <td> 0.000</td> <td>    0.694</td> <td>    0.736</td>\n",
       "</tr>\n",
       "<tr>\n",
       "  <th>BRNCH_CD_3V</th>                <td>    1.1021</td> <td>    0.011</td> <td>  101.455</td> <td> 0.000</td> <td>    1.081</td> <td>    1.123</td>\n",
       "</tr>\n",
       "<tr>\n",
       "  <th>BRNCH_CD_3W</th>                <td>    1.0981</td> <td>    0.011</td> <td>  100.632</td> <td> 0.000</td> <td>    1.077</td> <td>    1.120</td>\n",
       "</tr>\n",
       "<tr>\n",
       "  <th>BRNCH_CD_3Y</th>                <td>    1.0262</td> <td>    0.012</td> <td>   87.439</td> <td> 0.000</td> <td>    1.003</td> <td>    1.049</td>\n",
       "</tr>\n",
       "<tr>\n",
       "  <th>BRNCH_CD_3Z</th>                <td>    1.2287</td> <td>    0.011</td> <td>  109.637</td> <td> 0.000</td> <td>    1.207</td> <td>    1.251</td>\n",
       "</tr>\n",
       "<tr>\n",
       "  <th>BRNCH_CD_4C</th>                <td>    0.7400</td> <td>    0.013</td> <td>   55.018</td> <td> 0.000</td> <td>    0.714</td> <td>    0.766</td>\n",
       "</tr>\n",
       "<tr>\n",
       "  <th>BRNCH_CD_4H</th>                <td>    1.0408</td> <td>    0.011</td> <td>   95.557</td> <td> 0.000</td> <td>    1.019</td> <td>    1.062</td>\n",
       "</tr>\n",
       "<tr>\n",
       "  <th>BRNCH_CD_4I</th>                <td>    0.9360</td> <td>    0.011</td> <td>   84.532</td> <td> 0.000</td> <td>    0.914</td> <td>    0.958</td>\n",
       "</tr>\n",
       "<tr>\n",
       "  <th>BRNCH_CD_4J</th>                <td>    1.3169</td> <td>    0.012</td> <td>  111.689</td> <td> 0.000</td> <td>    1.294</td> <td>    1.340</td>\n",
       "</tr>\n",
       "<tr>\n",
       "  <th>BRNCH_CD_4O</th>                <td>    0.8288</td> <td>    0.013</td> <td>   63.882</td> <td> 0.000</td> <td>    0.803</td> <td>    0.854</td>\n",
       "</tr>\n",
       "<tr>\n",
       "  <th>BRNCH_CD_4P</th>                <td>    0.9342</td> <td>    0.013</td> <td>   72.905</td> <td> 0.000</td> <td>    0.909</td> <td>    0.959</td>\n",
       "</tr>\n",
       "<tr>\n",
       "  <th>BRNCH_CD_4Q</th>                <td>    1.1012</td> <td>    0.011</td> <td>   97.228</td> <td> 0.000</td> <td>    1.079</td> <td>    1.123</td>\n",
       "</tr>\n",
       "<tr>\n",
       "  <th>BRNCH_CD_4R</th>                <td>    1.3058</td> <td>    0.012</td> <td>  106.470</td> <td> 0.000</td> <td>    1.282</td> <td>    1.330</td>\n",
       "</tr>\n",
       "<tr>\n",
       "  <th>BRNCH_CD_4U</th>                <td>    1.0969</td> <td>    0.011</td> <td>   95.835</td> <td> 0.000</td> <td>    1.074</td> <td>    1.119</td>\n",
       "</tr>\n",
       "<tr>\n",
       "  <th>BRNCH_CD_4V</th>                <td>    1.0279</td> <td>    0.010</td> <td>  104.647</td> <td> 0.000</td> <td>    1.009</td> <td>    1.047</td>\n",
       "</tr>\n",
       "<tr>\n",
       "  <th>BRNCH_CD_5D</th>                <td>    0.5442</td> <td>    0.014</td> <td>   39.068</td> <td> 0.000</td> <td>    0.517</td> <td>    0.571</td>\n",
       "</tr>\n",
       "<tr>\n",
       "  <th>BRNCH_CD_5E</th>                <td>    0.6324</td> <td>    0.014</td> <td>   44.966</td> <td> 0.000</td> <td>    0.605</td> <td>    0.660</td>\n",
       "</tr>\n",
       "<tr>\n",
       "  <th>BRNCH_CD_5G</th>                <td>    0.6754</td> <td>    0.012</td> <td>   58.398</td> <td> 0.000</td> <td>    0.653</td> <td>    0.698</td>\n",
       "</tr>\n",
       "<tr>\n",
       "  <th>BRNCH_CD_5I</th>                <td>    0.7243</td> <td>    0.014</td> <td>   53.338</td> <td> 0.000</td> <td>    0.698</td> <td>    0.751</td>\n",
       "</tr>\n",
       "<tr>\n",
       "  <th>BRNCH_CD_5O</th>                <td>    0.6691</td> <td>    0.011</td> <td>   60.582</td> <td> 0.000</td> <td>    0.647</td> <td>    0.691</td>\n",
       "</tr>\n",
       "<tr>\n",
       "  <th>BRNCH_CD_5T</th>                <td>    1.0456</td> <td>    0.010</td> <td>  106.878</td> <td> 0.000</td> <td>    1.026</td> <td>    1.065</td>\n",
       "</tr>\n",
       "<tr>\n",
       "  <th>BRNCH_CD_5Y</th>                <td>    0.8778</td> <td>    0.013</td> <td>   69.063</td> <td> 0.000</td> <td>    0.853</td> <td>    0.903</td>\n",
       "</tr>\n",
       "<tr>\n",
       "  <th>BRNCH_CD_5Z</th>                <td>    0.6831</td> <td>    0.014</td> <td>   48.567</td> <td> 0.000</td> <td>    0.656</td> <td>    0.711</td>\n",
       "</tr>\n",
       "<tr>\n",
       "  <th>BRNCH_CD_6A</th>                <td>    1.3913</td> <td>    0.013</td> <td>  105.090</td> <td> 0.000</td> <td>    1.365</td> <td>    1.417</td>\n",
       "</tr>\n",
       "<tr>\n",
       "  <th>BRNCH_CD_6B</th>                <td>    0.6012</td> <td>    0.013</td> <td>   45.707</td> <td> 0.000</td> <td>    0.575</td> <td>    0.627</td>\n",
       "</tr>\n",
       "<tr>\n",
       "  <th>BRNCH_CD_6F</th>                <td>    1.3555</td> <td>    0.012</td> <td>  113.905</td> <td> 0.000</td> <td>    1.332</td> <td>    1.379</td>\n",
       "</tr>\n",
       "<tr>\n",
       "  <th>BRNCH_CD_6G</th>                <td>    1.0455</td> <td>    0.011</td> <td>   94.014</td> <td> 0.000</td> <td>    1.024</td> <td>    1.067</td>\n",
       "</tr>\n",
       "<tr>\n",
       "  <th>BRNCH_CD_6H</th>                <td>    1.1521</td> <td>    0.011</td> <td>  106.430</td> <td> 0.000</td> <td>    1.131</td> <td>    1.173</td>\n",
       "</tr>\n",
       "<tr>\n",
       "  <th>BRNCH_CD_6I</th>                <td>    0.9666</td> <td>    0.012</td> <td>   78.973</td> <td> 0.000</td> <td>    0.943</td> <td>    0.991</td>\n",
       "</tr>\n",
       "<tr>\n",
       "  <th>BRNCH_CD_6J</th>                <td>    0.9541</td> <td>    0.016</td> <td>   59.827</td> <td> 0.000</td> <td>    0.923</td> <td>    0.985</td>\n",
       "</tr>\n",
       "<tr>\n",
       "  <th>BRNCH_CD_6N</th>                <td>    1.2860</td> <td>    0.011</td> <td>  112.726</td> <td> 0.000</td> <td>    1.264</td> <td>    1.308</td>\n",
       "</tr>\n",
       "<tr>\n",
       "  <th>BRNCH_CD_6U</th>                <td>    0.9070</td> <td>    0.010</td> <td>   91.583</td> <td> 0.000</td> <td>    0.888</td> <td>    0.926</td>\n",
       "</tr>\n",
       "<tr>\n",
       "  <th>BRNCH_CD_6W</th>                <td>    0.9342</td> <td>    0.012</td> <td>   78.278</td> <td> 0.000</td> <td>    0.911</td> <td>    0.958</td>\n",
       "</tr>\n",
       "<tr>\n",
       "  <th>BRNCH_CD_6Y</th>                <td>    1.2108</td> <td>    0.013</td> <td>   92.079</td> <td> 0.000</td> <td>    1.185</td> <td>    1.237</td>\n",
       "</tr>\n",
       "<tr>\n",
       "  <th>BRNCH_CD_6Z</th>                <td>    1.0080</td> <td>    0.010</td> <td>   96.856</td> <td> 0.000</td> <td>    0.988</td> <td>    1.028</td>\n",
       "</tr>\n",
       "<tr>\n",
       "  <th>BRNCH_CD_8A</th>                <td>    0.9890</td> <td>    0.008</td> <td>  122.627</td> <td> 0.000</td> <td>    0.973</td> <td>    1.005</td>\n",
       "</tr>\n",
       "<tr>\n",
       "  <th>BRNCH_CD_8B</th>                <td>    0.9481</td> <td>    0.023</td> <td>   40.869</td> <td> 0.000</td> <td>    0.903</td> <td>    0.994</td>\n",
       "</tr>\n",
       "<tr>\n",
       "  <th>BRNCH_CD_8E</th>                <td>    1.0534</td> <td>    0.011</td> <td>   94.232</td> <td> 0.000</td> <td>    1.031</td> <td>    1.075</td>\n",
       "</tr>\n",
       "<tr>\n",
       "  <th>BRNCH_CD_8L</th>                <td>    0.9673</td> <td>    0.011</td> <td>   87.001</td> <td> 0.000</td> <td>    0.945</td> <td>    0.989</td>\n",
       "</tr>\n",
       "<tr>\n",
       "  <th>BRNCH_CD_8N</th>                <td>    0.8812</td> <td>    0.011</td> <td>   79.752</td> <td> 0.000</td> <td>    0.860</td> <td>    0.903</td>\n",
       "</tr>\n",
       "<tr>\n",
       "  <th>BRNCH_CD_8O</th>                <td>    0.7636</td> <td>    0.007</td> <td>  105.206</td> <td> 0.000</td> <td>    0.749</td> <td>    0.778</td>\n",
       "</tr>\n",
       "<tr>\n",
       "  <th>BRNCH_CD_8S</th>                <td>    0.8492</td> <td>    0.011</td> <td>   79.560</td> <td> 0.000</td> <td>    0.828</td> <td>    0.870</td>\n",
       "</tr>\n",
       "<tr>\n",
       "  <th>BRNCH_CD_8T</th>                <td>    1.1774</td> <td>    0.023</td> <td>   50.502</td> <td> 0.000</td> <td>    1.132</td> <td>    1.223</td>\n",
       "</tr>\n",
       "<tr>\n",
       "  <th>BRNCH_CD_8U</th>                <td>    1.1345</td> <td>    0.012</td> <td>   95.416</td> <td> 0.000</td> <td>    1.111</td> <td>    1.158</td>\n",
       "</tr>\n",
       "<tr>\n",
       "  <th>BRNCH_CD_8V</th>                <td>    1.3600</td> <td>    0.011</td> <td>  121.423</td> <td> 0.000</td> <td>    1.338</td> <td>    1.382</td>\n",
       "</tr>\n",
       "<tr>\n",
       "  <th>BRNCH_CD_9A</th>                <td>    1.2913</td> <td>    0.010</td> <td>  131.180</td> <td> 0.000</td> <td>    1.272</td> <td>    1.311</td>\n",
       "</tr>\n",
       "<tr>\n",
       "  <th>BRNCH_CD_9B</th>                <td>    1.1742</td> <td>    0.012</td> <td>   95.674</td> <td> 0.000</td> <td>    1.150</td> <td>    1.198</td>\n",
       "</tr>\n",
       "<tr>\n",
       "  <th>BRNCH_CD_9D</th>                <td>    0.8182</td> <td>    0.012</td> <td>   65.706</td> <td> 0.000</td> <td>    0.794</td> <td>    0.843</td>\n",
       "</tr>\n",
       "<tr>\n",
       "  <th>BRNCH_CD_9I</th>                <td>    1.4655</td> <td>    0.013</td> <td>  111.231</td> <td> 0.000</td> <td>    1.440</td> <td>    1.491</td>\n",
       "</tr>\n",
       "<tr>\n",
       "  <th>BRNCH_CD_9J</th>                <td>    1.2546</td> <td>    0.019</td> <td>   66.523</td> <td> 0.000</td> <td>    1.218</td> <td>    1.292</td>\n",
       "</tr>\n",
       "<tr>\n",
       "  <th>BRNCH_CD_9L</th>                <td>    1.0282</td> <td>    0.011</td> <td>   91.271</td> <td> 0.000</td> <td>    1.006</td> <td>    1.050</td>\n",
       "</tr>\n",
       "<tr>\n",
       "  <th>BRNCH_CD_9O</th>                <td>    1.1931</td> <td>    0.010</td> <td>  121.519</td> <td> 0.000</td> <td>    1.174</td> <td>    1.212</td>\n",
       "</tr>\n",
       "<tr>\n",
       "  <th>BRNCH_CD_9P</th>                <td>    0.7464</td> <td>    0.011</td> <td>   67.255</td> <td> 0.000</td> <td>    0.725</td> <td>    0.768</td>\n",
       "</tr>\n",
       "<tr>\n",
       "  <th>BRNCH_CD_9Q</th>                <td>    1.0201</td> <td>    0.011</td> <td>   92.514</td> <td> 0.000</td> <td>    0.998</td> <td>    1.042</td>\n",
       "</tr>\n",
       "<tr>\n",
       "  <th>BRNCH_CD_9U</th>                <td>    1.1159</td> <td>    0.011</td> <td>  102.305</td> <td> 0.000</td> <td>    1.095</td> <td>    1.137</td>\n",
       "</tr>\n",
       "</table>\n",
       "<table class=\"simpletable\">\n",
       "<tr>\n",
       "  <th>Omnibus:</th>       <td>3024.792</td> <th>  Durbin-Watson:     </th>  <td>   1.977</td> \n",
       "</tr>\n",
       "<tr>\n",
       "  <th>Prob(Omnibus):</th>  <td> 0.000</td>  <th>  Jarque-Bera (JB):  </th> <td>291694.048</td>\n",
       "</tr>\n",
       "<tr>\n",
       "  <th>Skew:</th>           <td>-3.267</td>  <th>  Prob(JB):          </th>  <td>    0.00</td> \n",
       "</tr>\n",
       "<tr>\n",
       "  <th>Kurtosis:</th>       <td>45.910</td>  <th>  Cond. No.          </th>  <td>5.97e+08</td> \n",
       "</tr>\n",
       "</table><br/><br/>Notes:<br/>[1] Standard Errors assume that the covariance matrix of the errors is correctly specified.<br/>[2] The condition number is large, 5.97e+08. This might indicate that there are<br/>strong multicollinearity or other numerical problems."
      ],
      "text/plain": [
       "<class 'statsmodels.iolib.summary.Summary'>\n",
       "\"\"\"\n",
       "                            OLS Regression Results                            \n",
       "==============================================================================\n",
       "Dep. Variable:               CAPACITY   R-squared:                       0.938\n",
       "Model:                            OLS   Adj. R-squared:                  0.937\n",
       "Method:                 Least Squares   F-statistic:                     755.1\n",
       "Date:                Fri, 24 Mar 2023   Prob (F-statistic):               0.00\n",
       "Time:                        08:51:48   Log-Likelihood:                 8930.6\n",
       "No. Observations:                3716   AIC:                        -1.771e+04\n",
       "Df Residuals:                    3642   BIC:                        -1.725e+04\n",
       "Df Model:                          73                                         \n",
       "Covariance Type:            nonrobust                                         \n",
       "==============================================================================================\n",
       "                                 coef    std err          t      P>|t|      [0.025      0.975]\n",
       "----------------------------------------------------------------------------------------------\n",
       "CASES_SOLD                  3.702e-08   1.69e-08      2.196      0.028    3.96e-09    7.01e-08\n",
       "MAX_WKLY_INVENTORY          2.655e-08   4.77e-09      5.570      0.000    1.72e-08    3.59e-08\n",
       "MAX_VIRTUAL_SLOT_POSITIONS -8.637e-06   9.49e-06     -0.910      0.363   -2.72e-05    9.96e-06\n",
       "MAX_PERC_VIRTUAL_SLOTS         0.9066      0.256      3.542      0.000       0.405       1.408\n",
       "MAX_PICK_POSITIONS          4.824e-05   9.04e-07     53.376      0.000    4.65e-05       5e-05\n",
       "MAX_PERC_PICK                 -1.6836      0.026    -64.260      0.000      -1.735      -1.632\n",
       "BRNCH_CD_2G                    1.1776      0.011    104.580      0.000       1.156       1.200\n",
       "BRNCH_CD_2I                    0.5641      0.015     38.753      0.000       0.536       0.593\n",
       "BRNCH_CD_2J                    0.9485      0.011     84.130      0.000       0.926       0.971\n",
       "BRNCH_CD_2L                    1.3018      0.011    122.596      0.000       1.281       1.323\n",
       "BRNCH_CD_2N                    1.1077      0.008    141.499      0.000       1.092       1.123\n",
       "BRNCH_CD_2O                    0.7747      0.012     64.284      0.000       0.751       0.798\n",
       "BRNCH_CD_2R                    1.2976      0.011    116.815      0.000       1.276       1.319\n",
       "BRNCH_CD_2Z                    1.1150      0.011    105.137      0.000       1.094       1.136\n",
       "BRNCH_CD_3D                    1.3305      0.012    111.094      0.000       1.307       1.354\n",
       "BRNCH_CD_3F                    0.9483      0.014     70.142      0.000       0.922       0.975\n",
       "BRNCH_CD_3J                    1.7088      0.017    102.288      0.000       1.676       1.742\n",
       "BRNCH_CD_3K                    1.2959      0.015     84.657      0.000       1.266       1.326\n",
       "BRNCH_CD_3L                    1.5172      0.014    105.084      0.000       1.489       1.546\n",
       "BRNCH_CD_3M                    0.7152      0.011     67.234      0.000       0.694       0.736\n",
       "BRNCH_CD_3V                    1.1021      0.011    101.455      0.000       1.081       1.123\n",
       "BRNCH_CD_3W                    1.0981      0.011    100.632      0.000       1.077       1.120\n",
       "BRNCH_CD_3Y                    1.0262      0.012     87.439      0.000       1.003       1.049\n",
       "BRNCH_CD_3Z                    1.2287      0.011    109.637      0.000       1.207       1.251\n",
       "BRNCH_CD_4C                    0.7400      0.013     55.018      0.000       0.714       0.766\n",
       "BRNCH_CD_4H                    1.0408      0.011     95.557      0.000       1.019       1.062\n",
       "BRNCH_CD_4I                    0.9360      0.011     84.532      0.000       0.914       0.958\n",
       "BRNCH_CD_4J                    1.3169      0.012    111.689      0.000       1.294       1.340\n",
       "BRNCH_CD_4O                    0.8288      0.013     63.882      0.000       0.803       0.854\n",
       "BRNCH_CD_4P                    0.9342      0.013     72.905      0.000       0.909       0.959\n",
       "BRNCH_CD_4Q                    1.1012      0.011     97.228      0.000       1.079       1.123\n",
       "BRNCH_CD_4R                    1.3058      0.012    106.470      0.000       1.282       1.330\n",
       "BRNCH_CD_4U                    1.0969      0.011     95.835      0.000       1.074       1.119\n",
       "BRNCH_CD_4V                    1.0279      0.010    104.647      0.000       1.009       1.047\n",
       "BRNCH_CD_5D                    0.5442      0.014     39.068      0.000       0.517       0.571\n",
       "BRNCH_CD_5E                    0.6324      0.014     44.966      0.000       0.605       0.660\n",
       "BRNCH_CD_5G                    0.6754      0.012     58.398      0.000       0.653       0.698\n",
       "BRNCH_CD_5I                    0.7243      0.014     53.338      0.000       0.698       0.751\n",
       "BRNCH_CD_5O                    0.6691      0.011     60.582      0.000       0.647       0.691\n",
       "BRNCH_CD_5T                    1.0456      0.010    106.878      0.000       1.026       1.065\n",
       "BRNCH_CD_5Y                    0.8778      0.013     69.063      0.000       0.853       0.903\n",
       "BRNCH_CD_5Z                    0.6831      0.014     48.567      0.000       0.656       0.711\n",
       "BRNCH_CD_6A                    1.3913      0.013    105.090      0.000       1.365       1.417\n",
       "BRNCH_CD_6B                    0.6012      0.013     45.707      0.000       0.575       0.627\n",
       "BRNCH_CD_6F                    1.3555      0.012    113.905      0.000       1.332       1.379\n",
       "BRNCH_CD_6G                    1.0455      0.011     94.014      0.000       1.024       1.067\n",
       "BRNCH_CD_6H                    1.1521      0.011    106.430      0.000       1.131       1.173\n",
       "BRNCH_CD_6I                    0.9666      0.012     78.973      0.000       0.943       0.991\n",
       "BRNCH_CD_6J                    0.9541      0.016     59.827      0.000       0.923       0.985\n",
       "BRNCH_CD_6N                    1.2860      0.011    112.726      0.000       1.264       1.308\n",
       "BRNCH_CD_6U                    0.9070      0.010     91.583      0.000       0.888       0.926\n",
       "BRNCH_CD_6W                    0.9342      0.012     78.278      0.000       0.911       0.958\n",
       "BRNCH_CD_6Y                    1.2108      0.013     92.079      0.000       1.185       1.237\n",
       "BRNCH_CD_6Z                    1.0080      0.010     96.856      0.000       0.988       1.028\n",
       "BRNCH_CD_8A                    0.9890      0.008    122.627      0.000       0.973       1.005\n",
       "BRNCH_CD_8B                    0.9481      0.023     40.869      0.000       0.903       0.994\n",
       "BRNCH_CD_8E                    1.0534      0.011     94.232      0.000       1.031       1.075\n",
       "BRNCH_CD_8L                    0.9673      0.011     87.001      0.000       0.945       0.989\n",
       "BRNCH_CD_8N                    0.8812      0.011     79.752      0.000       0.860       0.903\n",
       "BRNCH_CD_8O                    0.7636      0.007    105.206      0.000       0.749       0.778\n",
       "BRNCH_CD_8S                    0.8492      0.011     79.560      0.000       0.828       0.870\n",
       "BRNCH_CD_8T                    1.1774      0.023     50.502      0.000       1.132       1.223\n",
       "BRNCH_CD_8U                    1.1345      0.012     95.416      0.000       1.111       1.158\n",
       "BRNCH_CD_8V                    1.3600      0.011    121.423      0.000       1.338       1.382\n",
       "BRNCH_CD_9A                    1.2913      0.010    131.180      0.000       1.272       1.311\n",
       "BRNCH_CD_9B                    1.1742      0.012     95.674      0.000       1.150       1.198\n",
       "BRNCH_CD_9D                    0.8182      0.012     65.706      0.000       0.794       0.843\n",
       "BRNCH_CD_9I                    1.4655      0.013    111.231      0.000       1.440       1.491\n",
       "BRNCH_CD_9J                    1.2546      0.019     66.523      0.000       1.218       1.292\n",
       "BRNCH_CD_9L                    1.0282      0.011     91.271      0.000       1.006       1.050\n",
       "BRNCH_CD_9O                    1.1931      0.010    121.519      0.000       1.174       1.212\n",
       "BRNCH_CD_9P                    0.7464      0.011     67.255      0.000       0.725       0.768\n",
       "BRNCH_CD_9Q                    1.0201      0.011     92.514      0.000       0.998       1.042\n",
       "BRNCH_CD_9U                    1.1159      0.011    102.305      0.000       1.095       1.137\n",
       "==============================================================================\n",
       "Omnibus:                     3024.792   Durbin-Watson:                   1.977\n",
       "Prob(Omnibus):                  0.000   Jarque-Bera (JB):           291694.048\n",
       "Skew:                          -3.267   Prob(JB):                         0.00\n",
       "Kurtosis:                      45.910   Cond. No.                     5.97e+08\n",
       "==============================================================================\n",
       "\n",
       "Notes:\n",
       "[1] Standard Errors assume that the covariance matrix of the errors is correctly specified.\n",
       "[2] The condition number is large, 5.97e+08. This might indicate that there are\n",
       "strong multicollinearity or other numerical problems.\n",
       "\"\"\""
      ]
     },
     "execution_count": 43,
     "metadata": {},
     "output_type": "execute_result"
    }
   ],
   "source": [
    "# Baseline linear regression model\n",
    "fit = sm.OLS(y_train, x_train).fit()\n",
    "fit.summary()"
   ]
  },
  {
   "cell_type": "code",
   "execution_count": 44,
   "id": "6e2b0f37",
   "metadata": {},
   "outputs": [
    {
     "name": "stdout",
     "output_type": "stream",
     "text": [
      "0.0006649788836285429\n"
     ]
    }
   ],
   "source": [
    "# Random forest model\n",
    "rf = Pipeline([('robust scaling', RobustScaler(with_centering=False)),\n",
    "                 #('pca', PCA(n_components=components)),\n",
    "                 ('lm', RandomForestRegressor())])\n",
    "rf.fit(x_train, y_train)\n",
    "res = cross_validate(rf, x_test, y_test, cv=5, scoring=scorer)\n",
    "print(np.mean(res['test_score']))"
   ]
  },
  {
   "cell_type": "code",
   "execution_count": 48,
   "id": "2395b00e",
   "metadata": {},
   "outputs": [
    {
     "name": "stdout",
     "output_type": "stream",
     "text": [
      "0.00035616306462263054\n"
     ]
    }
   ],
   "source": [
    "# Boosted trees model\n",
    "boosted = Pipeline([('robust scaling', RobustScaler(with_centering=False)),\n",
    "                 ('pca', PCA(n_components=components)),\n",
    "                 ('lm', GradientBoostingRegressor(n_estimators=1500))])\n",
    "boosted.fit(x_train, y_train)\n",
    "res = cross_validate(boosted, x_test, y_test, cv=5, scoring=scorer) # seed this later\n",
    "print(sqrt(np.mean(res['test_score'])))"
   ]
  },
  {
   "cell_type": "code",
   "execution_count": 54,
   "id": "98c8bd37",
   "metadata": {},
   "outputs": [
    {
     "name": "stdout",
     "output_type": "stream",
     "text": [
      "0.01887228297325553\n"
     ]
    }
   ],
   "source": [
    "print(np.sqrt(np.mean(res['test_score'])))"
   ]
  },
  {
   "cell_type": "code",
   "execution_count": 55,
   "id": "f209176b",
   "metadata": {},
   "outputs": [
    {
     "name": "stdout",
     "output_type": "stream",
     "text": [
      "Epoch 1/5\n",
      "117/117 [==============================] - 1s 6ms/step - loss: 0.0873\n",
      "Epoch 2/5\n",
      "117/117 [==============================] - 1s 6ms/step - loss: 0.0536\n",
      "Epoch 3/5\n",
      "117/117 [==============================] - 1s 6ms/step - loss: 0.0536\n",
      "Epoch 4/5\n",
      "117/117 [==============================] - 1s 6ms/step - loss: 0.0536\n",
      "Epoch 5/5\n",
      "117/117 [==============================] - 1s 6ms/step - loss: 0.0536\n",
      "39/39 [==============================] - 0s 4ms/step - loss: 0.0549\n",
      "0.054896727204322815\n",
      "[[1.]\n",
      " [1.]\n",
      " [1.]\n",
      " [1.]\n",
      " [1.]]\n"
     ]
    }
   ],
   "source": [
    "# MLP\n",
    "mlp = Sequential()\n",
    "mlp.add(Dense(32, activation='relu', input_shape=(x_train.shape[1],)))\n",
    "mlp.add(Dense(16, activation='relu'))\n",
    "mlp.add(Dense(1, activation='sigmoid'))\n",
    "mlp.compile(optimizer=tf.keras.optimizers.Adam(learning_rate=0.0005), loss='mse')\n",
    "mlp.fit(x_train, y_train, batch_size=32, epochs=5, verbose=1)\n",
    "res = mlp.evaluate(x_test, y_test, batch_size=32)\n",
    "print(res)\n",
    "print(mlp.predict(np.array(x_test.head())))"
   ]
  },
  {
   "cell_type": "code",
   "execution_count": 46,
   "id": "5637a5d1",
   "metadata": {},
   "outputs": [
    {
     "data": {
      "text/plain": [
       "GridSearchCV(estimator=SVR(), n_jobs=4,\n",
       "             param_grid={'C': [0.5, 1, 2], 'gamma': ['scale', 'auto'],\n",
       "                         'kernel': ['rbf']})"
      ]
     },
     "execution_count": 46,
     "metadata": {},
     "output_type": "execute_result"
    }
   ],
   "source": [
    "# Hyperparameter tuning for SVM model\n",
    "# parameters = {'gamma':['scale', 'auto'], 'C':[0.5, 1, 2], 'degree':[1, 2, 3, 4], 'kernel':['poly', 'rbf', 'sigmoid']}\n",
    "parameters = {'C':[0.5, 1, 2], 'kernel':['rbf'], 'gamma':['scale', 'auto']}\n",
    "gs = GridSearchCV(SVR(), parameters, n_jobs=4)\n",
    "gs.fit(x_train, y_train)"
   ]
  },
  {
   "cell_type": "code",
   "execution_count": 47,
   "id": "9d31bafe",
   "metadata": {},
   "outputs": [
    {
     "name": "stdout",
     "output_type": "stream",
     "text": [
      "0.003692924452433968\n"
     ]
    }
   ],
   "source": [
    "# Evaluating best SVM model on test set \n",
    "pipe = Pipeline([('robust scaling', RobustScaler(with_centering=False)),\n",
    "                 #('pca', PCA(n_components=components)),                 \n",
    "                 ('svm', SVR(C=gs.best_params_['C'],\n",
    "                             kernel=gs.best_params_['kernel'],\n",
    "                             gamma=gs.best_params_['gamma']))])\n",
    "pipe.fit(x_train, y_train)\n",
    "res = cross_validate(pipe, x_test, y_test, cv=5, scoring=scorer)\n",
    "print(np.mean(res['test_score']))"
   ]
  },
  {
   "cell_type": "code",
   "execution_count": null,
   "id": "3d2c9f8e",
   "metadata": {},
   "outputs": [],
   "source": []
  }
 ],
 "metadata": {
  "kernelspec": {
   "display_name": "Python 3",
   "language": "python",
   "name": "python3"
  },
  "language_info": {
   "codemirror_mode": {
    "name": "ipython",
    "version": 3
   },
   "file_extension": ".py",
   "mimetype": "text/x-python",
   "name": "python",
   "nbconvert_exporter": "python",
   "pygments_lexer": "ipython3",
   "version": "3.8.8"
  }
 },
 "nbformat": 4,
 "nbformat_minor": 5
}
